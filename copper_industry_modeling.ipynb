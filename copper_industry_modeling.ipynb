{
  "cells": [
    {
      "cell_type": "markdown",
      "metadata": {
        "id": "view-in-github",
        "colab_type": "text"
      },
      "source": [
        "<a href=\"https://colab.research.google.com/github/naren161/Industrial_copper_modeling_ML/blob/main/copper_industry_modeling.ipynb\" target=\"_parent\"><img src=\"https://colab.research.google.com/assets/colab-badge.svg\" alt=\"Open In Colab\"/></a>"
      ]
    },
    {
      "cell_type": "code",
      "execution_count": 7,
      "metadata": {
        "id": "YfQIPfhIxVky"
      },
      "outputs": [],
      "source": [
        "import pandas as pd\n",
        "import numpy as np"
      ]
    },
    {
      "cell_type": "code",
      "execution_count": 8,
      "metadata": {
        "colab": {
          "base_uri": "https://localhost:8080/"
        },
        "id": "okYjRtq85pRk",
        "outputId": "b8379991-0561-4d56-d6a8-a13e3707d63d"
      },
      "outputs": [
        {
          "output_type": "stream",
          "name": "stderr",
          "text": [
            "<ipython-input-8-a964f0939226>:3: DtypeWarning: Columns (2) have mixed types. Specify dtype option on import or set low_memory=False.\n",
            "  df = pd.read_csv(\"/content/Copper_Set.xlsx - Result 1.csv\")\n"
          ]
        }
      ],
      "source": [
        "# reading th file\n",
        "\n",
        "df = pd.read_csv(\"/content/Copper_Set.xlsx - Result 1.csv\")\n",
        "\n",
        "# Set display options to show all columns\n",
        "pd.set_option('display.max_columns', None)"
      ]
    },
    {
      "cell_type": "code",
      "execution_count": 9,
      "metadata": {
        "colab": {
          "base_uri": "https://localhost:8080/",
          "height": 486
        },
        "id": "6qLK5mZV6Df2",
        "outputId": "d871c677-d440-4357-a351-6e25aae62e0e"
      },
      "outputs": [
        {
          "output_type": "execute_result",
          "data": {
            "text/plain": [
              "                                     id   item_date quantity tons    customer  \\\n",
              "0  EC06F063-9DF0-440C-8764-0B0C05A4F6AE  20210401.0     54.151139  30156308.0   \n",
              "1  4E5F4B3D-DDDF-499D-AFDE-A3227EC49425  20210401.0    768.024839  30202938.0   \n",
              "2  E140FF1B-2407-4C02-A0DD-780A093B1158  20210401.0    386.127949  30153963.0   \n",
              "3  F8D507A0-9C62-4EFE-831E-33E1DA53BB50  20210401.0    202.411065  30349574.0   \n",
              "4  4E1C4E78-152B-430A-8094-ADD889C9D0AD  20210401.0    785.526262  30211560.0   \n",
              "\n",
              "   country status item type  application  thickness   width  \\\n",
              "0     28.0    Won         W         10.0       2.00  1500.0   \n",
              "1     25.0    Won         W         41.0       0.80  1210.0   \n",
              "2     30.0    Won        WI         28.0       0.38   952.0   \n",
              "3     32.0    Won         S         59.0       2.30  1317.0   \n",
              "4     28.0    Won         W         10.0       4.00  2000.0   \n",
              "\n",
              "                               material_ref  product_ref  delivery date  \\\n",
              "0                               DEQ1 S460MC   1670798778     20210701.0   \n",
              "1  0000000000000000000000000000000000104991   1668701718     20210401.0   \n",
              "2                                  S0380700       628377     20210101.0   \n",
              "3                   DX51D+ZM310MAO 2.3X1317   1668701718     20210101.0   \n",
              "4                           2_S275JR+AR-CL1       640665     20210301.0   \n",
              "\n",
              "   selling_price  \n",
              "0         854.00  \n",
              "1        1047.00  \n",
              "2         644.33  \n",
              "3         768.00  \n",
              "4         577.00  "
            ],
            "text/html": [
              "\n",
              "  <div id=\"df-d4d74cd1-6c75-4425-a1eb-6a84d965eea3\" class=\"colab-df-container\">\n",
              "    <div>\n",
              "<style scoped>\n",
              "    .dataframe tbody tr th:only-of-type {\n",
              "        vertical-align: middle;\n",
              "    }\n",
              "\n",
              "    .dataframe tbody tr th {\n",
              "        vertical-align: top;\n",
              "    }\n",
              "\n",
              "    .dataframe thead th {\n",
              "        text-align: right;\n",
              "    }\n",
              "</style>\n",
              "<table border=\"1\" class=\"dataframe\">\n",
              "  <thead>\n",
              "    <tr style=\"text-align: right;\">\n",
              "      <th></th>\n",
              "      <th>id</th>\n",
              "      <th>item_date</th>\n",
              "      <th>quantity tons</th>\n",
              "      <th>customer</th>\n",
              "      <th>country</th>\n",
              "      <th>status</th>\n",
              "      <th>item type</th>\n",
              "      <th>application</th>\n",
              "      <th>thickness</th>\n",
              "      <th>width</th>\n",
              "      <th>material_ref</th>\n",
              "      <th>product_ref</th>\n",
              "      <th>delivery date</th>\n",
              "      <th>selling_price</th>\n",
              "    </tr>\n",
              "  </thead>\n",
              "  <tbody>\n",
              "    <tr>\n",
              "      <th>0</th>\n",
              "      <td>EC06F063-9DF0-440C-8764-0B0C05A4F6AE</td>\n",
              "      <td>20210401.0</td>\n",
              "      <td>54.151139</td>\n",
              "      <td>30156308.0</td>\n",
              "      <td>28.0</td>\n",
              "      <td>Won</td>\n",
              "      <td>W</td>\n",
              "      <td>10.0</td>\n",
              "      <td>2.00</td>\n",
              "      <td>1500.0</td>\n",
              "      <td>DEQ1 S460MC</td>\n",
              "      <td>1670798778</td>\n",
              "      <td>20210701.0</td>\n",
              "      <td>854.00</td>\n",
              "    </tr>\n",
              "    <tr>\n",
              "      <th>1</th>\n",
              "      <td>4E5F4B3D-DDDF-499D-AFDE-A3227EC49425</td>\n",
              "      <td>20210401.0</td>\n",
              "      <td>768.024839</td>\n",
              "      <td>30202938.0</td>\n",
              "      <td>25.0</td>\n",
              "      <td>Won</td>\n",
              "      <td>W</td>\n",
              "      <td>41.0</td>\n",
              "      <td>0.80</td>\n",
              "      <td>1210.0</td>\n",
              "      <td>0000000000000000000000000000000000104991</td>\n",
              "      <td>1668701718</td>\n",
              "      <td>20210401.0</td>\n",
              "      <td>1047.00</td>\n",
              "    </tr>\n",
              "    <tr>\n",
              "      <th>2</th>\n",
              "      <td>E140FF1B-2407-4C02-A0DD-780A093B1158</td>\n",
              "      <td>20210401.0</td>\n",
              "      <td>386.127949</td>\n",
              "      <td>30153963.0</td>\n",
              "      <td>30.0</td>\n",
              "      <td>Won</td>\n",
              "      <td>WI</td>\n",
              "      <td>28.0</td>\n",
              "      <td>0.38</td>\n",
              "      <td>952.0</td>\n",
              "      <td>S0380700</td>\n",
              "      <td>628377</td>\n",
              "      <td>20210101.0</td>\n",
              "      <td>644.33</td>\n",
              "    </tr>\n",
              "    <tr>\n",
              "      <th>3</th>\n",
              "      <td>F8D507A0-9C62-4EFE-831E-33E1DA53BB50</td>\n",
              "      <td>20210401.0</td>\n",
              "      <td>202.411065</td>\n",
              "      <td>30349574.0</td>\n",
              "      <td>32.0</td>\n",
              "      <td>Won</td>\n",
              "      <td>S</td>\n",
              "      <td>59.0</td>\n",
              "      <td>2.30</td>\n",
              "      <td>1317.0</td>\n",
              "      <td>DX51D+ZM310MAO 2.3X1317</td>\n",
              "      <td>1668701718</td>\n",
              "      <td>20210101.0</td>\n",
              "      <td>768.00</td>\n",
              "    </tr>\n",
              "    <tr>\n",
              "      <th>4</th>\n",
              "      <td>4E1C4E78-152B-430A-8094-ADD889C9D0AD</td>\n",
              "      <td>20210401.0</td>\n",
              "      <td>785.526262</td>\n",
              "      <td>30211560.0</td>\n",
              "      <td>28.0</td>\n",
              "      <td>Won</td>\n",
              "      <td>W</td>\n",
              "      <td>10.0</td>\n",
              "      <td>4.00</td>\n",
              "      <td>2000.0</td>\n",
              "      <td>2_S275JR+AR-CL1</td>\n",
              "      <td>640665</td>\n",
              "      <td>20210301.0</td>\n",
              "      <td>577.00</td>\n",
              "    </tr>\n",
              "  </tbody>\n",
              "</table>\n",
              "</div>\n",
              "    <div class=\"colab-df-buttons\">\n",
              "\n",
              "  <div class=\"colab-df-container\">\n",
              "    <button class=\"colab-df-convert\" onclick=\"convertToInteractive('df-d4d74cd1-6c75-4425-a1eb-6a84d965eea3')\"\n",
              "            title=\"Convert this dataframe to an interactive table.\"\n",
              "            style=\"display:none;\">\n",
              "\n",
              "  <svg xmlns=\"http://www.w3.org/2000/svg\" height=\"24px\" viewBox=\"0 -960 960 960\">\n",
              "    <path d=\"M120-120v-720h720v720H120Zm60-500h600v-160H180v160Zm220 220h160v-160H400v160Zm0 220h160v-160H400v160ZM180-400h160v-160H180v160Zm440 0h160v-160H620v160ZM180-180h160v-160H180v160Zm440 0h160v-160H620v160Z\"/>\n",
              "  </svg>\n",
              "    </button>\n",
              "\n",
              "  <style>\n",
              "    .colab-df-container {\n",
              "      display:flex;\n",
              "      gap: 12px;\n",
              "    }\n",
              "\n",
              "    .colab-df-convert {\n",
              "      background-color: #E8F0FE;\n",
              "      border: none;\n",
              "      border-radius: 50%;\n",
              "      cursor: pointer;\n",
              "      display: none;\n",
              "      fill: #1967D2;\n",
              "      height: 32px;\n",
              "      padding: 0 0 0 0;\n",
              "      width: 32px;\n",
              "    }\n",
              "\n",
              "    .colab-df-convert:hover {\n",
              "      background-color: #E2EBFA;\n",
              "      box-shadow: 0px 1px 2px rgba(60, 64, 67, 0.3), 0px 1px 3px 1px rgba(60, 64, 67, 0.15);\n",
              "      fill: #174EA6;\n",
              "    }\n",
              "\n",
              "    .colab-df-buttons div {\n",
              "      margin-bottom: 4px;\n",
              "    }\n",
              "\n",
              "    [theme=dark] .colab-df-convert {\n",
              "      background-color: #3B4455;\n",
              "      fill: #D2E3FC;\n",
              "    }\n",
              "\n",
              "    [theme=dark] .colab-df-convert:hover {\n",
              "      background-color: #434B5C;\n",
              "      box-shadow: 0px 1px 3px 1px rgba(0, 0, 0, 0.15);\n",
              "      filter: drop-shadow(0px 1px 2px rgba(0, 0, 0, 0.3));\n",
              "      fill: #FFFFFF;\n",
              "    }\n",
              "  </style>\n",
              "\n",
              "    <script>\n",
              "      const buttonEl =\n",
              "        document.querySelector('#df-d4d74cd1-6c75-4425-a1eb-6a84d965eea3 button.colab-df-convert');\n",
              "      buttonEl.style.display =\n",
              "        google.colab.kernel.accessAllowed ? 'block' : 'none';\n",
              "\n",
              "      async function convertToInteractive(key) {\n",
              "        const element = document.querySelector('#df-d4d74cd1-6c75-4425-a1eb-6a84d965eea3');\n",
              "        const dataTable =\n",
              "          await google.colab.kernel.invokeFunction('convertToInteractive',\n",
              "                                                    [key], {});\n",
              "        if (!dataTable) return;\n",
              "\n",
              "        const docLinkHtml = 'Like what you see? Visit the ' +\n",
              "          '<a target=\"_blank\" href=https://colab.research.google.com/notebooks/data_table.ipynb>data table notebook</a>'\n",
              "          + ' to learn more about interactive tables.';\n",
              "        element.innerHTML = '';\n",
              "        dataTable['output_type'] = 'display_data';\n",
              "        await google.colab.output.renderOutput(dataTable, element);\n",
              "        const docLink = document.createElement('div');\n",
              "        docLink.innerHTML = docLinkHtml;\n",
              "        element.appendChild(docLink);\n",
              "      }\n",
              "    </script>\n",
              "  </div>\n",
              "\n",
              "\n",
              "<div id=\"df-09792c33-a330-4cb0-aaa5-f20f2a330b80\">\n",
              "  <button class=\"colab-df-quickchart\" onclick=\"quickchart('df-09792c33-a330-4cb0-aaa5-f20f2a330b80')\"\n",
              "            title=\"Suggest charts\"\n",
              "            style=\"display:none;\">\n",
              "\n",
              "<svg xmlns=\"http://www.w3.org/2000/svg\" height=\"24px\"viewBox=\"0 0 24 24\"\n",
              "     width=\"24px\">\n",
              "    <g>\n",
              "        <path d=\"M19 3H5c-1.1 0-2 .9-2 2v14c0 1.1.9 2 2 2h14c1.1 0 2-.9 2-2V5c0-1.1-.9-2-2-2zM9 17H7v-7h2v7zm4 0h-2V7h2v10zm4 0h-2v-4h2v4z\"/>\n",
              "    </g>\n",
              "</svg>\n",
              "  </button>\n",
              "\n",
              "<style>\n",
              "  .colab-df-quickchart {\n",
              "      --bg-color: #E8F0FE;\n",
              "      --fill-color: #1967D2;\n",
              "      --hover-bg-color: #E2EBFA;\n",
              "      --hover-fill-color: #174EA6;\n",
              "      --disabled-fill-color: #AAA;\n",
              "      --disabled-bg-color: #DDD;\n",
              "  }\n",
              "\n",
              "  [theme=dark] .colab-df-quickchart {\n",
              "      --bg-color: #3B4455;\n",
              "      --fill-color: #D2E3FC;\n",
              "      --hover-bg-color: #434B5C;\n",
              "      --hover-fill-color: #FFFFFF;\n",
              "      --disabled-bg-color: #3B4455;\n",
              "      --disabled-fill-color: #666;\n",
              "  }\n",
              "\n",
              "  .colab-df-quickchart {\n",
              "    background-color: var(--bg-color);\n",
              "    border: none;\n",
              "    border-radius: 50%;\n",
              "    cursor: pointer;\n",
              "    display: none;\n",
              "    fill: var(--fill-color);\n",
              "    height: 32px;\n",
              "    padding: 0;\n",
              "    width: 32px;\n",
              "  }\n",
              "\n",
              "  .colab-df-quickchart:hover {\n",
              "    background-color: var(--hover-bg-color);\n",
              "    box-shadow: 0 1px 2px rgba(60, 64, 67, 0.3), 0 1px 3px 1px rgba(60, 64, 67, 0.15);\n",
              "    fill: var(--button-hover-fill-color);\n",
              "  }\n",
              "\n",
              "  .colab-df-quickchart-complete:disabled,\n",
              "  .colab-df-quickchart-complete:disabled:hover {\n",
              "    background-color: var(--disabled-bg-color);\n",
              "    fill: var(--disabled-fill-color);\n",
              "    box-shadow: none;\n",
              "  }\n",
              "\n",
              "  .colab-df-spinner {\n",
              "    border: 2px solid var(--fill-color);\n",
              "    border-color: transparent;\n",
              "    border-bottom-color: var(--fill-color);\n",
              "    animation:\n",
              "      spin 1s steps(1) infinite;\n",
              "  }\n",
              "\n",
              "  @keyframes spin {\n",
              "    0% {\n",
              "      border-color: transparent;\n",
              "      border-bottom-color: var(--fill-color);\n",
              "      border-left-color: var(--fill-color);\n",
              "    }\n",
              "    20% {\n",
              "      border-color: transparent;\n",
              "      border-left-color: var(--fill-color);\n",
              "      border-top-color: var(--fill-color);\n",
              "    }\n",
              "    30% {\n",
              "      border-color: transparent;\n",
              "      border-left-color: var(--fill-color);\n",
              "      border-top-color: var(--fill-color);\n",
              "      border-right-color: var(--fill-color);\n",
              "    }\n",
              "    40% {\n",
              "      border-color: transparent;\n",
              "      border-right-color: var(--fill-color);\n",
              "      border-top-color: var(--fill-color);\n",
              "    }\n",
              "    60% {\n",
              "      border-color: transparent;\n",
              "      border-right-color: var(--fill-color);\n",
              "    }\n",
              "    80% {\n",
              "      border-color: transparent;\n",
              "      border-right-color: var(--fill-color);\n",
              "      border-bottom-color: var(--fill-color);\n",
              "    }\n",
              "    90% {\n",
              "      border-color: transparent;\n",
              "      border-bottom-color: var(--fill-color);\n",
              "    }\n",
              "  }\n",
              "</style>\n",
              "\n",
              "  <script>\n",
              "    async function quickchart(key) {\n",
              "      const quickchartButtonEl =\n",
              "        document.querySelector('#' + key + ' button');\n",
              "      quickchartButtonEl.disabled = true;  // To prevent multiple clicks.\n",
              "      quickchartButtonEl.classList.add('colab-df-spinner');\n",
              "      try {\n",
              "        const charts = await google.colab.kernel.invokeFunction(\n",
              "            'suggestCharts', [key], {});\n",
              "      } catch (error) {\n",
              "        console.error('Error during call to suggestCharts:', error);\n",
              "      }\n",
              "      quickchartButtonEl.classList.remove('colab-df-spinner');\n",
              "      quickchartButtonEl.classList.add('colab-df-quickchart-complete');\n",
              "    }\n",
              "    (() => {\n",
              "      let quickchartButtonEl =\n",
              "        document.querySelector('#df-09792c33-a330-4cb0-aaa5-f20f2a330b80 button');\n",
              "      quickchartButtonEl.style.display =\n",
              "        google.colab.kernel.accessAllowed ? 'block' : 'none';\n",
              "    })();\n",
              "  </script>\n",
              "</div>\n",
              "\n",
              "    </div>\n",
              "  </div>\n"
            ],
            "application/vnd.google.colaboratory.intrinsic+json": {
              "type": "dataframe",
              "variable_name": "df"
            }
          },
          "metadata": {},
          "execution_count": 9
        }
      ],
      "source": [
        "df.head()"
      ]
    },
    {
      "cell_type": "code",
      "execution_count": 10,
      "metadata": {
        "colab": {
          "base_uri": "https://localhost:8080/"
        },
        "id": "NB0hRE3n7d3O",
        "outputId": "68298a77-2202-448f-b975-f60d43cc525b"
      },
      "outputs": [
        {
          "output_type": "execute_result",
          "data": {
            "text/plain": [
              "(181673, 14)"
            ]
          },
          "metadata": {},
          "execution_count": 10
        }
      ],
      "source": [
        "df.shape"
      ]
    },
    {
      "cell_type": "code",
      "execution_count": 11,
      "metadata": {
        "colab": {
          "base_uri": "https://localhost:8080/"
        },
        "id": "coN3BMGF7hZP",
        "outputId": "2cdf7d51-df5e-442b-9e50-b0bce514e9a3"
      },
      "outputs": [
        {
          "output_type": "execute_result",
          "data": {
            "text/plain": [
              "Index(['id', 'item_date', 'quantity tons', 'customer', 'country', 'status',\n",
              "       'item type', 'application', 'thickness', 'width', 'material_ref',\n",
              "       'product_ref', 'delivery date', 'selling_price'],\n",
              "      dtype='object')"
            ]
          },
          "metadata": {},
          "execution_count": 11
        }
      ],
      "source": [
        "df.columns"
      ]
    },
    {
      "cell_type": "code",
      "execution_count": 12,
      "metadata": {
        "colab": {
          "base_uri": "https://localhost:8080/"
        },
        "id": "1NmYOLq4gWjd",
        "outputId": "0ac509b8-e4b6-4075-e9d0-398fdd9758b2"
      },
      "outputs": [
        {
          "output_type": "execute_result",
          "data": {
            "text/plain": [
              "id                object\n",
              "item_date        float64\n",
              "quantity tons     object\n",
              "customer         float64\n",
              "country          float64\n",
              "status            object\n",
              "item type         object\n",
              "application      float64\n",
              "thickness        float64\n",
              "width            float64\n",
              "material_ref      object\n",
              "product_ref        int64\n",
              "delivery date    float64\n",
              "selling_price    float64\n",
              "dtype: object"
            ]
          },
          "metadata": {},
          "execution_count": 12
        }
      ],
      "source": [
        "# checking datatypes\n",
        "df.dtypes"
      ]
    },
    {
      "cell_type": "code",
      "execution_count": 13,
      "metadata": {
        "id": "w4AXZdDygd5t"
      },
      "outputs": [],
      "source": [
        "\n",
        "# Assuming df is your DataFrame\n",
        "df['item_date'] = pd.to_datetime(df['item_date'], format='%Y%m%d',errors='coerce')\n",
        "df['delivery_date'] = pd.to_datetime(df['delivery date'], format='%Y%m%d',errors='coerce')\n",
        "\n",
        "# Calculate the number of days between item_date and delivery_date\n",
        "df['days_between'] = (df['delivery_date'] - df['item_date']).dt.days\n"
      ]
    },
    {
      "cell_type": "code",
      "execution_count": 14,
      "metadata": {
        "id": "P7FS287-k_iO"
      },
      "outputs": [],
      "source": [
        "# drop negative values in days_between column\n",
        "df.drop(df[df['days_between']<0].index,inplace=True)"
      ]
    },
    {
      "cell_type": "code",
      "execution_count": 15,
      "metadata": {
        "id": "AkV6GR_EmIwi"
      },
      "outputs": [],
      "source": [
        "# deleting unwanted column for prediction\n",
        "df.drop(['id','item_date','delivery date','delivery_date','material_ref'],axis=1,inplace=True)"
      ]
    },
    {
      "cell_type": "code",
      "execution_count": 16,
      "metadata": {
        "colab": {
          "base_uri": "https://localhost:8080/"
        },
        "id": "jv3gCKk4ruht",
        "outputId": "bc9d7810-b70c-45ca-975f-19fb04359082"
      },
      "outputs": [
        {
          "output_type": "stream",
          "name": "stdout",
          "text": [
            "<class 'pandas.core.frame.DataFrame'>\n",
            "Index: 165566 entries, 0 to 181531\n",
            "Data columns (total 11 columns):\n",
            " #   Column         Non-Null Count   Dtype  \n",
            "---  ------         --------------   -----  \n",
            " 0   quantity tons  165566 non-null  object \n",
            " 1   customer       165565 non-null  float64\n",
            " 2   country        165538 non-null  float64\n",
            " 3   status         165564 non-null  object \n",
            " 4   item type      165566 non-null  object \n",
            " 5   application    165542 non-null  float64\n",
            " 6   thickness      165565 non-null  float64\n",
            " 7   width          165566 non-null  float64\n",
            " 8   product_ref    165566 non-null  int64  \n",
            " 9   selling_price  165565 non-null  float64\n",
            " 10  days_between   165560 non-null  float64\n",
            "dtypes: float64(7), int64(1), object(3)\n",
            "memory usage: 15.2+ MB\n"
          ]
        }
      ],
      "source": [
        "df.info()"
      ]
    },
    {
      "cell_type": "code",
      "execution_count": 17,
      "metadata": {
        "id": "mMFH0mPUryZP"
      },
      "outputs": [],
      "source": [
        "# replacing as per guidelines\n",
        "df.rename(columns = {'quantity tons':'quantity_tons','item type':'item_type'},inplace=True)"
      ]
    },
    {
      "cell_type": "code",
      "execution_count": 18,
      "metadata": {
        "id": "Uq_JtT_ts5yy"
      },
      "outputs": [],
      "source": [
        "# preprocessing the columns are required\n",
        "df['quantity_tons'] = pd.to_numeric(df['quantity_tons'],errors='coerce')\n",
        "df['country'] = pd.to_numeric(df['country'],errors='coerce')\n",
        "\n",
        "#Filtering the status values other than \"Won and Lost\"\n",
        "df.query(\"status == 'Won' or status == 'Lost'\", inplace =True)\n",
        "\n"
      ]
    },
    {
      "cell_type": "code",
      "execution_count": 19,
      "metadata": {
        "colab": {
          "base_uri": "https://localhost:8080/"
        },
        "id": "Da8pJja4wsF6",
        "outputId": "a1e9cb06-1bd7-48d8-ad6f-b5de009ce9c0"
      },
      "outputs": [
        {
          "output_type": "execute_result",
          "data": {
            "text/plain": [
              "(135792, 11)"
            ]
          },
          "metadata": {},
          "execution_count": 19
        }
      ],
      "source": [
        "df.shape"
      ]
    },
    {
      "cell_type": "code",
      "execution_count": 20,
      "metadata": {
        "colab": {
          "base_uri": "https://localhost:8080/"
        },
        "id": "XwBPvZ7MvF-n",
        "outputId": "e87b1950-6ced-4dc7-9ee5-fa7c138da4ac"
      },
      "outputs": [
        {
          "output_type": "execute_result",
          "data": {
            "text/plain": [
              "quantity_tons    1\n",
              "customer         1\n",
              "country          4\n",
              "status           0\n",
              "item_type        0\n",
              "application      3\n",
              "thickness        0\n",
              "width            0\n",
              "product_ref      0\n",
              "selling_price    1\n",
              "days_between     5\n",
              "dtype: int64"
            ]
          },
          "metadata": {},
          "execution_count": 20
        }
      ],
      "source": [
        "# checking Nan values\n",
        "df.isna().sum()"
      ]
    },
    {
      "cell_type": "code",
      "execution_count": 21,
      "metadata": {
        "id": "YLR4tdBuwVnR"
      },
      "outputs": [],
      "source": [
        "df.dropna(how = 'any',inplace = True)"
      ]
    },
    {
      "cell_type": "code",
      "execution_count": 22,
      "metadata": {
        "colab": {
          "base_uri": "https://localhost:8080/"
        },
        "id": "8XSn7DCj122z",
        "outputId": "7b4364fb-761f-4648-b6c5-6ecbe3db26db"
      },
      "outputs": [
        {
          "output_type": "execute_result",
          "data": {
            "text/plain": [
              "quantity_tons    0\n",
              "customer         0\n",
              "country          0\n",
              "status           0\n",
              "item_type        0\n",
              "application      0\n",
              "thickness        0\n",
              "width            0\n",
              "product_ref      0\n",
              "selling_price    0\n",
              "days_between     0\n",
              "dtype: int64"
            ]
          },
          "metadata": {},
          "execution_count": 22
        }
      ],
      "source": [
        "df.isna().sum()"
      ]
    },
    {
      "cell_type": "code",
      "execution_count": 23,
      "metadata": {
        "colab": {
          "base_uri": "https://localhost:8080/",
          "height": 300
        },
        "id": "EcD-aDcC2bih",
        "outputId": "e9ad4ed4-b1de-41f9-cc63-5de89f85e07e"
      },
      "outputs": [
        {
          "output_type": "execute_result",
          "data": {
            "text/plain": [
              "       quantity_tons      customer        country    application  \\\n",
              "count  135780.000000  1.357800e+05  135780.000000  135780.000000   \n",
              "mean       92.682478  3.023404e+07      46.018928      24.355295   \n",
              "std       420.903151  1.085416e+05      24.665364      17.465256   \n",
              "min        -4.000000  1.245800e+04      25.000000       2.000000   \n",
              "25%        10.925203  3.019722e+07      26.000000      10.000000   \n",
              "50%        30.029695  3.020531e+07      32.000000      15.000000   \n",
              "75%        64.175624  3.028042e+07      78.000000      41.000000   \n",
              "max     70252.363070  3.040818e+07     113.000000      99.000000   \n",
              "\n",
              "           thickness          width   product_ref  selling_price  \\\n",
              "count  135780.000000  135780.000000  1.357800e+05  135780.000000   \n",
              "mean        2.690494    1304.821651  4.840361e+08     831.472153   \n",
              "std         7.445614     266.780291  7.210107e+08     203.431487   \n",
              "min         0.180000       1.000000  6.117280e+05   -1160.000000   \n",
              "25%         0.750000    1180.000000  6.283770e+05     678.000000   \n",
              "50%         1.500000    1250.000000  6.406650e+05     816.000000   \n",
              "75%         3.000000    1500.000000  1.332077e+09     956.000000   \n",
              "max      2500.000000    2990.000000  1.722208e+09   10913.000000   \n",
              "\n",
              "        days_between  \n",
              "count  135780.000000  \n",
              "mean       66.213271  \n",
              "std        39.261639  \n",
              "min         0.000000  \n",
              "25%        31.000000  \n",
              "50%        63.000000  \n",
              "75%        99.000000  \n",
              "max       448.000000  "
            ],
            "text/html": [
              "\n",
              "  <div id=\"df-476d5b40-c234-414f-80e9-0d5a7e70a85f\" class=\"colab-df-container\">\n",
              "    <div>\n",
              "<style scoped>\n",
              "    .dataframe tbody tr th:only-of-type {\n",
              "        vertical-align: middle;\n",
              "    }\n",
              "\n",
              "    .dataframe tbody tr th {\n",
              "        vertical-align: top;\n",
              "    }\n",
              "\n",
              "    .dataframe thead th {\n",
              "        text-align: right;\n",
              "    }\n",
              "</style>\n",
              "<table border=\"1\" class=\"dataframe\">\n",
              "  <thead>\n",
              "    <tr style=\"text-align: right;\">\n",
              "      <th></th>\n",
              "      <th>quantity_tons</th>\n",
              "      <th>customer</th>\n",
              "      <th>country</th>\n",
              "      <th>application</th>\n",
              "      <th>thickness</th>\n",
              "      <th>width</th>\n",
              "      <th>product_ref</th>\n",
              "      <th>selling_price</th>\n",
              "      <th>days_between</th>\n",
              "    </tr>\n",
              "  </thead>\n",
              "  <tbody>\n",
              "    <tr>\n",
              "      <th>count</th>\n",
              "      <td>135780.000000</td>\n",
              "      <td>1.357800e+05</td>\n",
              "      <td>135780.000000</td>\n",
              "      <td>135780.000000</td>\n",
              "      <td>135780.000000</td>\n",
              "      <td>135780.000000</td>\n",
              "      <td>1.357800e+05</td>\n",
              "      <td>135780.000000</td>\n",
              "      <td>135780.000000</td>\n",
              "    </tr>\n",
              "    <tr>\n",
              "      <th>mean</th>\n",
              "      <td>92.682478</td>\n",
              "      <td>3.023404e+07</td>\n",
              "      <td>46.018928</td>\n",
              "      <td>24.355295</td>\n",
              "      <td>2.690494</td>\n",
              "      <td>1304.821651</td>\n",
              "      <td>4.840361e+08</td>\n",
              "      <td>831.472153</td>\n",
              "      <td>66.213271</td>\n",
              "    </tr>\n",
              "    <tr>\n",
              "      <th>std</th>\n",
              "      <td>420.903151</td>\n",
              "      <td>1.085416e+05</td>\n",
              "      <td>24.665364</td>\n",
              "      <td>17.465256</td>\n",
              "      <td>7.445614</td>\n",
              "      <td>266.780291</td>\n",
              "      <td>7.210107e+08</td>\n",
              "      <td>203.431487</td>\n",
              "      <td>39.261639</td>\n",
              "    </tr>\n",
              "    <tr>\n",
              "      <th>min</th>\n",
              "      <td>-4.000000</td>\n",
              "      <td>1.245800e+04</td>\n",
              "      <td>25.000000</td>\n",
              "      <td>2.000000</td>\n",
              "      <td>0.180000</td>\n",
              "      <td>1.000000</td>\n",
              "      <td>6.117280e+05</td>\n",
              "      <td>-1160.000000</td>\n",
              "      <td>0.000000</td>\n",
              "    </tr>\n",
              "    <tr>\n",
              "      <th>25%</th>\n",
              "      <td>10.925203</td>\n",
              "      <td>3.019722e+07</td>\n",
              "      <td>26.000000</td>\n",
              "      <td>10.000000</td>\n",
              "      <td>0.750000</td>\n",
              "      <td>1180.000000</td>\n",
              "      <td>6.283770e+05</td>\n",
              "      <td>678.000000</td>\n",
              "      <td>31.000000</td>\n",
              "    </tr>\n",
              "    <tr>\n",
              "      <th>50%</th>\n",
              "      <td>30.029695</td>\n",
              "      <td>3.020531e+07</td>\n",
              "      <td>32.000000</td>\n",
              "      <td>15.000000</td>\n",
              "      <td>1.500000</td>\n",
              "      <td>1250.000000</td>\n",
              "      <td>6.406650e+05</td>\n",
              "      <td>816.000000</td>\n",
              "      <td>63.000000</td>\n",
              "    </tr>\n",
              "    <tr>\n",
              "      <th>75%</th>\n",
              "      <td>64.175624</td>\n",
              "      <td>3.028042e+07</td>\n",
              "      <td>78.000000</td>\n",
              "      <td>41.000000</td>\n",
              "      <td>3.000000</td>\n",
              "      <td>1500.000000</td>\n",
              "      <td>1.332077e+09</td>\n",
              "      <td>956.000000</td>\n",
              "      <td>99.000000</td>\n",
              "    </tr>\n",
              "    <tr>\n",
              "      <th>max</th>\n",
              "      <td>70252.363070</td>\n",
              "      <td>3.040818e+07</td>\n",
              "      <td>113.000000</td>\n",
              "      <td>99.000000</td>\n",
              "      <td>2500.000000</td>\n",
              "      <td>2990.000000</td>\n",
              "      <td>1.722208e+09</td>\n",
              "      <td>10913.000000</td>\n",
              "      <td>448.000000</td>\n",
              "    </tr>\n",
              "  </tbody>\n",
              "</table>\n",
              "</div>\n",
              "    <div class=\"colab-df-buttons\">\n",
              "\n",
              "  <div class=\"colab-df-container\">\n",
              "    <button class=\"colab-df-convert\" onclick=\"convertToInteractive('df-476d5b40-c234-414f-80e9-0d5a7e70a85f')\"\n",
              "            title=\"Convert this dataframe to an interactive table.\"\n",
              "            style=\"display:none;\">\n",
              "\n",
              "  <svg xmlns=\"http://www.w3.org/2000/svg\" height=\"24px\" viewBox=\"0 -960 960 960\">\n",
              "    <path d=\"M120-120v-720h720v720H120Zm60-500h600v-160H180v160Zm220 220h160v-160H400v160Zm0 220h160v-160H400v160ZM180-400h160v-160H180v160Zm440 0h160v-160H620v160ZM180-180h160v-160H180v160Zm440 0h160v-160H620v160Z\"/>\n",
              "  </svg>\n",
              "    </button>\n",
              "\n",
              "  <style>\n",
              "    .colab-df-container {\n",
              "      display:flex;\n",
              "      gap: 12px;\n",
              "    }\n",
              "\n",
              "    .colab-df-convert {\n",
              "      background-color: #E8F0FE;\n",
              "      border: none;\n",
              "      border-radius: 50%;\n",
              "      cursor: pointer;\n",
              "      display: none;\n",
              "      fill: #1967D2;\n",
              "      height: 32px;\n",
              "      padding: 0 0 0 0;\n",
              "      width: 32px;\n",
              "    }\n",
              "\n",
              "    .colab-df-convert:hover {\n",
              "      background-color: #E2EBFA;\n",
              "      box-shadow: 0px 1px 2px rgba(60, 64, 67, 0.3), 0px 1px 3px 1px rgba(60, 64, 67, 0.15);\n",
              "      fill: #174EA6;\n",
              "    }\n",
              "\n",
              "    .colab-df-buttons div {\n",
              "      margin-bottom: 4px;\n",
              "    }\n",
              "\n",
              "    [theme=dark] .colab-df-convert {\n",
              "      background-color: #3B4455;\n",
              "      fill: #D2E3FC;\n",
              "    }\n",
              "\n",
              "    [theme=dark] .colab-df-convert:hover {\n",
              "      background-color: #434B5C;\n",
              "      box-shadow: 0px 1px 3px 1px rgba(0, 0, 0, 0.15);\n",
              "      filter: drop-shadow(0px 1px 2px rgba(0, 0, 0, 0.3));\n",
              "      fill: #FFFFFF;\n",
              "    }\n",
              "  </style>\n",
              "\n",
              "    <script>\n",
              "      const buttonEl =\n",
              "        document.querySelector('#df-476d5b40-c234-414f-80e9-0d5a7e70a85f button.colab-df-convert');\n",
              "      buttonEl.style.display =\n",
              "        google.colab.kernel.accessAllowed ? 'block' : 'none';\n",
              "\n",
              "      async function convertToInteractive(key) {\n",
              "        const element = document.querySelector('#df-476d5b40-c234-414f-80e9-0d5a7e70a85f');\n",
              "        const dataTable =\n",
              "          await google.colab.kernel.invokeFunction('convertToInteractive',\n",
              "                                                    [key], {});\n",
              "        if (!dataTable) return;\n",
              "\n",
              "        const docLinkHtml = 'Like what you see? Visit the ' +\n",
              "          '<a target=\"_blank\" href=https://colab.research.google.com/notebooks/data_table.ipynb>data table notebook</a>'\n",
              "          + ' to learn more about interactive tables.';\n",
              "        element.innerHTML = '';\n",
              "        dataTable['output_type'] = 'display_data';\n",
              "        await google.colab.output.renderOutput(dataTable, element);\n",
              "        const docLink = document.createElement('div');\n",
              "        docLink.innerHTML = docLinkHtml;\n",
              "        element.appendChild(docLink);\n",
              "      }\n",
              "    </script>\n",
              "  </div>\n",
              "\n",
              "\n",
              "<div id=\"df-7b243127-beba-4abd-81cc-7fec48e46649\">\n",
              "  <button class=\"colab-df-quickchart\" onclick=\"quickchart('df-7b243127-beba-4abd-81cc-7fec48e46649')\"\n",
              "            title=\"Suggest charts\"\n",
              "            style=\"display:none;\">\n",
              "\n",
              "<svg xmlns=\"http://www.w3.org/2000/svg\" height=\"24px\"viewBox=\"0 0 24 24\"\n",
              "     width=\"24px\">\n",
              "    <g>\n",
              "        <path d=\"M19 3H5c-1.1 0-2 .9-2 2v14c0 1.1.9 2 2 2h14c1.1 0 2-.9 2-2V5c0-1.1-.9-2-2-2zM9 17H7v-7h2v7zm4 0h-2V7h2v10zm4 0h-2v-4h2v4z\"/>\n",
              "    </g>\n",
              "</svg>\n",
              "  </button>\n",
              "\n",
              "<style>\n",
              "  .colab-df-quickchart {\n",
              "      --bg-color: #E8F0FE;\n",
              "      --fill-color: #1967D2;\n",
              "      --hover-bg-color: #E2EBFA;\n",
              "      --hover-fill-color: #174EA6;\n",
              "      --disabled-fill-color: #AAA;\n",
              "      --disabled-bg-color: #DDD;\n",
              "  }\n",
              "\n",
              "  [theme=dark] .colab-df-quickchart {\n",
              "      --bg-color: #3B4455;\n",
              "      --fill-color: #D2E3FC;\n",
              "      --hover-bg-color: #434B5C;\n",
              "      --hover-fill-color: #FFFFFF;\n",
              "      --disabled-bg-color: #3B4455;\n",
              "      --disabled-fill-color: #666;\n",
              "  }\n",
              "\n",
              "  .colab-df-quickchart {\n",
              "    background-color: var(--bg-color);\n",
              "    border: none;\n",
              "    border-radius: 50%;\n",
              "    cursor: pointer;\n",
              "    display: none;\n",
              "    fill: var(--fill-color);\n",
              "    height: 32px;\n",
              "    padding: 0;\n",
              "    width: 32px;\n",
              "  }\n",
              "\n",
              "  .colab-df-quickchart:hover {\n",
              "    background-color: var(--hover-bg-color);\n",
              "    box-shadow: 0 1px 2px rgba(60, 64, 67, 0.3), 0 1px 3px 1px rgba(60, 64, 67, 0.15);\n",
              "    fill: var(--button-hover-fill-color);\n",
              "  }\n",
              "\n",
              "  .colab-df-quickchart-complete:disabled,\n",
              "  .colab-df-quickchart-complete:disabled:hover {\n",
              "    background-color: var(--disabled-bg-color);\n",
              "    fill: var(--disabled-fill-color);\n",
              "    box-shadow: none;\n",
              "  }\n",
              "\n",
              "  .colab-df-spinner {\n",
              "    border: 2px solid var(--fill-color);\n",
              "    border-color: transparent;\n",
              "    border-bottom-color: var(--fill-color);\n",
              "    animation:\n",
              "      spin 1s steps(1) infinite;\n",
              "  }\n",
              "\n",
              "  @keyframes spin {\n",
              "    0% {\n",
              "      border-color: transparent;\n",
              "      border-bottom-color: var(--fill-color);\n",
              "      border-left-color: var(--fill-color);\n",
              "    }\n",
              "    20% {\n",
              "      border-color: transparent;\n",
              "      border-left-color: var(--fill-color);\n",
              "      border-top-color: var(--fill-color);\n",
              "    }\n",
              "    30% {\n",
              "      border-color: transparent;\n",
              "      border-left-color: var(--fill-color);\n",
              "      border-top-color: var(--fill-color);\n",
              "      border-right-color: var(--fill-color);\n",
              "    }\n",
              "    40% {\n",
              "      border-color: transparent;\n",
              "      border-right-color: var(--fill-color);\n",
              "      border-top-color: var(--fill-color);\n",
              "    }\n",
              "    60% {\n",
              "      border-color: transparent;\n",
              "      border-right-color: var(--fill-color);\n",
              "    }\n",
              "    80% {\n",
              "      border-color: transparent;\n",
              "      border-right-color: var(--fill-color);\n",
              "      border-bottom-color: var(--fill-color);\n",
              "    }\n",
              "    90% {\n",
              "      border-color: transparent;\n",
              "      border-bottom-color: var(--fill-color);\n",
              "    }\n",
              "  }\n",
              "</style>\n",
              "\n",
              "  <script>\n",
              "    async function quickchart(key) {\n",
              "      const quickchartButtonEl =\n",
              "        document.querySelector('#' + key + ' button');\n",
              "      quickchartButtonEl.disabled = true;  // To prevent multiple clicks.\n",
              "      quickchartButtonEl.classList.add('colab-df-spinner');\n",
              "      try {\n",
              "        const charts = await google.colab.kernel.invokeFunction(\n",
              "            'suggestCharts', [key], {});\n",
              "      } catch (error) {\n",
              "        console.error('Error during call to suggestCharts:', error);\n",
              "      }\n",
              "      quickchartButtonEl.classList.remove('colab-df-spinner');\n",
              "      quickchartButtonEl.classList.add('colab-df-quickchart-complete');\n",
              "    }\n",
              "    (() => {\n",
              "      let quickchartButtonEl =\n",
              "        document.querySelector('#df-7b243127-beba-4abd-81cc-7fec48e46649 button');\n",
              "      quickchartButtonEl.style.display =\n",
              "        google.colab.kernel.accessAllowed ? 'block' : 'none';\n",
              "    })();\n",
              "  </script>\n",
              "</div>\n",
              "\n",
              "    </div>\n",
              "  </div>\n"
            ],
            "application/vnd.google.colaboratory.intrinsic+json": {
              "type": "dataframe",
              "summary": "{\n  \"name\": \"df\",\n  \"rows\": 8,\n  \"fields\": [\n    {\n      \"column\": \"quantity_tons\",\n      \"properties\": {\n        \"dtype\": \"number\",\n        \"std\": 50757.00782476096,\n        \"min\": -4.0,\n        \"max\": 135780.0,\n        \"num_unique_values\": 8,\n        \"samples\": [\n          92.68247815775653,\n          30.029695465,\n          135780.0\n        ],\n        \"semantic_type\": \"\",\n        \"description\": \"\"\n      }\n    },\n    {\n      \"column\": \"customer\",\n      \"properties\": {\n        \"dtype\": \"number\",\n        \"std\": 15619520.7068044,\n        \"min\": 12458.0,\n        \"max\": 30408185.0,\n        \"num_unique_values\": 8,\n        \"samples\": [\n          30234044.28129327,\n          30205312.0,\n          135780.0\n        ],\n        \"semantic_type\": \"\",\n        \"description\": \"\"\n      }\n    },\n    {\n      \"column\": \"country\",\n      \"properties\": {\n        \"dtype\": \"number\",\n        \"std\": 47988.08050659173,\n        \"min\": 24.66536351114134,\n        \"max\": 135780.0,\n        \"num_unique_values\": 8,\n        \"samples\": [\n          46.01892767712476,\n          32.0,\n          135780.0\n        ],\n        \"semantic_type\": \"\",\n        \"description\": \"\"\n      }\n    },\n    {\n      \"column\": \"application\",\n      \"properties\": {\n        \"dtype\": \"number\",\n        \"std\": 47994.94198776573,\n        \"min\": 2.0,\n        \"max\": 135780.0,\n        \"num_unique_values\": 8,\n        \"samples\": [\n          24.355295330681987,\n          15.0,\n          135780.0\n        ],\n        \"semantic_type\": \"\",\n        \"description\": \"\"\n      }\n    },\n    {\n      \"column\": \"thickness\",\n      \"properties\": {\n        \"dtype\": \"number\",\n        \"std\": 47886.39908884068,\n        \"min\": 0.18,\n        \"max\": 135780.0,\n        \"num_unique_values\": 8,\n        \"samples\": [\n          2.6904940565620854,\n          1.5,\n          135780.0\n        ],\n        \"semantic_type\": \"\",\n        \"description\": \"\"\n      }\n    },\n    {\n      \"column\": \"width\",\n      \"properties\": {\n        \"dtype\": \"number\",\n        \"std\": 47584.96787457739,\n        \"min\": 1.0,\n        \"max\": 135780.0,\n        \"num_unique_values\": 8,\n        \"samples\": [\n          1304.821651200471,\n          1250.0,\n          135780.0\n        ],\n        \"semantic_type\": \"\",\n        \"description\": \"\"\n      }\n    },\n    {\n      \"column\": \"product_ref\",\n      \"properties\": {\n        \"dtype\": \"number\",\n        \"std\": 678726865.4040775,\n        \"min\": 135780.0,\n        \"max\": 1722207579.0,\n        \"num_unique_values\": 8,\n        \"samples\": [\n          484036141.9693696,\n          640665.0,\n          135780.0\n        ],\n        \"semantic_type\": \"\",\n        \"description\": \"\"\n      }\n    },\n    {\n      \"column\": \"selling_price\",\n      \"properties\": {\n        \"dtype\": \"number\",\n        \"std\": 47484.77624404112,\n        \"min\": -1160.0,\n        \"max\": 135780.0,\n        \"num_unique_values\": 8,\n        \"samples\": [\n          831.4721534835763,\n          816.0,\n          135780.0\n        ],\n        \"semantic_type\": \"\",\n        \"description\": \"\"\n      }\n    },\n    {\n      \"column\": \"days_between\",\n      \"properties\": {\n        \"dtype\": \"number\",\n        \"std\": 47967.987787589744,\n        \"min\": 0.0,\n        \"max\": 135780.0,\n        \"num_unique_values\": 8,\n        \"samples\": [\n          66.21327146855207,\n          63.0,\n          135780.0\n        ],\n        \"semantic_type\": \"\",\n        \"description\": \"\"\n      }\n    }\n  ]\n}"
            }
          },
          "metadata": {},
          "execution_count": 23
        }
      ],
      "source": [
        "df.describe()"
      ]
    },
    {
      "cell_type": "code",
      "execution_count": 24,
      "metadata": {
        "id": "6Xx_yNnQ3nz0"
      },
      "outputs": [],
      "source": [
        "# droping negative values\n",
        "df.drop(df[df['quantity_tons']<0].index,inplace=True)\n",
        "df.drop(df[df['selling_price']<0].index,inplace=True)"
      ]
    },
    {
      "cell_type": "code",
      "execution_count": 25,
      "metadata": {
        "colab": {
          "base_uri": "https://localhost:8080/",
          "height": 300
        },
        "id": "9P-eUzDp5ehR",
        "outputId": "d87ab608-4368-4886-a7da-3637ba20154b"
      },
      "outputs": [
        {
          "output_type": "execute_result",
          "data": {
            "text/plain": [
              "       quantity_tons      customer        country    application  \\\n",
              "count  135775.000000  1.357750e+05  135775.000000  135775.000000   \n",
              "mean       92.684315  3.023405e+07      46.019208      24.355065   \n",
              "std       420.910694  1.085431e+05      24.665477      17.465365   \n",
              "min         0.000010  1.245800e+04      25.000000       2.000000   \n",
              "25%        10.925655  3.019722e+07      26.000000      10.000000   \n",
              "50%        30.029704  3.020531e+07      32.000000      15.000000   \n",
              "75%        64.174115  3.028042e+07      78.000000      41.000000   \n",
              "max     70252.363070  3.040818e+07     113.000000      99.000000   \n",
              "\n",
              "           thickness          width   product_ref  selling_price  \\\n",
              "count  135775.000000  135775.000000  1.357750e+05  135775.000000   \n",
              "mean        2.690519    1304.823250  4.840180e+08     831.517120   \n",
              "std         7.445740     266.783883  7.210036e+08     203.264847   \n",
              "min         0.180000       1.000000  6.117280e+05       0.000000   \n",
              "25%         0.750000    1180.000000  6.283770e+05     678.000000   \n",
              "50%         1.500000    1250.000000  6.406650e+05     816.000000   \n",
              "75%         3.000000    1500.000000  1.332077e+09     956.000000   \n",
              "max      2500.000000    2990.000000  1.722208e+09   10913.000000   \n",
              "\n",
              "        days_between  \n",
              "count  135775.000000  \n",
              "mean       66.213905  \n",
              "std        39.261891  \n",
              "min         0.000000  \n",
              "25%        31.000000  \n",
              "50%        63.000000  \n",
              "75%        99.000000  \n",
              "max       448.000000  "
            ],
            "text/html": [
              "\n",
              "  <div id=\"df-fee8fd98-3bbb-4c56-8f5f-3a3ba8ab2d58\" class=\"colab-df-container\">\n",
              "    <div>\n",
              "<style scoped>\n",
              "    .dataframe tbody tr th:only-of-type {\n",
              "        vertical-align: middle;\n",
              "    }\n",
              "\n",
              "    .dataframe tbody tr th {\n",
              "        vertical-align: top;\n",
              "    }\n",
              "\n",
              "    .dataframe thead th {\n",
              "        text-align: right;\n",
              "    }\n",
              "</style>\n",
              "<table border=\"1\" class=\"dataframe\">\n",
              "  <thead>\n",
              "    <tr style=\"text-align: right;\">\n",
              "      <th></th>\n",
              "      <th>quantity_tons</th>\n",
              "      <th>customer</th>\n",
              "      <th>country</th>\n",
              "      <th>application</th>\n",
              "      <th>thickness</th>\n",
              "      <th>width</th>\n",
              "      <th>product_ref</th>\n",
              "      <th>selling_price</th>\n",
              "      <th>days_between</th>\n",
              "    </tr>\n",
              "  </thead>\n",
              "  <tbody>\n",
              "    <tr>\n",
              "      <th>count</th>\n",
              "      <td>135775.000000</td>\n",
              "      <td>1.357750e+05</td>\n",
              "      <td>135775.000000</td>\n",
              "      <td>135775.000000</td>\n",
              "      <td>135775.000000</td>\n",
              "      <td>135775.000000</td>\n",
              "      <td>1.357750e+05</td>\n",
              "      <td>135775.000000</td>\n",
              "      <td>135775.000000</td>\n",
              "    </tr>\n",
              "    <tr>\n",
              "      <th>mean</th>\n",
              "      <td>92.684315</td>\n",
              "      <td>3.023405e+07</td>\n",
              "      <td>46.019208</td>\n",
              "      <td>24.355065</td>\n",
              "      <td>2.690519</td>\n",
              "      <td>1304.823250</td>\n",
              "      <td>4.840180e+08</td>\n",
              "      <td>831.517120</td>\n",
              "      <td>66.213905</td>\n",
              "    </tr>\n",
              "    <tr>\n",
              "      <th>std</th>\n",
              "      <td>420.910694</td>\n",
              "      <td>1.085431e+05</td>\n",
              "      <td>24.665477</td>\n",
              "      <td>17.465365</td>\n",
              "      <td>7.445740</td>\n",
              "      <td>266.783883</td>\n",
              "      <td>7.210036e+08</td>\n",
              "      <td>203.264847</td>\n",
              "      <td>39.261891</td>\n",
              "    </tr>\n",
              "    <tr>\n",
              "      <th>min</th>\n",
              "      <td>0.000010</td>\n",
              "      <td>1.245800e+04</td>\n",
              "      <td>25.000000</td>\n",
              "      <td>2.000000</td>\n",
              "      <td>0.180000</td>\n",
              "      <td>1.000000</td>\n",
              "      <td>6.117280e+05</td>\n",
              "      <td>0.000000</td>\n",
              "      <td>0.000000</td>\n",
              "    </tr>\n",
              "    <tr>\n",
              "      <th>25%</th>\n",
              "      <td>10.925655</td>\n",
              "      <td>3.019722e+07</td>\n",
              "      <td>26.000000</td>\n",
              "      <td>10.000000</td>\n",
              "      <td>0.750000</td>\n",
              "      <td>1180.000000</td>\n",
              "      <td>6.283770e+05</td>\n",
              "      <td>678.000000</td>\n",
              "      <td>31.000000</td>\n",
              "    </tr>\n",
              "    <tr>\n",
              "      <th>50%</th>\n",
              "      <td>30.029704</td>\n",
              "      <td>3.020531e+07</td>\n",
              "      <td>32.000000</td>\n",
              "      <td>15.000000</td>\n",
              "      <td>1.500000</td>\n",
              "      <td>1250.000000</td>\n",
              "      <td>6.406650e+05</td>\n",
              "      <td>816.000000</td>\n",
              "      <td>63.000000</td>\n",
              "    </tr>\n",
              "    <tr>\n",
              "      <th>75%</th>\n",
              "      <td>64.174115</td>\n",
              "      <td>3.028042e+07</td>\n",
              "      <td>78.000000</td>\n",
              "      <td>41.000000</td>\n",
              "      <td>3.000000</td>\n",
              "      <td>1500.000000</td>\n",
              "      <td>1.332077e+09</td>\n",
              "      <td>956.000000</td>\n",
              "      <td>99.000000</td>\n",
              "    </tr>\n",
              "    <tr>\n",
              "      <th>max</th>\n",
              "      <td>70252.363070</td>\n",
              "      <td>3.040818e+07</td>\n",
              "      <td>113.000000</td>\n",
              "      <td>99.000000</td>\n",
              "      <td>2500.000000</td>\n",
              "      <td>2990.000000</td>\n",
              "      <td>1.722208e+09</td>\n",
              "      <td>10913.000000</td>\n",
              "      <td>448.000000</td>\n",
              "    </tr>\n",
              "  </tbody>\n",
              "</table>\n",
              "</div>\n",
              "    <div class=\"colab-df-buttons\">\n",
              "\n",
              "  <div class=\"colab-df-container\">\n",
              "    <button class=\"colab-df-convert\" onclick=\"convertToInteractive('df-fee8fd98-3bbb-4c56-8f5f-3a3ba8ab2d58')\"\n",
              "            title=\"Convert this dataframe to an interactive table.\"\n",
              "            style=\"display:none;\">\n",
              "\n",
              "  <svg xmlns=\"http://www.w3.org/2000/svg\" height=\"24px\" viewBox=\"0 -960 960 960\">\n",
              "    <path d=\"M120-120v-720h720v720H120Zm60-500h600v-160H180v160Zm220 220h160v-160H400v160Zm0 220h160v-160H400v160ZM180-400h160v-160H180v160Zm440 0h160v-160H620v160ZM180-180h160v-160H180v160Zm440 0h160v-160H620v160Z\"/>\n",
              "  </svg>\n",
              "    </button>\n",
              "\n",
              "  <style>\n",
              "    .colab-df-container {\n",
              "      display:flex;\n",
              "      gap: 12px;\n",
              "    }\n",
              "\n",
              "    .colab-df-convert {\n",
              "      background-color: #E8F0FE;\n",
              "      border: none;\n",
              "      border-radius: 50%;\n",
              "      cursor: pointer;\n",
              "      display: none;\n",
              "      fill: #1967D2;\n",
              "      height: 32px;\n",
              "      padding: 0 0 0 0;\n",
              "      width: 32px;\n",
              "    }\n",
              "\n",
              "    .colab-df-convert:hover {\n",
              "      background-color: #E2EBFA;\n",
              "      box-shadow: 0px 1px 2px rgba(60, 64, 67, 0.3), 0px 1px 3px 1px rgba(60, 64, 67, 0.15);\n",
              "      fill: #174EA6;\n",
              "    }\n",
              "\n",
              "    .colab-df-buttons div {\n",
              "      margin-bottom: 4px;\n",
              "    }\n",
              "\n",
              "    [theme=dark] .colab-df-convert {\n",
              "      background-color: #3B4455;\n",
              "      fill: #D2E3FC;\n",
              "    }\n",
              "\n",
              "    [theme=dark] .colab-df-convert:hover {\n",
              "      background-color: #434B5C;\n",
              "      box-shadow: 0px 1px 3px 1px rgba(0, 0, 0, 0.15);\n",
              "      filter: drop-shadow(0px 1px 2px rgba(0, 0, 0, 0.3));\n",
              "      fill: #FFFFFF;\n",
              "    }\n",
              "  </style>\n",
              "\n",
              "    <script>\n",
              "      const buttonEl =\n",
              "        document.querySelector('#df-fee8fd98-3bbb-4c56-8f5f-3a3ba8ab2d58 button.colab-df-convert');\n",
              "      buttonEl.style.display =\n",
              "        google.colab.kernel.accessAllowed ? 'block' : 'none';\n",
              "\n",
              "      async function convertToInteractive(key) {\n",
              "        const element = document.querySelector('#df-fee8fd98-3bbb-4c56-8f5f-3a3ba8ab2d58');\n",
              "        const dataTable =\n",
              "          await google.colab.kernel.invokeFunction('convertToInteractive',\n",
              "                                                    [key], {});\n",
              "        if (!dataTable) return;\n",
              "\n",
              "        const docLinkHtml = 'Like what you see? Visit the ' +\n",
              "          '<a target=\"_blank\" href=https://colab.research.google.com/notebooks/data_table.ipynb>data table notebook</a>'\n",
              "          + ' to learn more about interactive tables.';\n",
              "        element.innerHTML = '';\n",
              "        dataTable['output_type'] = 'display_data';\n",
              "        await google.colab.output.renderOutput(dataTable, element);\n",
              "        const docLink = document.createElement('div');\n",
              "        docLink.innerHTML = docLinkHtml;\n",
              "        element.appendChild(docLink);\n",
              "      }\n",
              "    </script>\n",
              "  </div>\n",
              "\n",
              "\n",
              "<div id=\"df-fea54dad-1db6-4bf8-a0a1-17cb144f5943\">\n",
              "  <button class=\"colab-df-quickchart\" onclick=\"quickchart('df-fea54dad-1db6-4bf8-a0a1-17cb144f5943')\"\n",
              "            title=\"Suggest charts\"\n",
              "            style=\"display:none;\">\n",
              "\n",
              "<svg xmlns=\"http://www.w3.org/2000/svg\" height=\"24px\"viewBox=\"0 0 24 24\"\n",
              "     width=\"24px\">\n",
              "    <g>\n",
              "        <path d=\"M19 3H5c-1.1 0-2 .9-2 2v14c0 1.1.9 2 2 2h14c1.1 0 2-.9 2-2V5c0-1.1-.9-2-2-2zM9 17H7v-7h2v7zm4 0h-2V7h2v10zm4 0h-2v-4h2v4z\"/>\n",
              "    </g>\n",
              "</svg>\n",
              "  </button>\n",
              "\n",
              "<style>\n",
              "  .colab-df-quickchart {\n",
              "      --bg-color: #E8F0FE;\n",
              "      --fill-color: #1967D2;\n",
              "      --hover-bg-color: #E2EBFA;\n",
              "      --hover-fill-color: #174EA6;\n",
              "      --disabled-fill-color: #AAA;\n",
              "      --disabled-bg-color: #DDD;\n",
              "  }\n",
              "\n",
              "  [theme=dark] .colab-df-quickchart {\n",
              "      --bg-color: #3B4455;\n",
              "      --fill-color: #D2E3FC;\n",
              "      --hover-bg-color: #434B5C;\n",
              "      --hover-fill-color: #FFFFFF;\n",
              "      --disabled-bg-color: #3B4455;\n",
              "      --disabled-fill-color: #666;\n",
              "  }\n",
              "\n",
              "  .colab-df-quickchart {\n",
              "    background-color: var(--bg-color);\n",
              "    border: none;\n",
              "    border-radius: 50%;\n",
              "    cursor: pointer;\n",
              "    display: none;\n",
              "    fill: var(--fill-color);\n",
              "    height: 32px;\n",
              "    padding: 0;\n",
              "    width: 32px;\n",
              "  }\n",
              "\n",
              "  .colab-df-quickchart:hover {\n",
              "    background-color: var(--hover-bg-color);\n",
              "    box-shadow: 0 1px 2px rgba(60, 64, 67, 0.3), 0 1px 3px 1px rgba(60, 64, 67, 0.15);\n",
              "    fill: var(--button-hover-fill-color);\n",
              "  }\n",
              "\n",
              "  .colab-df-quickchart-complete:disabled,\n",
              "  .colab-df-quickchart-complete:disabled:hover {\n",
              "    background-color: var(--disabled-bg-color);\n",
              "    fill: var(--disabled-fill-color);\n",
              "    box-shadow: none;\n",
              "  }\n",
              "\n",
              "  .colab-df-spinner {\n",
              "    border: 2px solid var(--fill-color);\n",
              "    border-color: transparent;\n",
              "    border-bottom-color: var(--fill-color);\n",
              "    animation:\n",
              "      spin 1s steps(1) infinite;\n",
              "  }\n",
              "\n",
              "  @keyframes spin {\n",
              "    0% {\n",
              "      border-color: transparent;\n",
              "      border-bottom-color: var(--fill-color);\n",
              "      border-left-color: var(--fill-color);\n",
              "    }\n",
              "    20% {\n",
              "      border-color: transparent;\n",
              "      border-left-color: var(--fill-color);\n",
              "      border-top-color: var(--fill-color);\n",
              "    }\n",
              "    30% {\n",
              "      border-color: transparent;\n",
              "      border-left-color: var(--fill-color);\n",
              "      border-top-color: var(--fill-color);\n",
              "      border-right-color: var(--fill-color);\n",
              "    }\n",
              "    40% {\n",
              "      border-color: transparent;\n",
              "      border-right-color: var(--fill-color);\n",
              "      border-top-color: var(--fill-color);\n",
              "    }\n",
              "    60% {\n",
              "      border-color: transparent;\n",
              "      border-right-color: var(--fill-color);\n",
              "    }\n",
              "    80% {\n",
              "      border-color: transparent;\n",
              "      border-right-color: var(--fill-color);\n",
              "      border-bottom-color: var(--fill-color);\n",
              "    }\n",
              "    90% {\n",
              "      border-color: transparent;\n",
              "      border-bottom-color: var(--fill-color);\n",
              "    }\n",
              "  }\n",
              "</style>\n",
              "\n",
              "  <script>\n",
              "    async function quickchart(key) {\n",
              "      const quickchartButtonEl =\n",
              "        document.querySelector('#' + key + ' button');\n",
              "      quickchartButtonEl.disabled = true;  // To prevent multiple clicks.\n",
              "      quickchartButtonEl.classList.add('colab-df-spinner');\n",
              "      try {\n",
              "        const charts = await google.colab.kernel.invokeFunction(\n",
              "            'suggestCharts', [key], {});\n",
              "      } catch (error) {\n",
              "        console.error('Error during call to suggestCharts:', error);\n",
              "      }\n",
              "      quickchartButtonEl.classList.remove('colab-df-spinner');\n",
              "      quickchartButtonEl.classList.add('colab-df-quickchart-complete');\n",
              "    }\n",
              "    (() => {\n",
              "      let quickchartButtonEl =\n",
              "        document.querySelector('#df-fea54dad-1db6-4bf8-a0a1-17cb144f5943 button');\n",
              "      quickchartButtonEl.style.display =\n",
              "        google.colab.kernel.accessAllowed ? 'block' : 'none';\n",
              "    })();\n",
              "  </script>\n",
              "</div>\n",
              "\n",
              "    </div>\n",
              "  </div>\n"
            ],
            "application/vnd.google.colaboratory.intrinsic+json": {
              "type": "dataframe",
              "summary": "{\n  \"name\": \"df\",\n  \"rows\": 8,\n  \"fields\": [\n    {\n      \"column\": \"quantity_tons\",\n      \"properties\": {\n        \"dtype\": \"number\",\n        \"std\": 50755.16912367153,\n        \"min\": 1e-05,\n        \"max\": 135775.0,\n        \"num_unique_values\": 8,\n        \"samples\": [\n          92.68431538135646,\n          30.02970392,\n          135775.0\n        ],\n        \"semantic_type\": \"\",\n        \"description\": \"\"\n      }\n    },\n    {\n      \"column\": \"customer\",\n      \"properties\": {\n        \"dtype\": \"number\",\n        \"std\": 15619521.500055073,\n        \"min\": 12458.0,\n        \"max\": 30408185.0,\n        \"num_unique_values\": 8,\n        \"samples\": [\n          30234046.107383538,\n          30205312.0,\n          135775.0\n        ],\n        \"semantic_type\": \"\",\n        \"description\": \"\"\n      }\n    },\n    {\n      \"column\": \"country\",\n      \"properties\": {\n        \"dtype\": \"number\",\n        \"std\": 47986.31272008728,\n        \"min\": 24.665477346223504,\n        \"max\": 135775.0,\n        \"num_unique_values\": 8,\n        \"samples\": [\n          46.01920824894126,\n          32.0,\n          135775.0\n        ],\n        \"semantic_type\": \"\",\n        \"description\": \"\"\n      }\n    },\n    {\n      \"column\": \"application\",\n      \"properties\": {\n        \"dtype\": \"number\",\n        \"std\": 47993.17422725567,\n        \"min\": 2.0,\n        \"max\": 135775.0,\n        \"num_unique_values\": 8,\n        \"samples\": [\n          24.355065365494383,\n          15.0,\n          135775.0\n        ],\n        \"semantic_type\": \"\",\n        \"description\": \"\"\n      }\n    },\n    {\n      \"column\": \"thickness\",\n      \"properties\": {\n        \"dtype\": \"number\",\n        \"std\": 47884.63160853615,\n        \"min\": 0.18,\n        \"max\": 135775.0,\n        \"num_unique_values\": 8,\n        \"samples\": [\n          2.6905187847541887,\n          1.5,\n          135775.0\n        ],\n        \"semantic_type\": \"\",\n        \"description\": \"\"\n      }\n    },\n    {\n      \"column\": \"width\",\n      \"properties\": {\n        \"dtype\": \"number\",\n        \"std\": 47583.20014887958,\n        \"min\": 1.0,\n        \"max\": 135775.0,\n        \"num_unique_values\": 8,\n        \"samples\": [\n          1304.8232502301598,\n          1250.0,\n          135775.0\n        ],\n        \"semantic_type\": \"\",\n        \"description\": \"\"\n      }\n    },\n    {\n      \"column\": \"product_ref\",\n      \"properties\": {\n        \"dtype\": \"number\",\n        \"std\": 678726769.2650476,\n        \"min\": 135775.0,\n        \"max\": 1722207579.0,\n        \"num_unique_values\": 8,\n        \"samples\": [\n          484017952.7292285,\n          640665.0,\n          135775.0\n        ],\n        \"semantic_type\": \"\",\n        \"description\": \"\"\n      }\n    },\n    {\n      \"column\": \"selling_price\",\n      \"properties\": {\n        \"dtype\": \"number\",\n        \"std\": 47415.68961525238,\n        \"min\": 0.0,\n        \"max\": 135775.0,\n        \"num_unique_values\": 8,\n        \"samples\": [\n          831.517120235684,\n          816.0,\n          135775.0\n        ],\n        \"semantic_type\": \"\",\n        \"description\": \"\"\n      }\n    },\n    {\n      \"column\": \"days_between\",\n      \"properties\": {\n        \"dtype\": \"number\",\n        \"std\": 47966.219983559,\n        \"min\": 0.0,\n        \"max\": 135775.0,\n        \"num_unique_values\": 8,\n        \"samples\": [\n          66.21390535812925,\n          63.0,\n          135775.0\n        ],\n        \"semantic_type\": \"\",\n        \"description\": \"\"\n      }\n    }\n  ]\n}"
            }
          },
          "metadata": {},
          "execution_count": 25
        }
      ],
      "source": [
        "df.describe()"
      ]
    },
    {
      "cell_type": "code",
      "execution_count": 26,
      "metadata": {
        "id": "QaAXxVynJMCS"
      },
      "outputs": [],
      "source": [
        "#Categorical - country,status,item type,application,material_ref,product_ref\n",
        "#Regression - quantity tons,thickness,width,selling_price"
      ]
    },
    {
      "cell_type": "code",
      "execution_count": 27,
      "metadata": {
        "colab": {
          "base_uri": "https://localhost:8080/",
          "height": 1000
        },
        "id": "BOvG4rsRrWDv",
        "outputId": "90a81b2b-aa8c-4273-8636-2d8074c64615"
      },
      "outputs": [
        {
          "output_type": "display_data",
          "data": {
            "text/plain": [
              "<Figure size 1000x1500 with 4 Axes>"
            ],
            "image/png": "[encoded data removed]"
          },
          "metadata": {}
        }
      ],
      "source": [
        "# distribution of continous data before outliers\n",
        "# import for data visualization\n",
        "import matplotlib.pyplot as plt\n",
        "import seaborn as sns\n",
        "\n",
        "plt.figure(figsize = (10,15))\n",
        "\n",
        "plt.subplot2grid((2,2),(0,0))\n",
        "sns.boxplot(df['quantity_tons'])\n",
        "plt.title(\"quantity_tons\")\n",
        "\n",
        "plt.subplot2grid((2,2),(0,1))\n",
        "sns.boxplot(df['thickness'])\n",
        "plt.title(\"thickness\")\n",
        "\n",
        "plt.subplot2grid((2,2),(1,0))\n",
        "sns.boxplot(df['width'])\n",
        "plt.title(\"width\")\n",
        "\n",
        "plt.subplot2grid((2,2),(1,1))\n",
        "sns.boxplot(df['selling_price'])\n",
        "plt.title(\"selling_price\")\n",
        "\n",
        "plt.tight_layout()\n",
        "plt.show()"
      ]
    },
    {
      "cell_type": "code",
      "execution_count": 28,
      "metadata": {
        "colab": {
          "base_uri": "https://localhost:8080/"
        },
        "id": "1D6fysj45k3W",
        "outputId": "2a870829-b625-471f-cd9e-2e901ccbc600"
      },
      "outputs": [
        {
          "output_type": "execute_result",
          "data": {
            "text/plain": [
              "count    135775.000000\n",
              "mean         92.684315\n",
              "std         420.910694\n",
              "min           0.000010\n",
              "25%          10.925655\n",
              "50%          30.029704\n",
              "75%          64.174115\n",
              "max       70252.363070\n",
              "Name: quantity_tons, dtype: float64"
            ]
          },
          "metadata": {},
          "execution_count": 28
        }
      ],
      "source": [
        "# detecting outliers\n",
        "df.quantity_tons.describe()\n"
      ]
    },
    {
      "cell_type": "code",
      "execution_count": 29,
      "metadata": {
        "colab": {
          "base_uri": "https://localhost:8080/"
        },
        "id": "QaWkv6yNItp4",
        "outputId": "13cf6381-86b3-4827-cc34-7a8acc6e886e"
      },
      "outputs": [
        {
          "output_type": "execute_result",
          "data": {
            "text/plain": [
              "(144.046803675, -68.947033445)"
            ]
          },
          "metadata": {},
          "execution_count": 29
        }
      ],
      "source": [
        "q3 = df.quantity_tons.quantile(0.75)\n",
        "q1 = df.quantity_tons.quantile(0.25)\n",
        "iqr = q3-q1\n",
        "\n",
        "upper_threshold = q3+(1.5 * iqr)\n",
        "lower_threshold = q1-(1.5 * iqr)\n",
        "\n",
        "upper_threshold,lower_threshold\n"
      ]
    },
    {
      "cell_type": "code",
      "execution_count": 30,
      "metadata": {
        "id": "sIe7Pn3bJzyg"
      },
      "outputs": [],
      "source": [
        "df.quantity_tons = df.quantity_tons.clip(lower_threshold,upper_threshold)"
      ]
    },
    {
      "cell_type": "code",
      "execution_count": 31,
      "metadata": {
        "colab": {
          "base_uri": "https://localhost:8080/"
        },
        "id": "uQO7ze5rMqze",
        "outputId": "08895495-ab86-4e4e-96c2-55d485fd4f86"
      },
      "outputs": [
        {
          "output_type": "execute_result",
          "data": {
            "text/plain": [
              "count    135775.000000\n",
              "mean          2.690519\n",
              "std           7.445740\n",
              "min           0.180000\n",
              "25%           0.750000\n",
              "50%           1.500000\n",
              "75%           3.000000\n",
              "max        2500.000000\n",
              "Name: thickness, dtype: float64"
            ]
          },
          "metadata": {},
          "execution_count": 31
        }
      ],
      "source": [
        "df.thickness.describe()"
      ]
    },
    {
      "cell_type": "code",
      "execution_count": 32,
      "metadata": {
        "colab": {
          "base_uri": "https://localhost:8080/"
        },
        "id": "gyDjeFH5OAdW",
        "outputId": "a2492b99-3901-44d0-a167-0aba2884aaa9"
      },
      "outputs": [
        {
          "output_type": "execute_result",
          "data": {
            "text/plain": [
              "(6.375, -2.625)"
            ]
          },
          "metadata": {},
          "execution_count": 32
        }
      ],
      "source": [
        "q3 = df.thickness.quantile(0.75)\n",
        "q1 = df.thickness.quantile(0.25)\n",
        "iqr = q3-q1\n",
        "\n",
        "upper_threshold = q3+(1.5*iqr)\n",
        "lower_threshold = q1-(1.5*iqr)\n",
        "upper_threshold,lower_threshold"
      ]
    },
    {
      "cell_type": "code",
      "execution_count": 33,
      "metadata": {
        "id": "xfkQNstGOmtS"
      },
      "outputs": [],
      "source": [
        "df.thickness = df.thickness.clip(lower_threshold,upper_threshold)"
      ]
    },
    {
      "cell_type": "code",
      "execution_count": 34,
      "metadata": {
        "colab": {
          "base_uri": "https://localhost:8080/"
        },
        "id": "Q_w31RcuO8p4",
        "outputId": "8b07bc8c-da28-4c05-92bb-fee262f186ee"
      },
      "outputs": [
        {
          "output_type": "execute_result",
          "data": {
            "text/plain": [
              "count    135775.000000\n",
              "mean       1304.823250\n",
              "std         266.783883\n",
              "min           1.000000\n",
              "25%        1180.000000\n",
              "50%        1250.000000\n",
              "75%        1500.000000\n",
              "max        2990.000000\n",
              "Name: width, dtype: float64"
            ]
          },
          "metadata": {},
          "execution_count": 34
        }
      ],
      "source": [
        "df.width.describe()"
      ]
    },
    {
      "cell_type": "code",
      "execution_count": 35,
      "metadata": {
        "colab": {
          "base_uri": "https://localhost:8080/"
        },
        "id": "0ZHVwja7PR9h",
        "outputId": "69f0b8de-1fe7-4a94-9ab2-0b9977897540"
      },
      "outputs": [
        {
          "output_type": "execute_result",
          "data": {
            "text/plain": [
              "(1980.0, 700.0)"
            ]
          },
          "metadata": {},
          "execution_count": 35
        }
      ],
      "source": [
        "q3 = df.width.quantile(0.75)\n",
        "q1 = df.width.quantile(0.25)\n",
        "iqr = q3-q1\n",
        "\n",
        "upper_threshold = q3+(1.5*iqr)\n",
        "lower_threshold = q1-(1.5*iqr)\n",
        "upper_threshold,lower_threshold"
      ]
    },
    {
      "cell_type": "code",
      "execution_count": 36,
      "metadata": {
        "id": "1dEcaLJYP0z3"
      },
      "outputs": [],
      "source": [
        "df.width = df.width.clip(lower_threshold,upper_threshold)"
      ]
    },
    {
      "cell_type": "code",
      "execution_count": 37,
      "metadata": {
        "colab": {
          "base_uri": "https://localhost:8080/"
        },
        "id": "pzZmzeAMQG21",
        "outputId": "6a7100e6-55f1-468a-ad85-db50e1218b73"
      },
      "outputs": [
        {
          "output_type": "execute_result",
          "data": {
            "text/plain": [
              "count    135775.000000\n",
              "mean        831.517120\n",
              "std         203.264847\n",
              "min           0.000000\n",
              "25%         678.000000\n",
              "50%         816.000000\n",
              "75%         956.000000\n",
              "max       10913.000000\n",
              "Name: selling_price, dtype: float64"
            ]
          },
          "metadata": {},
          "execution_count": 37
        }
      ],
      "source": [
        "df.selling_price.describe()"
      ]
    },
    {
      "cell_type": "code",
      "execution_count": 38,
      "metadata": {
        "colab": {
          "base_uri": "https://localhost:8080/"
        },
        "id": "ABvw4y3wQmFx",
        "outputId": "c9522f58-6262-4d17-a51b-b7090f3cda2a"
      },
      "outputs": [
        {
          "output_type": "execute_result",
          "data": {
            "text/plain": [
              "(1373.0, 261.0)"
            ]
          },
          "metadata": {},
          "execution_count": 38
        }
      ],
      "source": [
        "q3 = df.selling_price.quantile(0.75)\n",
        "q1 = df.selling_price.quantile(0.25)\n",
        "iqr = q3-q1\n",
        "\n",
        "upper_threshold = q3+(1.5*iqr)\n",
        "lower_threshold = q1-(1.5*iqr)\n",
        "upper_threshold,lower_threshold"
      ]
    },
    {
      "cell_type": "code",
      "execution_count": 39,
      "metadata": {
        "id": "mL1VDVFWQ3br"
      },
      "outputs": [],
      "source": [
        "df.selling_price = df.selling_price.clip(lower_threshold,upper_threshold)"
      ]
    },
    {
      "cell_type": "code",
      "execution_count": 40,
      "metadata": {
        "colab": {
          "base_uri": "https://localhost:8080/"
        },
        "id": "V_NliTsARAg4",
        "outputId": "a9082211-2053-4708-840b-e1dfea908f9f"
      },
      "outputs": [
        {
          "output_type": "execute_result",
          "data": {
            "text/plain": [
              "count    135775.000000\n",
              "mean        830.067606\n",
              "std         194.255618\n",
              "min         261.000000\n",
              "25%         678.000000\n",
              "50%         816.000000\n",
              "75%         956.000000\n",
              "max        1373.000000\n",
              "Name: selling_price, dtype: float64"
            ]
          },
          "metadata": {},
          "execution_count": 40
        }
      ],
      "source": [
        "df.selling_price.describe()"
      ]
    },
    {
      "cell_type": "code",
      "execution_count": 41,
      "metadata": {
        "colab": {
          "base_uri": "https://localhost:8080/",
          "height": 1000
        },
        "id": "2GhGJd4f0FlH",
        "outputId": "6c7c1867-037d-4984-d7ca-2c9d28bb47be"
      },
      "outputs": [
        {
          "output_type": "display_data",
          "data": {
            "text/plain": [
              "<Figure size 1000x1500 with 4 Axes>"
            ],
            "image/png": "[encoded data removed]"
          },
          "metadata": {}
        }
      ],
      "source": [
        "# distribution of continous data after outliers\n",
        "# import for data visualization\n",
        "import matplotlib.pyplot as plt\n",
        "import seaborn as sns\n",
        "\n",
        "plt.figure(figsize = (10,15))\n",
        "\n",
        "plt.subplot2grid((2,2),(0,0))\n",
        "sns.boxplot(df['quantity_tons'])\n",
        "plt.title(\"quantity_tons\")\n",
        "\n",
        "plt.subplot2grid((2,2),(0,1))\n",
        "sns.boxplot(df['thickness'])\n",
        "plt.title(\"thickness\")\n",
        "\n",
        "plt.subplot2grid((2,2),(1,0))\n",
        "sns.boxplot(df['width'])\n",
        "plt.title(\"width\")\n",
        "\n",
        "plt.subplot2grid((2,2),(1,1))\n",
        "sns.boxplot(df['selling_price'])\n",
        "plt.title(\"selling_price\")\n",
        "\n",
        "plt.tight_layout()\n",
        "plt.show()"
      ]
    },
    {
      "cell_type": "code",
      "execution_count": 42,
      "metadata": {
        "colab": {
          "base_uri": "https://localhost:8080/",
          "height": 363
        },
        "id": "m8BXyZO9RE-t",
        "outputId": "2502717e-349d-452d-e648-600ca915a0df"
      },
      "outputs": [
        {
          "output_type": "execute_result",
          "data": {
            "text/plain": [
              "    quantity_tons    customer  country status item_type  application  \\\n",
              "0       54.151139  30156308.0     28.0    Won         W         10.0   \n",
              "1      144.046804  30202938.0     25.0    Won         W         41.0   \n",
              "5      144.046804  30202938.0     25.0    Won         W         41.0   \n",
              "8       69.071853  30341428.0     38.0    Won         S         10.0   \n",
              "9      144.046804  30202938.0     25.0    Won         W         41.0   \n",
              "12      27.512545  30165529.0     78.0    Won         W         10.0   \n",
              "13      32.235317  30202362.0     27.0    Won         S         10.0   \n",
              "16      75.124394  30153510.0     30.0    Won         W         41.0   \n",
              "17      20.807114  30211222.0     30.0    Won         W         10.0   \n",
              "20      71.366978  30153510.0     30.0    Won         W         41.0   \n",
              "\n",
              "    thickness   width  product_ref  selling_price  days_between  \n",
              "0       2.000  1500.0   1670798778         854.00          91.0  \n",
              "1       0.800  1210.0   1668701718        1047.00           0.0  \n",
              "5       1.500  1265.0   1668701718         983.00           0.0  \n",
              "8       0.600  1275.0   1668701376        1363.00          91.0  \n",
              "9       1.500  1165.0   1668701718         983.00           0.0  \n",
              "12      0.750  1250.0    164141591        1098.00          91.0  \n",
              "13      0.600  1010.0       628377         973.00          91.0  \n",
              "16      0.595  1265.0       611993        1161.86           0.0  \n",
              "17      0.450   900.0       611993        1315.19          91.0  \n",
              "20      0.595  1265.0       611993        1161.31           0.0  "
            ],
            "text/html": [
              "\n",
              "  <div id=\"df-9c6ad820-fd40-4dc7-8e53-3cf32898b331\" class=\"colab-df-container\">\n",
              "    <div>\n",
              "<style scoped>\n",
              "    .dataframe tbody tr th:only-of-type {\n",
              "        vertical-align: middle;\n",
              "    }\n",
              "\n",
              "    .dataframe tbody tr th {\n",
              "        vertical-align: top;\n",
              "    }\n",
              "\n",
              "    .dataframe thead th {\n",
              "        text-align: right;\n",
              "    }\n",
              "</style>\n",
              "<table border=\"1\" class=\"dataframe\">\n",
              "  <thead>\n",
              "    <tr style=\"text-align: right;\">\n",
              "      <th></th>\n",
              "      <th>quantity_tons</th>\n",
              "      <th>customer</th>\n",
              "      <th>country</th>\n",
              "      <th>status</th>\n",
              "      <th>item_type</th>\n",
              "      <th>application</th>\n",
              "      <th>thickness</th>\n",
              "      <th>width</th>\n",
              "      <th>product_ref</th>\n",
              "      <th>selling_price</th>\n",
              "      <th>days_between</th>\n",
              "    </tr>\n",
              "  </thead>\n",
              "  <tbody>\n",
              "    <tr>\n",
              "      <th>0</th>\n",
              "      <td>54.151139</td>\n",
              "      <td>30156308.0</td>\n",
              "      <td>28.0</td>\n",
              "      <td>Won</td>\n",
              "      <td>W</td>\n",
              "      <td>10.0</td>\n",
              "      <td>2.000</td>\n",
              "      <td>1500.0</td>\n",
              "      <td>1670798778</td>\n",
              "      <td>854.00</td>\n",
              "      <td>91.0</td>\n",
              "    </tr>\n",
              "    <tr>\n",
              "      <th>1</th>\n",
              "      <td>144.046804</td>\n",
              "      <td>30202938.0</td>\n",
              "      <td>25.0</td>\n",
              "      <td>Won</td>\n",
              "      <td>W</td>\n",
              "      <td>41.0</td>\n",
              "      <td>0.800</td>\n",
              "      <td>1210.0</td>\n",
              "      <td>1668701718</td>\n",
              "      <td>1047.00</td>\n",
              "      <td>0.0</td>\n",
              "    </tr>\n",
              "    <tr>\n",
              "      <th>5</th>\n",
              "      <td>144.046804</td>\n",
              "      <td>30202938.0</td>\n",
              "      <td>25.0</td>\n",
              "      <td>Won</td>\n",
              "      <td>W</td>\n",
              "      <td>41.0</td>\n",
              "      <td>1.500</td>\n",
              "      <td>1265.0</td>\n",
              "      <td>1668701718</td>\n",
              "      <td>983.00</td>\n",
              "      <td>0.0</td>\n",
              "    </tr>\n",
              "    <tr>\n",
              "      <th>8</th>\n",
              "      <td>69.071853</td>\n",
              "      <td>30341428.0</td>\n",
              "      <td>38.0</td>\n",
              "      <td>Won</td>\n",
              "      <td>S</td>\n",
              "      <td>10.0</td>\n",
              "      <td>0.600</td>\n",
              "      <td>1275.0</td>\n",
              "      <td>1668701376</td>\n",
              "      <td>1363.00</td>\n",
              "      <td>91.0</td>\n",
              "    </tr>\n",
              "    <tr>\n",
              "      <th>9</th>\n",
              "      <td>144.046804</td>\n",
              "      <td>30202938.0</td>\n",
              "      <td>25.0</td>\n",
              "      <td>Won</td>\n",
              "      <td>W</td>\n",
              "      <td>41.0</td>\n",
              "      <td>1.500</td>\n",
              "      <td>1165.0</td>\n",
              "      <td>1668701718</td>\n",
              "      <td>983.00</td>\n",
              "      <td>0.0</td>\n",
              "    </tr>\n",
              "    <tr>\n",
              "      <th>12</th>\n",
              "      <td>27.512545</td>\n",
              "      <td>30165529.0</td>\n",
              "      <td>78.0</td>\n",
              "      <td>Won</td>\n",
              "      <td>W</td>\n",
              "      <td>10.0</td>\n",
              "      <td>0.750</td>\n",
              "      <td>1250.0</td>\n",
              "      <td>164141591</td>\n",
              "      <td>1098.00</td>\n",
              "      <td>91.0</td>\n",
              "    </tr>\n",
              "    <tr>\n",
              "      <th>13</th>\n",
              "      <td>32.235317</td>\n",
              "      <td>30202362.0</td>\n",
              "      <td>27.0</td>\n",
              "      <td>Won</td>\n",
              "      <td>S</td>\n",
              "      <td>10.0</td>\n",
              "      <td>0.600</td>\n",
              "      <td>1010.0</td>\n",
              "      <td>628377</td>\n",
              "      <td>973.00</td>\n",
              "      <td>91.0</td>\n",
              "    </tr>\n",
              "    <tr>\n",
              "      <th>16</th>\n",
              "      <td>75.124394</td>\n",
              "      <td>30153510.0</td>\n",
              "      <td>30.0</td>\n",
              "      <td>Won</td>\n",
              "      <td>W</td>\n",
              "      <td>41.0</td>\n",
              "      <td>0.595</td>\n",
              "      <td>1265.0</td>\n",
              "      <td>611993</td>\n",
              "      <td>1161.86</td>\n",
              "      <td>0.0</td>\n",
              "    </tr>\n",
              "    <tr>\n",
              "      <th>17</th>\n",
              "      <td>20.807114</td>\n",
              "      <td>30211222.0</td>\n",
              "      <td>30.0</td>\n",
              "      <td>Won</td>\n",
              "      <td>W</td>\n",
              "      <td>10.0</td>\n",
              "      <td>0.450</td>\n",
              "      <td>900.0</td>\n",
              "      <td>611993</td>\n",
              "      <td>1315.19</td>\n",
              "      <td>91.0</td>\n",
              "    </tr>\n",
              "    <tr>\n",
              "      <th>20</th>\n",
              "      <td>71.366978</td>\n",
              "      <td>30153510.0</td>\n",
              "      <td>30.0</td>\n",
              "      <td>Won</td>\n",
              "      <td>W</td>\n",
              "      <td>41.0</td>\n",
              "      <td>0.595</td>\n",
              "      <td>1265.0</td>\n",
              "      <td>611993</td>\n",
              "      <td>1161.31</td>\n",
              "      <td>0.0</td>\n",
              "    </tr>\n",
              "  </tbody>\n",
              "</table>\n",
              "</div>\n",
              "    <div class=\"colab-df-buttons\">\n",
              "\n",
              "  <div class=\"colab-df-container\">\n",
              "    <button class=\"colab-df-convert\" onclick=\"convertToInteractive('df-9c6ad820-fd40-4dc7-8e53-3cf32898b331')\"\n",
              "            title=\"Convert this dataframe to an interactive table.\"\n",
              "            style=\"display:none;\">\n",
              "\n",
              "  <svg xmlns=\"http://www.w3.org/2000/svg\" height=\"24px\" viewBox=\"0 -960 960 960\">\n",
              "    <path d=\"M120-120v-720h720v720H120Zm60-500h600v-160H180v160Zm220 220h160v-160H400v160Zm0 220h160v-160H400v160ZM180-400h160v-160H180v160Zm440 0h160v-160H620v160ZM180-180h160v-160H180v160Zm440 0h160v-160H620v160Z\"/>\n",
              "  </svg>\n",
              "    </button>\n",
              "\n",
              "  <style>\n",
              "    .colab-df-container {\n",
              "      display:flex;\n",
              "      gap: 12px;\n",
              "    }\n",
              "\n",
              "    .colab-df-convert {\n",
              "      background-color: #E8F0FE;\n",
              "      border: none;\n",
              "      border-radius: 50%;\n",
              "      cursor: pointer;\n",
              "      display: none;\n",
              "      fill: #1967D2;\n",
              "      height: 32px;\n",
              "      padding: 0 0 0 0;\n",
              "      width: 32px;\n",
              "    }\n",
              "\n",
              "    .colab-df-convert:hover {\n",
              "      background-color: #E2EBFA;\n",
              "      box-shadow: 0px 1px 2px rgba(60, 64, 67, 0.3), 0px 1px 3px 1px rgba(60, 64, 67, 0.15);\n",
              "      fill: #174EA6;\n",
              "    }\n",
              "\n",
              "    .colab-df-buttons div {\n",
              "      margin-bottom: 4px;\n",
              "    }\n",
              "\n",
              "    [theme=dark] .colab-df-convert {\n",
              "      background-color: #3B4455;\n",
              "      fill: #D2E3FC;\n",
              "    }\n",
              "\n",
              "    [theme=dark] .colab-df-convert:hover {\n",
              "      background-color: #434B5C;\n",
              "      box-shadow: 0px 1px 3px 1px rgba(0, 0, 0, 0.15);\n",
              "      filter: drop-shadow(0px 1px 2px rgba(0, 0, 0, 0.3));\n",
              "      fill: #FFFFFF;\n",
              "    }\n",
              "  </style>\n",
              "\n",
              "    <script>\n",
              "      const buttonEl =\n",
              "        document.querySelector('#df-9c6ad820-fd40-4dc7-8e53-3cf32898b331 button.colab-df-convert');\n",
              "      buttonEl.style.display =\n",
              "        google.colab.kernel.accessAllowed ? 'block' : 'none';\n",
              "\n",
              "      async function convertToInteractive(key) {\n",
              "        const element = document.querySelector('#df-9c6ad820-fd40-4dc7-8e53-3cf32898b331');\n",
              "        const dataTable =\n",
              "          await google.colab.kernel.invokeFunction('convertToInteractive',\n",
              "                                                    [key], {});\n",
              "        if (!dataTable) return;\n",
              "\n",
              "        const docLinkHtml = 'Like what you see? Visit the ' +\n",
              "          '<a target=\"_blank\" href=https://colab.research.google.com/notebooks/data_table.ipynb>data table notebook</a>'\n",
              "          + ' to learn more about interactive tables.';\n",
              "        element.innerHTML = '';\n",
              "        dataTable['output_type'] = 'display_data';\n",
              "        await google.colab.output.renderOutput(dataTable, element);\n",
              "        const docLink = document.createElement('div');\n",
              "        docLink.innerHTML = docLinkHtml;\n",
              "        element.appendChild(docLink);\n",
              "      }\n",
              "    </script>\n",
              "  </div>\n",
              "\n",
              "\n",
              "<div id=\"df-d0a34fe9-39ec-45f5-991b-693a713bfea2\">\n",
              "  <button class=\"colab-df-quickchart\" onclick=\"quickchart('df-d0a34fe9-39ec-45f5-991b-693a713bfea2')\"\n",
              "            title=\"Suggest charts\"\n",
              "            style=\"display:none;\">\n",
              "\n",
              "<svg xmlns=\"http://www.w3.org/2000/svg\" height=\"24px\"viewBox=\"0 0 24 24\"\n",
              "     width=\"24px\">\n",
              "    <g>\n",
              "        <path d=\"M19 3H5c-1.1 0-2 .9-2 2v14c0 1.1.9 2 2 2h14c1.1 0 2-.9 2-2V5c0-1.1-.9-2-2-2zM9 17H7v-7h2v7zm4 0h-2V7h2v10zm4 0h-2v-4h2v4z\"/>\n",
              "    </g>\n",
              "</svg>\n",
              "  </button>\n",
              "\n",
              "<style>\n",
              "  .colab-df-quickchart {\n",
              "      --bg-color: #E8F0FE;\n",
              "      --fill-color: #1967D2;\n",
              "      --hover-bg-color: #E2EBFA;\n",
              "      --hover-fill-color: #174EA6;\n",
              "      --disabled-fill-color: #AAA;\n",
              "      --disabled-bg-color: #DDD;\n",
              "  }\n",
              "\n",
              "  [theme=dark] .colab-df-quickchart {\n",
              "      --bg-color: #3B4455;\n",
              "      --fill-color: #D2E3FC;\n",
              "      --hover-bg-color: #434B5C;\n",
              "      --hover-fill-color: #FFFFFF;\n",
              "      --disabled-bg-color: #3B4455;\n",
              "      --disabled-fill-color: #666;\n",
              "  }\n",
              "\n",
              "  .colab-df-quickchart {\n",
              "    background-color: var(--bg-color);\n",
              "    border: none;\n",
              "    border-radius: 50%;\n",
              "    cursor: pointer;\n",
              "    display: none;\n",
              "    fill: var(--fill-color);\n",
              "    height: 32px;\n",
              "    padding: 0;\n",
              "    width: 32px;\n",
              "  }\n",
              "\n",
              "  .colab-df-quickchart:hover {\n",
              "    background-color: var(--hover-bg-color);\n",
              "    box-shadow: 0 1px 2px rgba(60, 64, 67, 0.3), 0 1px 3px 1px rgba(60, 64, 67, 0.15);\n",
              "    fill: var(--button-hover-fill-color);\n",
              "  }\n",
              "\n",
              "  .colab-df-quickchart-complete:disabled,\n",
              "  .colab-df-quickchart-complete:disabled:hover {\n",
              "    background-color: var(--disabled-bg-color);\n",
              "    fill: var(--disabled-fill-color);\n",
              "    box-shadow: none;\n",
              "  }\n",
              "\n",
              "  .colab-df-spinner {\n",
              "    border: 2px solid var(--fill-color);\n",
              "    border-color: transparent;\n",
              "    border-bottom-color: var(--fill-color);\n",
              "    animation:\n",
              "      spin 1s steps(1) infinite;\n",
              "  }\n",
              "\n",
              "  @keyframes spin {\n",
              "    0% {\n",
              "      border-color: transparent;\n",
              "      border-bottom-color: var(--fill-color);\n",
              "      border-left-color: var(--fill-color);\n",
              "    }\n",
              "    20% {\n",
              "      border-color: transparent;\n",
              "      border-left-color: var(--fill-color);\n",
              "      border-top-color: var(--fill-color);\n",
              "    }\n",
              "    30% {\n",
              "      border-color: transparent;\n",
              "      border-left-color: var(--fill-color);\n",
              "      border-top-color: var(--fill-color);\n",
              "      border-right-color: var(--fill-color);\n",
              "    }\n",
              "    40% {\n",
              "      border-color: transparent;\n",
              "      border-right-color: var(--fill-color);\n",
              "      border-top-color: var(--fill-color);\n",
              "    }\n",
              "    60% {\n",
              "      border-color: transparent;\n",
              "      border-right-color: var(--fill-color);\n",
              "    }\n",
              "    80% {\n",
              "      border-color: transparent;\n",
              "      border-right-color: var(--fill-color);\n",
              "      border-bottom-color: var(--fill-color);\n",
              "    }\n",
              "    90% {\n",
              "      border-color: transparent;\n",
              "      border-bottom-color: var(--fill-color);\n",
              "    }\n",
              "  }\n",
              "</style>\n",
              "\n",
              "  <script>\n",
              "    async function quickchart(key) {\n",
              "      const quickchartButtonEl =\n",
              "        document.querySelector('#' + key + ' button');\n",
              "      quickchartButtonEl.disabled = true;  // To prevent multiple clicks.\n",
              "      quickchartButtonEl.classList.add('colab-df-spinner');\n",
              "      try {\n",
              "        const charts = await google.colab.kernel.invokeFunction(\n",
              "            'suggestCharts', [key], {});\n",
              "      } catch (error) {\n",
              "        console.error('Error during call to suggestCharts:', error);\n",
              "      }\n",
              "      quickchartButtonEl.classList.remove('colab-df-spinner');\n",
              "      quickchartButtonEl.classList.add('colab-df-quickchart-complete');\n",
              "    }\n",
              "    (() => {\n",
              "      let quickchartButtonEl =\n",
              "        document.querySelector('#df-d0a34fe9-39ec-45f5-991b-693a713bfea2 button');\n",
              "      quickchartButtonEl.style.display =\n",
              "        google.colab.kernel.accessAllowed ? 'block' : 'none';\n",
              "    })();\n",
              "  </script>\n",
              "</div>\n",
              "\n",
              "    </div>\n",
              "  </div>\n"
            ],
            "application/vnd.google.colaboratory.intrinsic+json": {
              "type": "dataframe",
              "variable_name": "df"
            }
          },
          "metadata": {},
          "execution_count": 42
        }
      ],
      "source": [
        "df.head(10)"
      ]
    },
    {
      "cell_type": "code",
      "execution_count": 43,
      "metadata": {
        "colab": {
          "base_uri": "https://localhost:8080/",
          "height": 486
        },
        "id": "YvpeVy7IR48x",
        "outputId": "6b074b82-1f37-4592-fe81-289af04b4fb6"
      },
      "outputs": [
        {
          "output_type": "display_data",
          "data": {
            "text/plain": [
              "<Figure size 640x480 with 4 Axes>"
            ],
            "image/png": "[encoded data removed]"
          },
          "metadata": {}
        }
      ],
      "source": [
        "# before skewness\n",
        "# Set up the subplots grid\n",
        "plt.subplot(2, 2, 1)  # subplot at position (0,0)\n",
        "plt.hist(df['quantity_tons'], bins=10, color='skyblue', edgecolor='black')\n",
        "plt.title(\"Quantity Tons\")\n",
        "\n",
        "plt.subplot(2, 2, 2)  # subplot at position (0,1)\n",
        "plt.hist(df['selling_price'], bins=10, color='salmon', edgecolor='black')\n",
        "plt.title(\"Selling Price\")\n",
        "\n",
        "plt.subplot(2, 2, 3)  # subplot at position (1,0)\n",
        "plt.hist(df['width'], bins=10, color='green', edgecolor='black')\n",
        "plt.title(\"Width\")\n",
        "\n",
        "plt.subplot(2, 2, 4)  # subplot at position (1,1)\n",
        "plt.hist(df['thickness'], bins=10, color='orange', edgecolor='black')\n",
        "plt.title(\"Thickness\")\n",
        "\n",
        "plt.tight_layout()\n",
        "\n",
        "# Show the plot\n",
        "plt.show()\n"
      ]
    },
    {
      "cell_type": "code",
      "execution_count": 44,
      "metadata": {
        "colab": {
          "base_uri": "https://localhost:8080/"
        },
        "id": "opHnNZqQqIHf",
        "outputId": "f7cb8d06-6c4a-41ea-baa5-256d5a06e7d5"
      },
      "outputs": [
        {
          "output_type": "stream",
          "name": "stdout",
          "text": [
            "1.0933577543272717 Positive Skew\n",
            "0.45579850929853816 Positive Skew\n",
            "0.6580141437257432 Positive Skew\n",
            "0.9691527703467729 Positive Skew\n"
          ]
        }
      ],
      "source": [
        "# Define a list of column names\n",
        "col = ['quantity_tons','selling_price', 'width', 'thickness']\n",
        "\n",
        "# Iterate through each column name in the list\n",
        "for i in col:\n",
        "    # Select the data from the DataFrame corresponding to the current column\n",
        "    column_data = df[i]\n",
        "\n",
        "    # Calculate the skewness of the selected data\n",
        "    skewness = column_data.skew()\n",
        "\n",
        "    # Check if the skewness is positive or negative and print the result\n",
        "    if skewness > 0:\n",
        "        # If skewness is positive, print 'Positive Skew'\n",
        "        print(skewness, 'Positive Skew')\n",
        "    else:\n",
        "        # If skewness is non-positive (zero or negative), print 'Negative Skew'\n",
        "        print(skewness, 'Negative Skew')\n"
      ]
    },
    {
      "cell_type": "code",
      "execution_count": 45,
      "metadata": {
        "id": "NTob36zrIWdM"
      },
      "outputs": [],
      "source": [
        "# if the skew lies between -1 to +1 here no need to transorm here the skew values are above 1\n",
        "# so we need to use log transform method\n",
        "\n",
        "df['quantity_tons'] = np.log(df['quantity_tons'])"
      ]
    },
    {
      "cell_type": "code",
      "execution_count": 46,
      "metadata": {
        "colab": {
          "base_uri": "https://localhost:8080/",
          "height": 486
        },
        "id": "AinC6Mh_KD_w",
        "outputId": "ec221e57-46c7-413f-a13f-dcc816bca136"
      },
      "outputs": [
        {
          "output_type": "display_data",
          "data": {
            "text/plain": [
              "<Figure size 640x480 with 4 Axes>"
            ],
            "image/png": "[encoded data removed]"
          },
          "metadata": {}
        }
      ],
      "source": [
        "# after skewness\n",
        "# Set up the subplots grid\n",
        "plt.subplot(2, 2, 1)  # subplot at position (0,0)\n",
        "plt.hist(df['quantity_tons'], bins=10, color='skyblue', edgecolor='black')\n",
        "plt.title(\"Quantity Tons\")\n",
        "\n",
        "plt.subplot(2, 2, 2)  # subplot at position (0,1)\n",
        "plt.hist(df['selling_price'], bins=10, color='salmon', edgecolor='black')\n",
        "plt.title(\"Selling Price\")\n",
        "\n",
        "plt.subplot(2, 2, 3)  # subplot at position (1,0)\n",
        "plt.hist(df['width'], bins=10, color='green', edgecolor='black')\n",
        "plt.title(\"Width\")\n",
        "\n",
        "plt.subplot(2, 2, 4)  # subplot at position (1,1)\n",
        "plt.hist(df['thickness'], bins=10, color='orange', edgecolor='black')\n",
        "plt.title(\"Thickness\")\n",
        "\n",
        "plt.tight_layout()\n",
        "\n",
        "# Show the plot\n",
        "plt.show()\n"
      ]
    },
    {
      "cell_type": "code",
      "execution_count": 47,
      "metadata": {
        "colab": {
          "base_uri": "https://localhost:8080/"
        },
        "id": "2iDi23ntKRHd",
        "outputId": "84499ec6-d973-40dd-ecb5-c8287053b8ab"
      },
      "outputs": [
        {
          "output_type": "stream",
          "name": "stdout",
          "text": [
            "-0.7903166733946817 Negative Skew\n",
            "0.45579850929853816 Positive Skew\n",
            "0.6580141437257432 Positive Skew\n",
            "0.9691527703467729 Positive Skew\n"
          ]
        }
      ],
      "source": [
        "# Define a list of column names\n",
        "col = ['quantity_tons','selling_price', 'width', 'thickness']\n",
        "\n",
        "# Iterate through each column name in the list\n",
        "for i in col:\n",
        "    # Select the data from the DataFrame corresponding to the current column\n",
        "    column_data = df[i]\n",
        "\n",
        "    # Calculate the skewness of the selected data\n",
        "    skewness = column_data.skew()\n",
        "\n",
        "    # Check if the skewness is positive or negative and print the result\n",
        "    if skewness > 0:\n",
        "        # If skewness is positive, print 'Positive Skew'\n",
        "        print(skewness, 'Positive Skew')\n",
        "    else:\n",
        "        # If skewness is non-positive (zero or negative), print 'Negative Skew'\n",
        "        print(skewness, 'Negative Skew')\n"
      ]
    },
    {
      "cell_type": "code",
      "execution_count": 48,
      "metadata": {
        "colab": {
          "base_uri": "https://localhost:8080/"
        },
        "id": "IuFJVu9kMI0b",
        "outputId": "f8ad9f8d-5dad-48e8-bbd9-ba43269e1b94"
      },
      "outputs": [
        {
          "output_type": "execute_result",
          "data": {
            "text/plain": [
              "array(['W', 'S', 'Others', 'PL', 'WI', 'IPL', 'SLAWR'], dtype=object)"
            ]
          },
          "metadata": {},
          "execution_count": 48
        }
      ],
      "source": [
        "# checking the categorical unique values\n",
        "df['status'].unique()\n",
        "df['item_type'].unique()"
      ]
    },
    {
      "cell_type": "code",
      "execution_count": 49,
      "metadata": {
        "id": "E8ToHT9tZIpQ"
      },
      "outputs": [],
      "source": [
        "# encoding\n",
        "df['status'] = df['status'].map({'Won':1,'Lost':0})   #label encoding\n"
      ]
    },
    {
      "cell_type": "code",
      "execution_count": 50,
      "metadata": {
        "id": "AAixugh3c2UQ"
      },
      "outputs": [],
      "source": [
        "df = pd.get_dummies(df, columns=['item_type'])"
      ]
    },
    {
      "cell_type": "code",
      "execution_count": 51,
      "metadata": {
        "colab": {
          "base_uri": "https://localhost:8080/",
          "height": 383
        },
        "id": "Gd7sr4C3a2HX",
        "outputId": "aaf08579-6349-4c96-cf86-7c82b4f408eb"
      },
      "outputs": [
        {
          "output_type": "execute_result",
          "data": {
            "text/plain": [
              "    quantity_tons    customer  country  status  application  thickness  \\\n",
              "0        3.991779  30156308.0     28.0       1         10.0      2.000   \n",
              "1        4.970138  30202938.0     25.0       1         41.0      0.800   \n",
              "5        4.970138  30202938.0     25.0       1         41.0      1.500   \n",
              "8        4.235147  30341428.0     38.0       1         10.0      0.600   \n",
              "9        4.970138  30202938.0     25.0       1         41.0      1.500   \n",
              "12       3.314642  30165529.0     78.0       1         10.0      0.750   \n",
              "13       3.473063  30202362.0     27.0       1         10.0      0.600   \n",
              "16       4.319145  30153510.0     30.0       1         41.0      0.595   \n",
              "17       3.035295  30211222.0     30.0       1         10.0      0.450   \n",
              "20       4.267835  30153510.0     30.0       1         41.0      0.595   \n",
              "\n",
              "     width  product_ref  selling_price  days_between  item_type_IPL  \\\n",
              "0   1500.0   1670798778         854.00          91.0          False   \n",
              "1   1210.0   1668701718        1047.00           0.0          False   \n",
              "5   1265.0   1668701718         983.00           0.0          False   \n",
              "8   1275.0   1668701376        1363.00          91.0          False   \n",
              "9   1165.0   1668701718         983.00           0.0          False   \n",
              "12  1250.0    164141591        1098.00          91.0          False   \n",
              "13  1010.0       628377         973.00          91.0          False   \n",
              "16  1265.0       611993        1161.86           0.0          False   \n",
              "17   900.0       611993        1315.19          91.0          False   \n",
              "20  1265.0       611993        1161.31           0.0          False   \n",
              "\n",
              "    item_type_Others  item_type_PL  item_type_S  item_type_SLAWR  item_type_W  \\\n",
              "0              False         False        False            False         True   \n",
              "1              False         False        False            False         True   \n",
              "5              False         False        False            False         True   \n",
              "8              False         False         True            False        False   \n",
              "9              False         False        False            False         True   \n",
              "12             False         False        False            False         True   \n",
              "13             False         False         True            False        False   \n",
              "16             False         False        False            False         True   \n",
              "17             False         False        False            False         True   \n",
              "20             False         False        False            False         True   \n",
              "\n",
              "    item_type_WI  \n",
              "0          False  \n",
              "1          False  \n",
              "5          False  \n",
              "8          False  \n",
              "9          False  \n",
              "12         False  \n",
              "13         False  \n",
              "16         False  \n",
              "17         False  \n",
              "20         False  "
            ],
            "text/html": [
              "\n",
              "  <div id=\"df-6c9140c8-f92d-4bfa-8abe-e289d8b00170\" class=\"colab-df-container\">\n",
              "    <div>\n",
              "<style scoped>\n",
              "    .dataframe tbody tr th:only-of-type {\n",
              "        vertical-align: middle;\n",
              "    }\n",
              "\n",
              "    .dataframe tbody tr th {\n",
              "        vertical-align: top;\n",
              "    }\n",
              "\n",
              "    .dataframe thead th {\n",
              "        text-align: right;\n",
              "    }\n",
              "</style>\n",
              "<table border=\"1\" class=\"dataframe\">\n",
              "  <thead>\n",
              "    <tr style=\"text-align: right;\">\n",
              "      <th></th>\n",
              "      <th>quantity_tons</th>\n",
              "      <th>customer</th>\n",
              "      <th>country</th>\n",
              "      <th>status</th>\n",
              "      <th>application</th>\n",
              "      <th>thickness</th>\n",
              "      <th>width</th>\n",
              "      <th>product_ref</th>\n",
              "      <th>selling_price</th>\n",
              "      <th>days_between</th>\n",
              "      <th>item_type_IPL</th>\n",
              "      <th>item_type_Others</th>\n",
              "      <th>item_type_PL</th>\n",
              "      <th>item_type_S</th>\n",
              "      <th>item_type_SLAWR</th>\n",
              "      <th>item_type_W</th>\n",
              "      <th>item_type_WI</th>\n",
              "    </tr>\n",
              "  </thead>\n",
              "  <tbody>\n",
              "    <tr>\n",
              "      <th>0</th>\n",
              "      <td>3.991779</td>\n",
              "      <td>30156308.0</td>\n",
              "      <td>28.0</td>\n",
              "      <td>1</td>\n",
              "      <td>10.0</td>\n",
              "      <td>2.000</td>\n",
              "      <td>1500.0</td>\n",
              "      <td>1670798778</td>\n",
              "      <td>854.00</td>\n",
              "      <td>91.0</td>\n",
              "      <td>False</td>\n",
              "      <td>False</td>\n",
              "      <td>False</td>\n",
              "      <td>False</td>\n",
              "      <td>False</td>\n",
              "      <td>True</td>\n",
              "      <td>False</td>\n",
              "    </tr>\n",
              "    <tr>\n",
              "      <th>1</th>\n",
              "      <td>4.970138</td>\n",
              "      <td>30202938.0</td>\n",
              "      <td>25.0</td>\n",
              "      <td>1</td>\n",
              "      <td>41.0</td>\n",
              "      <td>0.800</td>\n",
              "      <td>1210.0</td>\n",
              "      <td>1668701718</td>\n",
              "      <td>1047.00</td>\n",
              "      <td>0.0</td>\n",
              "      <td>False</td>\n",
              "      <td>False</td>\n",
              "      <td>False</td>\n",
              "      <td>False</td>\n",
              "      <td>False</td>\n",
              "      <td>True</td>\n",
              "      <td>False</td>\n",
              "    </tr>\n",
              "    <tr>\n",
              "      <th>5</th>\n",
              "      <td>4.970138</td>\n",
              "      <td>30202938.0</td>\n",
              "      <td>25.0</td>\n",
              "      <td>1</td>\n",
              "      <td>41.0</td>\n",
              "      <td>1.500</td>\n",
              "      <td>1265.0</td>\n",
              "      <td>1668701718</td>\n",
              "      <td>983.00</td>\n",
              "      <td>0.0</td>\n",
              "      <td>False</td>\n",
              "      <td>False</td>\n",
              "      <td>False</td>\n",
              "      <td>False</td>\n",
              "      <td>False</td>\n",
              "      <td>True</td>\n",
              "      <td>False</td>\n",
              "    </tr>\n",
              "    <tr>\n",
              "      <th>8</th>\n",
              "      <td>4.235147</td>\n",
              "      <td>30341428.0</td>\n",
              "      <td>38.0</td>\n",
              "      <td>1</td>\n",
              "      <td>10.0</td>\n",
              "      <td>0.600</td>\n",
              "      <td>1275.0</td>\n",
              "      <td>1668701376</td>\n",
              "      <td>1363.00</td>\n",
              "      <td>91.0</td>\n",
              "      <td>False</td>\n",
              "      <td>False</td>\n",
              "      <td>False</td>\n",
              "      <td>True</td>\n",
              "      <td>False</td>\n",
              "      <td>False</td>\n",
              "      <td>False</td>\n",
              "    </tr>\n",
              "    <tr>\n",
              "      <th>9</th>\n",
              "      <td>4.970138</td>\n",
              "      <td>30202938.0</td>\n",
              "      <td>25.0</td>\n",
              "      <td>1</td>\n",
              "      <td>41.0</td>\n",
              "      <td>1.500</td>\n",
              "      <td>1165.0</td>\n",
              "      <td>1668701718</td>\n",
              "      <td>983.00</td>\n",
              "      <td>0.0</td>\n",
              "      <td>False</td>\n",
              "      <td>False</td>\n",
              "      <td>False</td>\n",
              "      <td>False</td>\n",
              "      <td>False</td>\n",
              "      <td>True</td>\n",
              "      <td>False</td>\n",
              "    </tr>\n",
              "    <tr>\n",
              "      <th>12</th>\n",
              "      <td>3.314642</td>\n",
              "      <td>30165529.0</td>\n",
              "      <td>78.0</td>\n",
              "      <td>1</td>\n",
              "      <td>10.0</td>\n",
              "      <td>0.750</td>\n",
              "      <td>1250.0</td>\n",
              "      <td>164141591</td>\n",
              "      <td>1098.00</td>\n",
              "      <td>91.0</td>\n",
              "      <td>False</td>\n",
              "      <td>False</td>\n",
              "      <td>False</td>\n",
              "      <td>False</td>\n",
              "      <td>False</td>\n",
              "      <td>True</td>\n",
              "      <td>False</td>\n",
              "    </tr>\n",
              "    <tr>\n",
              "      <th>13</th>\n",
              "      <td>3.473063</td>\n",
              "      <td>30202362.0</td>\n",
              "      <td>27.0</td>\n",
              "      <td>1</td>\n",
              "      <td>10.0</td>\n",
              "      <td>0.600</td>\n",
              "      <td>1010.0</td>\n",
              "      <td>628377</td>\n",
              "      <td>973.00</td>\n",
              "      <td>91.0</td>\n",
              "      <td>False</td>\n",
              "      <td>False</td>\n",
              "      <td>False</td>\n",
              "      <td>True</td>\n",
              "      <td>False</td>\n",
              "      <td>False</td>\n",
              "      <td>False</td>\n",
              "    </tr>\n",
              "    <tr>\n",
              "      <th>16</th>\n",
              "      <td>4.319145</td>\n",
              "      <td>30153510.0</td>\n",
              "      <td>30.0</td>\n",
              "      <td>1</td>\n",
              "      <td>41.0</td>\n",
              "      <td>0.595</td>\n",
              "      <td>1265.0</td>\n",
              "      <td>611993</td>\n",
              "      <td>1161.86</td>\n",
              "      <td>0.0</td>\n",
              "      <td>False</td>\n",
              "      <td>False</td>\n",
              "      <td>False</td>\n",
              "      <td>False</td>\n",
              "      <td>False</td>\n",
              "      <td>True</td>\n",
              "      <td>False</td>\n",
              "    </tr>\n",
              "    <tr>\n",
              "      <th>17</th>\n",
              "      <td>3.035295</td>\n",
              "      <td>30211222.0</td>\n",
              "      <td>30.0</td>\n",
              "      <td>1</td>\n",
              "      <td>10.0</td>\n",
              "      <td>0.450</td>\n",
              "      <td>900.0</td>\n",
              "      <td>611993</td>\n",
              "      <td>1315.19</td>\n",
              "      <td>91.0</td>\n",
              "      <td>False</td>\n",
              "      <td>False</td>\n",
              "      <td>False</td>\n",
              "      <td>False</td>\n",
              "      <td>False</td>\n",
              "      <td>True</td>\n",
              "      <td>False</td>\n",
              "    </tr>\n",
              "    <tr>\n",
              "      <th>20</th>\n",
              "      <td>4.267835</td>\n",
              "      <td>30153510.0</td>\n",
              "      <td>30.0</td>\n",
              "      <td>1</td>\n",
              "      <td>41.0</td>\n",
              "      <td>0.595</td>\n",
              "      <td>1265.0</td>\n",
              "      <td>611993</td>\n",
              "      <td>1161.31</td>\n",
              "      <td>0.0</td>\n",
              "      <td>False</td>\n",
              "      <td>False</td>\n",
              "      <td>False</td>\n",
              "      <td>False</td>\n",
              "      <td>False</td>\n",
              "      <td>True</td>\n",
              "      <td>False</td>\n",
              "    </tr>\n",
              "  </tbody>\n",
              "</table>\n",
              "</div>\n",
              "    <div class=\"colab-df-buttons\">\n",
              "\n",
              "  <div class=\"colab-df-container\">\n",
              "    <button class=\"colab-df-convert\" onclick=\"convertToInteractive('df-6c9140c8-f92d-4bfa-8abe-e289d8b00170')\"\n",
              "            title=\"Convert this dataframe to an interactive table.\"\n",
              "            style=\"display:none;\">\n",
              "\n",
              "  <svg xmlns=\"http://www.w3.org/2000/svg\" height=\"24px\" viewBox=\"0 -960 960 960\">\n",
              "    <path d=\"M120-120v-720h720v720H120Zm60-500h600v-160H180v160Zm220 220h160v-160H400v160Zm0 220h160v-160H400v160ZM180-400h160v-160H180v160Zm440 0h160v-160H620v160ZM180-180h160v-160H180v160Zm440 0h160v-160H620v160Z\"/>\n",
              "  </svg>\n",
              "    </button>\n",
              "\n",
              "  <style>\n",
              "    .colab-df-container {\n",
              "      display:flex;\n",
              "      gap: 12px;\n",
              "    }\n",
              "\n",
              "    .colab-df-convert {\n",
              "      background-color: #E8F0FE;\n",
              "      border: none;\n",
              "      border-radius: 50%;\n",
              "      cursor: pointer;\n",
              "      display: none;\n",
              "      fill: #1967D2;\n",
              "      height: 32px;\n",
              "      padding: 0 0 0 0;\n",
              "      width: 32px;\n",
              "    }\n",
              "\n",
              "    .colab-df-convert:hover {\n",
              "      background-color: #E2EBFA;\n",
              "      box-shadow: 0px 1px 2px rgba(60, 64, 67, 0.3), 0px 1px 3px 1px rgba(60, 64, 67, 0.15);\n",
              "      fill: #174EA6;\n",
              "    }\n",
              "\n",
              "    .colab-df-buttons div {\n",
              "      margin-bottom: 4px;\n",
              "    }\n",
              "\n",
              "    [theme=dark] .colab-df-convert {\n",
              "      background-color: #3B4455;\n",
              "      fill: #D2E3FC;\n",
              "    }\n",
              "\n",
              "    [theme=dark] .colab-df-convert:hover {\n",
              "      background-color: #434B5C;\n",
              "      box-shadow: 0px 1px 3px 1px rgba(0, 0, 0, 0.15);\n",
              "      filter: drop-shadow(0px 1px 2px rgba(0, 0, 0, 0.3));\n",
              "      fill: #FFFFFF;\n",
              "    }\n",
              "  </style>\n",
              "\n",
              "    <script>\n",
              "      const buttonEl =\n",
              "        document.querySelector('#df-6c9140c8-f92d-4bfa-8abe-e289d8b00170 button.colab-df-convert');\n",
              "      buttonEl.style.display =\n",
              "        google.colab.kernel.accessAllowed ? 'block' : 'none';\n",
              "\n",
              "      async function convertToInteractive(key) {\n",
              "        const element = document.querySelector('#df-6c9140c8-f92d-4bfa-8abe-e289d8b00170');\n",
              "        const dataTable =\n",
              "          await google.colab.kernel.invokeFunction('convertToInteractive',\n",
              "                                                    [key], {});\n",
              "        if (!dataTable) return;\n",
              "\n",
              "        const docLinkHtml = 'Like what you see? Visit the ' +\n",
              "          '<a target=\"_blank\" href=https://colab.research.google.com/notebooks/data_table.ipynb>data table notebook</a>'\n",
              "          + ' to learn more about interactive tables.';\n",
              "        element.innerHTML = '';\n",
              "        dataTable['output_type'] = 'display_data';\n",
              "        await google.colab.output.renderOutput(dataTable, element);\n",
              "        const docLink = document.createElement('div');\n",
              "        docLink.innerHTML = docLinkHtml;\n",
              "        element.appendChild(docLink);\n",
              "      }\n",
              "    </script>\n",
              "  </div>\n",
              "\n",
              "\n",
              "<div id=\"df-07841996-c90c-47cc-b6ec-e99071f82aa4\">\n",
              "  <button class=\"colab-df-quickchart\" onclick=\"quickchart('df-07841996-c90c-47cc-b6ec-e99071f82aa4')\"\n",
              "            title=\"Suggest charts\"\n",
              "            style=\"display:none;\">\n",
              "\n",
              "<svg xmlns=\"http://www.w3.org/2000/svg\" height=\"24px\"viewBox=\"0 0 24 24\"\n",
              "     width=\"24px\">\n",
              "    <g>\n",
              "        <path d=\"M19 3H5c-1.1 0-2 .9-2 2v14c0 1.1.9 2 2 2h14c1.1 0 2-.9 2-2V5c0-1.1-.9-2-2-2zM9 17H7v-7h2v7zm4 0h-2V7h2v10zm4 0h-2v-4h2v4z\"/>\n",
              "    </g>\n",
              "</svg>\n",
              "  </button>\n",
              "\n",
              "<style>\n",
              "  .colab-df-quickchart {\n",
              "      --bg-color: #E8F0FE;\n",
              "      --fill-color: #1967D2;\n",
              "      --hover-bg-color: #E2EBFA;\n",
              "      --hover-fill-color: #174EA6;\n",
              "      --disabled-fill-color: #AAA;\n",
              "      --disabled-bg-color: #DDD;\n",
              "  }\n",
              "\n",
              "  [theme=dark] .colab-df-quickchart {\n",
              "      --bg-color: #3B4455;\n",
              "      --fill-color: #D2E3FC;\n",
              "      --hover-bg-color: #434B5C;\n",
              "      --hover-fill-color: #FFFFFF;\n",
              "      --disabled-bg-color: #3B4455;\n",
              "      --disabled-fill-color: #666;\n",
              "  }\n",
              "\n",
              "  .colab-df-quickchart {\n",
              "    background-color: var(--bg-color);\n",
              "    border: none;\n",
              "    border-radius: 50%;\n",
              "    cursor: pointer;\n",
              "    display: none;\n",
              "    fill: var(--fill-color);\n",
              "    height: 32px;\n",
              "    padding: 0;\n",
              "    width: 32px;\n",
              "  }\n",
              "\n",
              "  .colab-df-quickchart:hover {\n",
              "    background-color: var(--hover-bg-color);\n",
              "    box-shadow: 0 1px 2px rgba(60, 64, 67, 0.3), 0 1px 3px 1px rgba(60, 64, 67, 0.15);\n",
              "    fill: var(--button-hover-fill-color);\n",
              "  }\n",
              "\n",
              "  .colab-df-quickchart-complete:disabled,\n",
              "  .colab-df-quickchart-complete:disabled:hover {\n",
              "    background-color: var(--disabled-bg-color);\n",
              "    fill: var(--disabled-fill-color);\n",
              "    box-shadow: none;\n",
              "  }\n",
              "\n",
              "  .colab-df-spinner {\n",
              "    border: 2px solid var(--fill-color);\n",
              "    border-color: transparent;\n",
              "    border-bottom-color: var(--fill-color);\n",
              "    animation:\n",
              "      spin 1s steps(1) infinite;\n",
              "  }\n",
              "\n",
              "  @keyframes spin {\n",
              "    0% {\n",
              "      border-color: transparent;\n",
              "      border-bottom-color: var(--fill-color);\n",
              "      border-left-color: var(--fill-color);\n",
              "    }\n",
              "    20% {\n",
              "      border-color: transparent;\n",
              "      border-left-color: var(--fill-color);\n",
              "      border-top-color: var(--fill-color);\n",
              "    }\n",
              "    30% {\n",
              "      border-color: transparent;\n",
              "      border-left-color: var(--fill-color);\n",
              "      border-top-color: var(--fill-color);\n",
              "      border-right-color: var(--fill-color);\n",
              "    }\n",
              "    40% {\n",
              "      border-color: transparent;\n",
              "      border-right-color: var(--fill-color);\n",
              "      border-top-color: var(--fill-color);\n",
              "    }\n",
              "    60% {\n",
              "      border-color: transparent;\n",
              "      border-right-color: var(--fill-color);\n",
              "    }\n",
              "    80% {\n",
              "      border-color: transparent;\n",
              "      border-right-color: var(--fill-color);\n",
              "      border-bottom-color: var(--fill-color);\n",
              "    }\n",
              "    90% {\n",
              "      border-color: transparent;\n",
              "      border-bottom-color: var(--fill-color);\n",
              "    }\n",
              "  }\n",
              "</style>\n",
              "\n",
              "  <script>\n",
              "    async function quickchart(key) {\n",
              "      const quickchartButtonEl =\n",
              "        document.querySelector('#' + key + ' button');\n",
              "      quickchartButtonEl.disabled = true;  // To prevent multiple clicks.\n",
              "      quickchartButtonEl.classList.add('colab-df-spinner');\n",
              "      try {\n",
              "        const charts = await google.colab.kernel.invokeFunction(\n",
              "            'suggestCharts', [key], {});\n",
              "      } catch (error) {\n",
              "        console.error('Error during call to suggestCharts:', error);\n",
              "      }\n",
              "      quickchartButtonEl.classList.remove('colab-df-spinner');\n",
              "      quickchartButtonEl.classList.add('colab-df-quickchart-complete');\n",
              "    }\n",
              "    (() => {\n",
              "      let quickchartButtonEl =\n",
              "        document.querySelector('#df-07841996-c90c-47cc-b6ec-e99071f82aa4 button');\n",
              "      quickchartButtonEl.style.display =\n",
              "        google.colab.kernel.accessAllowed ? 'block' : 'none';\n",
              "    })();\n",
              "  </script>\n",
              "</div>\n",
              "\n",
              "    </div>\n",
              "  </div>\n"
            ],
            "application/vnd.google.colaboratory.intrinsic+json": {
              "type": "dataframe",
              "variable_name": "df"
            }
          },
          "metadata": {},
          "execution_count": 51
        }
      ],
      "source": [
        "df.head(10)"
      ]
    },
    {
      "cell_type": "code",
      "execution_count": 52,
      "metadata": {
        "id": "PRMkqVOQeIL6"
      },
      "outputs": [],
      "source": [
        "df['item_type_IPL'] = df['item_type_IPL'].astype(int)\n",
        "df['item_type_IPL\t'] = df['item_type_IPL'].astype(int)\n",
        "df['item_type_Others'] = df['item_type_Others'].astype(int)\n",
        "df['item_type_PL'] = df['item_type_PL'].astype(int)\n",
        "df['item_type_S'] = df['item_type_S'].astype(int)\n",
        "df['item_type_SLAWR'] = df['item_type_SLAWR'].astype(int)\n",
        "df['item_type_W'] = df['item_type_W'].astype(int)\n",
        "df['item_type_WI'] = df['item_type_WI'].astype(int)"
      ]
    },
    {
      "cell_type": "code",
      "execution_count": 53,
      "metadata": {
        "colab": {
          "base_uri": "https://localhost:8080/",
          "height": 226
        },
        "id": "SuH70uJef92f",
        "outputId": "e3b428f1-0ff6-4aa0-e654-015126e504a1"
      },
      "outputs": [
        {
          "output_type": "execute_result",
          "data": {
            "text/plain": [
              "   quantity_tons    customer  country  status  application  thickness   width  \\\n",
              "0       3.991779  30156308.0     28.0       1         10.0        2.0  1500.0   \n",
              "1       4.970138  30202938.0     25.0       1         41.0        0.8  1210.0   \n",
              "5       4.970138  30202938.0     25.0       1         41.0        1.5  1265.0   \n",
              "8       4.235147  30341428.0     38.0       1         10.0        0.6  1275.0   \n",
              "9       4.970138  30202938.0     25.0       1         41.0        1.5  1165.0   \n",
              "\n",
              "   product_ref  selling_price  days_between  item_type_IPL  item_type_Others  \\\n",
              "0   1670798778          854.0          91.0              0                 0   \n",
              "1   1668701718         1047.0           0.0              0                 0   \n",
              "5   1668701718          983.0           0.0              0                 0   \n",
              "8   1668701376         1363.0          91.0              0                 0   \n",
              "9   1668701718          983.0           0.0              0                 0   \n",
              "\n",
              "   item_type_PL  item_type_S  item_type_SLAWR  item_type_W  item_type_WI  \\\n",
              "0             0            0                0            1             0   \n",
              "1             0            0                0            1             0   \n",
              "5             0            0                0            1             0   \n",
              "8             0            1                0            0             0   \n",
              "9             0            0                0            1             0   \n",
              "\n",
              "   item_type_IPL\\t  \n",
              "0                0  \n",
              "1                0  \n",
              "5                0  \n",
              "8                0  \n",
              "9                0  "
            ],
            "text/html": [
              "\n",
              "  <div id=\"df-1df2dd83-3647-442b-8ed4-c2e15522834a\" class=\"colab-df-container\">\n",
              "    <div>\n",
              "<style scoped>\n",
              "    .dataframe tbody tr th:only-of-type {\n",
              "        vertical-align: middle;\n",
              "    }\n",
              "\n",
              "    .dataframe tbody tr th {\n",
              "        vertical-align: top;\n",
              "    }\n",
              "\n",
              "    .dataframe thead th {\n",
              "        text-align: right;\n",
              "    }\n",
              "</style>\n",
              "<table border=\"1\" class=\"dataframe\">\n",
              "  <thead>\n",
              "    <tr style=\"text-align: right;\">\n",
              "      <th></th>\n",
              "      <th>quantity_tons</th>\n",
              "      <th>customer</th>\n",
              "      <th>country</th>\n",
              "      <th>status</th>\n",
              "      <th>application</th>\n",
              "      <th>thickness</th>\n",
              "      <th>width</th>\n",
              "      <th>product_ref</th>\n",
              "      <th>selling_price</th>\n",
              "      <th>days_between</th>\n",
              "      <th>item_type_IPL</th>\n",
              "      <th>item_type_Others</th>\n",
              "      <th>item_type_PL</th>\n",
              "      <th>item_type_S</th>\n",
              "      <th>item_type_SLAWR</th>\n",
              "      <th>item_type_W</th>\n",
              "      <th>item_type_WI</th>\n",
              "      <th>item_type_IPL\\t</th>\n",
              "    </tr>\n",
              "  </thead>\n",
              "  <tbody>\n",
              "    <tr>\n",
              "      <th>0</th>\n",
              "      <td>3.991779</td>\n",
              "      <td>30156308.0</td>\n",
              "      <td>28.0</td>\n",
              "      <td>1</td>\n",
              "      <td>10.0</td>\n",
              "      <td>2.0</td>\n",
              "      <td>1500.0</td>\n",
              "      <td>1670798778</td>\n",
              "      <td>854.0</td>\n",
              "      <td>91.0</td>\n",
              "      <td>0</td>\n",
              "      <td>0</td>\n",
              "      <td>0</td>\n",
              "      <td>0</td>\n",
              "      <td>0</td>\n",
              "      <td>1</td>\n",
              "      <td>0</td>\n",
              "      <td>0</td>\n",
              "    </tr>\n",
              "    <tr>\n",
              "      <th>1</th>\n",
              "      <td>4.970138</td>\n",
              "      <td>30202938.0</td>\n",
              "      <td>25.0</td>\n",
              "      <td>1</td>\n",
              "      <td>41.0</td>\n",
              "      <td>0.8</td>\n",
              "      <td>1210.0</td>\n",
              "      <td>1668701718</td>\n",
              "      <td>1047.0</td>\n",
              "      <td>0.0</td>\n",
              "      <td>0</td>\n",
              "      <td>0</td>\n",
              "      <td>0</td>\n",
              "      <td>0</td>\n",
              "      <td>0</td>\n",
              "      <td>1</td>\n",
              "      <td>0</td>\n",
              "      <td>0</td>\n",
              "    </tr>\n",
              "    <tr>\n",
              "      <th>5</th>\n",
              "      <td>4.970138</td>\n",
              "      <td>30202938.0</td>\n",
              "      <td>25.0</td>\n",
              "      <td>1</td>\n",
              "      <td>41.0</td>\n",
              "      <td>1.5</td>\n",
              "      <td>1265.0</td>\n",
              "      <td>1668701718</td>\n",
              "      <td>983.0</td>\n",
              "      <td>0.0</td>\n",
              "      <td>0</td>\n",
              "      <td>0</td>\n",
              "      <td>0</td>\n",
              "      <td>0</td>\n",
              "      <td>0</td>\n",
              "      <td>1</td>\n",
              "      <td>0</td>\n",
              "      <td>0</td>\n",
              "    </tr>\n",
              "    <tr>\n",
              "      <th>8</th>\n",
              "      <td>4.235147</td>\n",
              "      <td>30341428.0</td>\n",
              "      <td>38.0</td>\n",
              "      <td>1</td>\n",
              "      <td>10.0</td>\n",
              "      <td>0.6</td>\n",
              "      <td>1275.0</td>\n",
              "      <td>1668701376</td>\n",
              "      <td>1363.0</td>\n",
              "      <td>91.0</td>\n",
              "      <td>0</td>\n",
              "      <td>0</td>\n",
              "      <td>0</td>\n",
              "      <td>1</td>\n",
              "      <td>0</td>\n",
              "      <td>0</td>\n",
              "      <td>0</td>\n",
              "      <td>0</td>\n",
              "    </tr>\n",
              "    <tr>\n",
              "      <th>9</th>\n",
              "      <td>4.970138</td>\n",
              "      <td>30202938.0</td>\n",
              "      <td>25.0</td>\n",
              "      <td>1</td>\n",
              "      <td>41.0</td>\n",
              "      <td>1.5</td>\n",
              "      <td>1165.0</td>\n",
              "      <td>1668701718</td>\n",
              "      <td>983.0</td>\n",
              "      <td>0.0</td>\n",
              "      <td>0</td>\n",
              "      <td>0</td>\n",
              "      <td>0</td>\n",
              "      <td>0</td>\n",
              "      <td>0</td>\n",
              "      <td>1</td>\n",
              "      <td>0</td>\n",
              "      <td>0</td>\n",
              "    </tr>\n",
              "  </tbody>\n",
              "</table>\n",
              "</div>\n",
              "    <div class=\"colab-df-buttons\">\n",
              "\n",
              "  <div class=\"colab-df-container\">\n",
              "    <button class=\"colab-df-convert\" onclick=\"convertToInteractive('df-1df2dd83-3647-442b-8ed4-c2e15522834a')\"\n",
              "            title=\"Convert this dataframe to an interactive table.\"\n",
              "            style=\"display:none;\">\n",
              "\n",
              "  <svg xmlns=\"http://www.w3.org/2000/svg\" height=\"24px\" viewBox=\"0 -960 960 960\">\n",
              "    <path d=\"M120-120v-720h720v720H120Zm60-500h600v-160H180v160Zm220 220h160v-160H400v160Zm0 220h160v-160H400v160ZM180-400h160v-160H180v160Zm440 0h160v-160H620v160ZM180-180h160v-160H180v160Zm440 0h160v-160H620v160Z\"/>\n",
              "  </svg>\n",
              "    </button>\n",
              "\n",
              "  <style>\n",
              "    .colab-df-container {\n",
              "      display:flex;\n",
              "      gap: 12px;\n",
              "    }\n",
              "\n",
              "    .colab-df-convert {\n",
              "      background-color: #E8F0FE;\n",
              "      border: none;\n",
              "      border-radius: 50%;\n",
              "      cursor: pointer;\n",
              "      display: none;\n",
              "      fill: #1967D2;\n",
              "      height: 32px;\n",
              "      padding: 0 0 0 0;\n",
              "      width: 32px;\n",
              "    }\n",
              "\n",
              "    .colab-df-convert:hover {\n",
              "      background-color: #E2EBFA;\n",
              "      box-shadow: 0px 1px 2px rgba(60, 64, 67, 0.3), 0px 1px 3px 1px rgba(60, 64, 67, 0.15);\n",
              "      fill: #174EA6;\n",
              "    }\n",
              "\n",
              "    .colab-df-buttons div {\n",
              "      margin-bottom: 4px;\n",
              "    }\n",
              "\n",
              "    [theme=dark] .colab-df-convert {\n",
              "      background-color: #3B4455;\n",
              "      fill: #D2E3FC;\n",
              "    }\n",
              "\n",
              "    [theme=dark] .colab-df-convert:hover {\n",
              "      background-color: #434B5C;\n",
              "      box-shadow: 0px 1px 3px 1px rgba(0, 0, 0, 0.15);\n",
              "      filter: drop-shadow(0px 1px 2px rgba(0, 0, 0, 0.3));\n",
              "      fill: #FFFFFF;\n",
              "    }\n",
              "  </style>\n",
              "\n",
              "    <script>\n",
              "      const buttonEl =\n",
              "        document.querySelector('#df-1df2dd83-3647-442b-8ed4-c2e15522834a button.colab-df-convert');\n",
              "      buttonEl.style.display =\n",
              "        google.colab.kernel.accessAllowed ? 'block' : 'none';\n",
              "\n",
              "      async function convertToInteractive(key) {\n",
              "        const element = document.querySelector('#df-1df2dd83-3647-442b-8ed4-c2e15522834a');\n",
              "        const dataTable =\n",
              "          await google.colab.kernel.invokeFunction('convertToInteractive',\n",
              "                                                    [key], {});\n",
              "        if (!dataTable) return;\n",
              "\n",
              "        const docLinkHtml = 'Like what you see? Visit the ' +\n",
              "          '<a target=\"_blank\" href=https://colab.research.google.com/notebooks/data_table.ipynb>data table notebook</a>'\n",
              "          + ' to learn more about interactive tables.';\n",
              "        element.innerHTML = '';\n",
              "        dataTable['output_type'] = 'display_data';\n",
              "        await google.colab.output.renderOutput(dataTable, element);\n",
              "        const docLink = document.createElement('div');\n",
              "        docLink.innerHTML = docLinkHtml;\n",
              "        element.appendChild(docLink);\n",
              "      }\n",
              "    </script>\n",
              "  </div>\n",
              "\n",
              "\n",
              "<div id=\"df-396b54b9-a7d6-4fd0-b679-fad651b27d18\">\n",
              "  <button class=\"colab-df-quickchart\" onclick=\"quickchart('df-396b54b9-a7d6-4fd0-b679-fad651b27d18')\"\n",
              "            title=\"Suggest charts\"\n",
              "            style=\"display:none;\">\n",
              "\n",
              "<svg xmlns=\"http://www.w3.org/2000/svg\" height=\"24px\"viewBox=\"0 0 24 24\"\n",
              "     width=\"24px\">\n",
              "    <g>\n",
              "        <path d=\"M19 3H5c-1.1 0-2 .9-2 2v14c0 1.1.9 2 2 2h14c1.1 0 2-.9 2-2V5c0-1.1-.9-2-2-2zM9 17H7v-7h2v7zm4 0h-2V7h2v10zm4 0h-2v-4h2v4z\"/>\n",
              "    </g>\n",
              "</svg>\n",
              "  </button>\n",
              "\n",
              "<style>\n",
              "  .colab-df-quickchart {\n",
              "      --bg-color: #E8F0FE;\n",
              "      --fill-color: #1967D2;\n",
              "      --hover-bg-color: #E2EBFA;\n",
              "      --hover-fill-color: #174EA6;\n",
              "      --disabled-fill-color: #AAA;\n",
              "      --disabled-bg-color: #DDD;\n",
              "  }\n",
              "\n",
              "  [theme=dark] .colab-df-quickchart {\n",
              "      --bg-color: #3B4455;\n",
              "      --fill-color: #D2E3FC;\n",
              "      --hover-bg-color: #434B5C;\n",
              "      --hover-fill-color: #FFFFFF;\n",
              "      --disabled-bg-color: #3B4455;\n",
              "      --disabled-fill-color: #666;\n",
              "  }\n",
              "\n",
              "  .colab-df-quickchart {\n",
              "    background-color: var(--bg-color);\n",
              "    border: none;\n",
              "    border-radius: 50%;\n",
              "    cursor: pointer;\n",
              "    display: none;\n",
              "    fill: var(--fill-color);\n",
              "    height: 32px;\n",
              "    padding: 0;\n",
              "    width: 32px;\n",
              "  }\n",
              "\n",
              "  .colab-df-quickchart:hover {\n",
              "    background-color: var(--hover-bg-color);\n",
              "    box-shadow: 0 1px 2px rgba(60, 64, 67, 0.3), 0 1px 3px 1px rgba(60, 64, 67, 0.15);\n",
              "    fill: var(--button-hover-fill-color);\n",
              "  }\n",
              "\n",
              "  .colab-df-quickchart-complete:disabled,\n",
              "  .colab-df-quickchart-complete:disabled:hover {\n",
              "    background-color: var(--disabled-bg-color);\n",
              "    fill: var(--disabled-fill-color);\n",
              "    box-shadow: none;\n",
              "  }\n",
              "\n",
              "  .colab-df-spinner {\n",
              "    border: 2px solid var(--fill-color);\n",
              "    border-color: transparent;\n",
              "    border-bottom-color: var(--fill-color);\n",
              "    animation:\n",
              "      spin 1s steps(1) infinite;\n",
              "  }\n",
              "\n",
              "  @keyframes spin {\n",
              "    0% {\n",
              "      border-color: transparent;\n",
              "      border-bottom-color: var(--fill-color);\n",
              "      border-left-color: var(--fill-color);\n",
              "    }\n",
              "    20% {\n",
              "      border-color: transparent;\n",
              "      border-left-color: var(--fill-color);\n",
              "      border-top-color: var(--fill-color);\n",
              "    }\n",
              "    30% {\n",
              "      border-color: transparent;\n",
              "      border-left-color: var(--fill-color);\n",
              "      border-top-color: var(--fill-color);\n",
              "      border-right-color: var(--fill-color);\n",
              "    }\n",
              "    40% {\n",
              "      border-color: transparent;\n",
              "      border-right-color: var(--fill-color);\n",
              "      border-top-color: var(--fill-color);\n",
              "    }\n",
              "    60% {\n",
              "      border-color: transparent;\n",
              "      border-right-color: var(--fill-color);\n",
              "    }\n",
              "    80% {\n",
              "      border-color: transparent;\n",
              "      border-right-color: var(--fill-color);\n",
              "      border-bottom-color: var(--fill-color);\n",
              "    }\n",
              "    90% {\n",
              "      border-color: transparent;\n",
              "      border-bottom-color: var(--fill-color);\n",
              "    }\n",
              "  }\n",
              "</style>\n",
              "\n",
              "  <script>\n",
              "    async function quickchart(key) {\n",
              "      const quickchartButtonEl =\n",
              "        document.querySelector('#' + key + ' button');\n",
              "      quickchartButtonEl.disabled = true;  // To prevent multiple clicks.\n",
              "      quickchartButtonEl.classList.add('colab-df-spinner');\n",
              "      try {\n",
              "        const charts = await google.colab.kernel.invokeFunction(\n",
              "            'suggestCharts', [key], {});\n",
              "      } catch (error) {\n",
              "        console.error('Error during call to suggestCharts:', error);\n",
              "      }\n",
              "      quickchartButtonEl.classList.remove('colab-df-spinner');\n",
              "      quickchartButtonEl.classList.add('colab-df-quickchart-complete');\n",
              "    }\n",
              "    (() => {\n",
              "      let quickchartButtonEl =\n",
              "        document.querySelector('#df-396b54b9-a7d6-4fd0-b679-fad651b27d18 button');\n",
              "      quickchartButtonEl.style.display =\n",
              "        google.colab.kernel.accessAllowed ? 'block' : 'none';\n",
              "    })();\n",
              "  </script>\n",
              "</div>\n",
              "\n",
              "    </div>\n",
              "  </div>\n"
            ],
            "application/vnd.google.colaboratory.intrinsic+json": {
              "type": "dataframe",
              "variable_name": "df"
            }
          },
          "metadata": {},
          "execution_count": 53
        }
      ],
      "source": [
        "df.head()"
      ]
    },
    {
      "cell_type": "code",
      "execution_count": 54,
      "metadata": {
        "id": "NNkJRh7Vf_iG"
      },
      "outputs": [],
      "source": [
        "# correlation visual"
      ]
    },
    {
      "cell_type": "code",
      "execution_count": 55,
      "metadata": {
        "colab": {
          "base_uri": "https://localhost:8080/",
          "height": 634
        },
        "id": "UhuvjqpOjUEk",
        "outputId": "ac557c91-2d51-4111-cccc-e26c38e94940"
      },
      "outputs": [
        {
          "output_type": "execute_result",
          "data": {
            "text/plain": [
              "                  quantity_tons  customer   country    status  application  \\\n",
              "quantity_tons          1.000000  0.085548 -0.100492 -0.147091     0.082292   \n",
              "customer               0.085548  1.000000  0.087608 -0.039742     0.024450   \n",
              "country               -0.100492  0.087608  1.000000  0.117216    -0.025712   \n",
              "status                -0.147091 -0.039742  0.117216  1.000000     0.164928   \n",
              "application            0.082292  0.024450 -0.025712  0.164928     1.000000   \n",
              "thickness              0.031105  0.081419 -0.058007 -0.172462    -0.165791   \n",
              "width                  0.040620  0.040588  0.045184 -0.120903    -0.200500   \n",
              "product_ref            0.065489 -0.037336 -0.158937 -0.081154    -0.122805   \n",
              "selling_price         -0.060198 -0.007655 -0.029616  0.068626     0.172875   \n",
              "days_between           0.097229  0.001915 -0.280629 -0.248517    -0.154502   \n",
              "item_type_IPL         -0.019514  0.004445 -0.010684  0.008120    -0.005520   \n",
              "item_type_Others       0.044503  0.011581 -0.033719  0.018382     0.009382   \n",
              "item_type_PL           0.006665 -0.018848 -0.112935  0.099508    -0.123651   \n",
              "item_type_S            0.348926  0.089865 -0.059862 -0.325808    -0.093699   \n",
              "item_type_SLAWR        0.003676 -0.000389 -0.002203  0.001563     0.002586   \n",
              "item_type_W           -0.356032 -0.082446  0.104609  0.278120     0.133739   \n",
              "item_type_WI           0.069151 -0.001329 -0.015124  0.031453     0.016317   \n",
              "item_type_IPL\\t       -0.019514  0.004445 -0.010684  0.008120    -0.005520   \n",
              "\n",
              "                  thickness     width  product_ref  selling_price  \\\n",
              "quantity_tons      0.031105  0.040620     0.065489      -0.060198   \n",
              "customer           0.081419  0.040588    -0.037336      -0.007655   \n",
              "country           -0.058007  0.045184    -0.158937      -0.029616   \n",
              "status            -0.172462 -0.120903    -0.081154       0.068626   \n",
              "application       -0.165791 -0.200500    -0.122805       0.172875   \n",
              "thickness          1.000000  0.427553     0.141889      -0.406611   \n",
              "width              0.427553  1.000000    -0.030634      -0.197967   \n",
              "product_ref        0.141889 -0.030634     1.000000      -0.080322   \n",
              "selling_price     -0.406611 -0.197967    -0.080322       1.000000   \n",
              "days_between       0.078438  0.031271     0.178664       0.321558   \n",
              "item_type_IPL      0.010395  0.016686     0.006291      -0.003714   \n",
              "item_type_Others   0.004461 -0.012670    -0.006327       0.003096   \n",
              "item_type_PL       0.031606  0.070051     0.025666      -0.076397   \n",
              "item_type_S        0.052925  0.053935     0.080178      -0.086089   \n",
              "item_type_SLAWR   -0.002306 -0.000617    -0.001820       0.005098   \n",
              "item_type_W       -0.060351 -0.071563    -0.084772       0.115220   \n",
              "item_type_WI      -0.032574 -0.051552    -0.023529      -0.032015   \n",
              "item_type_IPL\\t    0.010395  0.016686     0.006291      -0.003714   \n",
              "\n",
              "                  days_between  item_type_IPL  item_type_Others  item_type_PL  \\\n",
              "quantity_tons         0.097229      -0.019514          0.044503      0.006665   \n",
              "customer              0.001915       0.004445          0.011581     -0.018848   \n",
              "country              -0.280629      -0.010684         -0.033719     -0.112935   \n",
              "status               -0.248517       0.008120          0.018382      0.099508   \n",
              "application          -0.154502      -0.005520          0.009382     -0.123651   \n",
              "thickness             0.078438       0.010395          0.004461      0.031606   \n",
              "width                 0.031271       0.016686         -0.012670      0.070051   \n",
              "product_ref           0.178664       0.006291         -0.006327      0.025666   \n",
              "selling_price         0.321558      -0.003714          0.003096     -0.076397   \n",
              "days_between          1.000000      -0.016973         -0.000308     -0.079503   \n",
              "item_type_IPL        -0.016973       1.000000         -0.000677     -0.002561   \n",
              "item_type_Others     -0.000308      -0.000677          1.000000     -0.008715   \n",
              "item_type_PL         -0.079503      -0.002561         -0.008715      1.000000   \n",
              "item_type_S           0.168203      -0.010526         -0.035819     -0.135527   \n",
              "item_type_SLAWR      -0.000637      -0.000038         -0.000130     -0.000493   \n",
              "item_type_W          -0.127737      -0.017448         -0.059374     -0.224653   \n",
              "item_type_WI         -0.072459      -0.000770         -0.002622     -0.009920   \n",
              "item_type_IPL\\t      -0.016973       1.000000         -0.000677     -0.002561   \n",
              "\n",
              "                  item_type_S  item_type_SLAWR  item_type_W  item_type_WI  \\\n",
              "quantity_tons        0.348926         0.003676    -0.356032      0.069151   \n",
              "customer             0.089865        -0.000389    -0.082446     -0.001329   \n",
              "country             -0.059862        -0.002203     0.104609     -0.015124   \n",
              "status              -0.325808         0.001563     0.278120      0.031453   \n",
              "application         -0.093699         0.002586     0.133739      0.016317   \n",
              "thickness            0.052925        -0.002306    -0.060351     -0.032574   \n",
              "width                0.053935        -0.000617    -0.071563     -0.051552   \n",
              "product_ref          0.080178        -0.001820    -0.084772     -0.023529   \n",
              "selling_price       -0.086089         0.005098     0.115220     -0.032015   \n",
              "days_between         0.168203        -0.000637    -0.127737     -0.072459   \n",
              "item_type_IPL       -0.010526        -0.000038    -0.017448     -0.000770   \n",
              "item_type_Others    -0.035819        -0.000130    -0.059374     -0.002622   \n",
              "item_type_PL        -0.135527        -0.000493    -0.224653     -0.009920   \n",
              "item_type_S          1.000000        -0.002026    -0.923381     -0.040773   \n",
              "item_type_SLAWR     -0.002026         1.000000    -0.003358     -0.000148   \n",
              "item_type_W         -0.923381        -0.003358     1.000000     -0.067587   \n",
              "item_type_WI        -0.040773        -0.000148    -0.067587      1.000000   \n",
              "item_type_IPL\\t     -0.010526        -0.000038    -0.017448     -0.000770   \n",
              "\n",
              "                  item_type_IPL\\t  \n",
              "quantity_tons           -0.019514  \n",
              "customer                 0.004445  \n",
              "country                 -0.010684  \n",
              "status                   0.008120  \n",
              "application             -0.005520  \n",
              "thickness                0.010395  \n",
              "width                    0.016686  \n",
              "product_ref              0.006291  \n",
              "selling_price           -0.003714  \n",
              "days_between            -0.016973  \n",
              "item_type_IPL            1.000000  \n",
              "item_type_Others        -0.000677  \n",
              "item_type_PL            -0.002561  \n",
              "item_type_S             -0.010526  \n",
              "item_type_SLAWR         -0.000038  \n",
              "item_type_W             -0.017448  \n",
              "item_type_WI            -0.000770  \n",
              "item_type_IPL\\t          1.000000  "
            ],
            "text/html": [
              "\n",
              "  <div id=\"df-5f9dc6f0-3c4a-42fa-a168-06584b33f2da\" class=\"colab-df-container\">\n",
              "    <div>\n",
              "<style scoped>\n",
              "    .dataframe tbody tr th:only-of-type {\n",
              "        vertical-align: middle;\n",
              "    }\n",
              "\n",
              "    .dataframe tbody tr th {\n",
              "        vertical-align: top;\n",
              "    }\n",
              "\n",
              "    .dataframe thead th {\n",
              "        text-align: right;\n",
              "    }\n",
              "</style>\n",
              "<table border=\"1\" class=\"dataframe\">\n",
              "  <thead>\n",
              "    <tr style=\"text-align: right;\">\n",
              "      <th></th>\n",
              "      <th>quantity_tons</th>\n",
              "      <th>customer</th>\n",
              "      <th>country</th>\n",
              "      <th>status</th>\n",
              "      <th>application</th>\n",
              "      <th>thickness</th>\n",
              "      <th>width</th>\n",
              "      <th>product_ref</th>\n",
              "      <th>selling_price</th>\n",
              "      <th>days_between</th>\n",
              "      <th>item_type_IPL</th>\n",
              "      <th>item_type_Others</th>\n",
              "      <th>item_type_PL</th>\n",
              "      <th>item_type_S</th>\n",
              "      <th>item_type_SLAWR</th>\n",
              "      <th>item_type_W</th>\n",
              "      <th>item_type_WI</th>\n",
              "      <th>item_type_IPL\\t</th>\n",
              "    </tr>\n",
              "  </thead>\n",
              "  <tbody>\n",
              "    <tr>\n",
              "      <th>quantity_tons</th>\n",
              "      <td>1.000000</td>\n",
              "      <td>0.085548</td>\n",
              "      <td>-0.100492</td>\n",
              "      <td>-0.147091</td>\n",
              "      <td>0.082292</td>\n",
              "      <td>0.031105</td>\n",
              "      <td>0.040620</td>\n",
              "      <td>0.065489</td>\n",
              "      <td>-0.060198</td>\n",
              "      <td>0.097229</td>\n",
              "      <td>-0.019514</td>\n",
              "      <td>0.044503</td>\n",
              "      <td>0.006665</td>\n",
              "      <td>0.348926</td>\n",
              "      <td>0.003676</td>\n",
              "      <td>-0.356032</td>\n",
              "      <td>0.069151</td>\n",
              "      <td>-0.019514</td>\n",
              "    </tr>\n",
              "    <tr>\n",
              "      <th>customer</th>\n",
              "      <td>0.085548</td>\n",
              "      <td>1.000000</td>\n",
              "      <td>0.087608</td>\n",
              "      <td>-0.039742</td>\n",
              "      <td>0.024450</td>\n",
              "      <td>0.081419</td>\n",
              "      <td>0.040588</td>\n",
              "      <td>-0.037336</td>\n",
              "      <td>-0.007655</td>\n",
              "      <td>0.001915</td>\n",
              "      <td>0.004445</td>\n",
              "      <td>0.011581</td>\n",
              "      <td>-0.018848</td>\n",
              "      <td>0.089865</td>\n",
              "      <td>-0.000389</td>\n",
              "      <td>-0.082446</td>\n",
              "      <td>-0.001329</td>\n",
              "      <td>0.004445</td>\n",
              "    </tr>\n",
              "    <tr>\n",
              "      <th>country</th>\n",
              "      <td>-0.100492</td>\n",
              "      <td>0.087608</td>\n",
              "      <td>1.000000</td>\n",
              "      <td>0.117216</td>\n",
              "      <td>-0.025712</td>\n",
              "      <td>-0.058007</td>\n",
              "      <td>0.045184</td>\n",
              "      <td>-0.158937</td>\n",
              "      <td>-0.029616</td>\n",
              "      <td>-0.280629</td>\n",
              "      <td>-0.010684</td>\n",
              "      <td>-0.033719</td>\n",
              "      <td>-0.112935</td>\n",
              "      <td>-0.059862</td>\n",
              "      <td>-0.002203</td>\n",
              "      <td>0.104609</td>\n",
              "      <td>-0.015124</td>\n",
              "      <td>-0.010684</td>\n",
              "    </tr>\n",
              "    <tr>\n",
              "      <th>status</th>\n",
              "      <td>-0.147091</td>\n",
              "      <td>-0.039742</td>\n",
              "      <td>0.117216</td>\n",
              "      <td>1.000000</td>\n",
              "      <td>0.164928</td>\n",
              "      <td>-0.172462</td>\n",
              "      <td>-0.120903</td>\n",
              "      <td>-0.081154</td>\n",
              "      <td>0.068626</td>\n",
              "      <td>-0.248517</td>\n",
              "      <td>0.008120</td>\n",
              "      <td>0.018382</td>\n",
              "      <td>0.099508</td>\n",
              "      <td>-0.325808</td>\n",
              "      <td>0.001563</td>\n",
              "      <td>0.278120</td>\n",
              "      <td>0.031453</td>\n",
              "      <td>0.008120</td>\n",
              "    </tr>\n",
              "    <tr>\n",
              "      <th>application</th>\n",
              "      <td>0.082292</td>\n",
              "      <td>0.024450</td>\n",
              "      <td>-0.025712</td>\n",
              "      <td>0.164928</td>\n",
              "      <td>1.000000</td>\n",
              "      <td>-0.165791</td>\n",
              "      <td>-0.200500</td>\n",
              "      <td>-0.122805</td>\n",
              "      <td>0.172875</td>\n",
              "      <td>-0.154502</td>\n",
              "      <td>-0.005520</td>\n",
              "      <td>0.009382</td>\n",
              "      <td>-0.123651</td>\n",
              "      <td>-0.093699</td>\n",
              "      <td>0.002586</td>\n",
              "      <td>0.133739</td>\n",
              "      <td>0.016317</td>\n",
              "      <td>-0.005520</td>\n",
              "    </tr>\n",
              "    <tr>\n",
              "      <th>thickness</th>\n",
              "      <td>0.031105</td>\n",
              "      <td>0.081419</td>\n",
              "      <td>-0.058007</td>\n",
              "      <td>-0.172462</td>\n",
              "      <td>-0.165791</td>\n",
              "      <td>1.000000</td>\n",
              "      <td>0.427553</td>\n",
              "      <td>0.141889</td>\n",
              "      <td>-0.406611</td>\n",
              "      <td>0.078438</td>\n",
              "      <td>0.010395</td>\n",
              "      <td>0.004461</td>\n",
              "      <td>0.031606</td>\n",
              "      <td>0.052925</td>\n",
              "      <td>-0.002306</td>\n",
              "      <td>-0.060351</td>\n",
              "      <td>-0.032574</td>\n",
              "      <td>0.010395</td>\n",
              "    </tr>\n",
              "    <tr>\n",
              "      <th>width</th>\n",
              "      <td>0.040620</td>\n",
              "      <td>0.040588</td>\n",
              "      <td>0.045184</td>\n",
              "      <td>-0.120903</td>\n",
              "      <td>-0.200500</td>\n",
              "      <td>0.427553</td>\n",
              "      <td>1.000000</td>\n",
              "      <td>-0.030634</td>\n",
              "      <td>-0.197967</td>\n",
              "      <td>0.031271</td>\n",
              "      <td>0.016686</td>\n",
              "      <td>-0.012670</td>\n",
              "      <td>0.070051</td>\n",
              "      <td>0.053935</td>\n",
              "      <td>-0.000617</td>\n",
              "      <td>-0.071563</td>\n",
              "      <td>-0.051552</td>\n",
              "      <td>0.016686</td>\n",
              "    </tr>\n",
              "    <tr>\n",
              "      <th>product_ref</th>\n",
              "      <td>0.065489</td>\n",
              "      <td>-0.037336</td>\n",
              "      <td>-0.158937</td>\n",
              "      <td>-0.081154</td>\n",
              "      <td>-0.122805</td>\n",
              "      <td>0.141889</td>\n",
              "      <td>-0.030634</td>\n",
              "      <td>1.000000</td>\n",
              "      <td>-0.080322</td>\n",
              "      <td>0.178664</td>\n",
              "      <td>0.006291</td>\n",
              "      <td>-0.006327</td>\n",
              "      <td>0.025666</td>\n",
              "      <td>0.080178</td>\n",
              "      <td>-0.001820</td>\n",
              "      <td>-0.084772</td>\n",
              "      <td>-0.023529</td>\n",
              "      <td>0.006291</td>\n",
              "    </tr>\n",
              "    <tr>\n",
              "      <th>selling_price</th>\n",
              "      <td>-0.060198</td>\n",
              "      <td>-0.007655</td>\n",
              "      <td>-0.029616</td>\n",
              "      <td>0.068626</td>\n",
              "      <td>0.172875</td>\n",
              "      <td>-0.406611</td>\n",
              "      <td>-0.197967</td>\n",
              "      <td>-0.080322</td>\n",
              "      <td>1.000000</td>\n",
              "      <td>0.321558</td>\n",
              "      <td>-0.003714</td>\n",
              "      <td>0.003096</td>\n",
              "      <td>-0.076397</td>\n",
              "      <td>-0.086089</td>\n",
              "      <td>0.005098</td>\n",
              "      <td>0.115220</td>\n",
              "      <td>-0.032015</td>\n",
              "      <td>-0.003714</td>\n",
              "    </tr>\n",
              "    <tr>\n",
              "      <th>days_between</th>\n",
              "      <td>0.097229</td>\n",
              "      <td>0.001915</td>\n",
              "      <td>-0.280629</td>\n",
              "      <td>-0.248517</td>\n",
              "      <td>-0.154502</td>\n",
              "      <td>0.078438</td>\n",
              "      <td>0.031271</td>\n",
              "      <td>0.178664</td>\n",
              "      <td>0.321558</td>\n",
              "      <td>1.000000</td>\n",
              "      <td>-0.016973</td>\n",
              "      <td>-0.000308</td>\n",
              "      <td>-0.079503</td>\n",
              "      <td>0.168203</td>\n",
              "      <td>-0.000637</td>\n",
              "      <td>-0.127737</td>\n",
              "      <td>-0.072459</td>\n",
              "      <td>-0.016973</td>\n",
              "    </tr>\n",
              "    <tr>\n",
              "      <th>item_type_IPL</th>\n",
              "      <td>-0.019514</td>\n",
              "      <td>0.004445</td>\n",
              "      <td>-0.010684</td>\n",
              "      <td>0.008120</td>\n",
              "      <td>-0.005520</td>\n",
              "      <td>0.010395</td>\n",
              "      <td>0.016686</td>\n",
              "      <td>0.006291</td>\n",
              "      <td>-0.003714</td>\n",
              "      <td>-0.016973</td>\n",
              "      <td>1.000000</td>\n",
              "      <td>-0.000677</td>\n",
              "      <td>-0.002561</td>\n",
              "      <td>-0.010526</td>\n",
              "      <td>-0.000038</td>\n",
              "      <td>-0.017448</td>\n",
              "      <td>-0.000770</td>\n",
              "      <td>1.000000</td>\n",
              "    </tr>\n",
              "    <tr>\n",
              "      <th>item_type_Others</th>\n",
              "      <td>0.044503</td>\n",
              "      <td>0.011581</td>\n",
              "      <td>-0.033719</td>\n",
              "      <td>0.018382</td>\n",
              "      <td>0.009382</td>\n",
              "      <td>0.004461</td>\n",
              "      <td>-0.012670</td>\n",
              "      <td>-0.006327</td>\n",
              "      <td>0.003096</td>\n",
              "      <td>-0.000308</td>\n",
              "      <td>-0.000677</td>\n",
              "      <td>1.000000</td>\n",
              "      <td>-0.008715</td>\n",
              "      <td>-0.035819</td>\n",
              "      <td>-0.000130</td>\n",
              "      <td>-0.059374</td>\n",
              "      <td>-0.002622</td>\n",
              "      <td>-0.000677</td>\n",
              "    </tr>\n",
              "    <tr>\n",
              "      <th>item_type_PL</th>\n",
              "      <td>0.006665</td>\n",
              "      <td>-0.018848</td>\n",
              "      <td>-0.112935</td>\n",
              "      <td>0.099508</td>\n",
              "      <td>-0.123651</td>\n",
              "      <td>0.031606</td>\n",
              "      <td>0.070051</td>\n",
              "      <td>0.025666</td>\n",
              "      <td>-0.076397</td>\n",
              "      <td>-0.079503</td>\n",
              "      <td>-0.002561</td>\n",
              "      <td>-0.008715</td>\n",
              "      <td>1.000000</td>\n",
              "      <td>-0.135527</td>\n",
              "      <td>-0.000493</td>\n",
              "      <td>-0.224653</td>\n",
              "      <td>-0.009920</td>\n",
              "      <td>-0.002561</td>\n",
              "    </tr>\n",
              "    <tr>\n",
              "      <th>item_type_S</th>\n",
              "      <td>0.348926</td>\n",
              "      <td>0.089865</td>\n",
              "      <td>-0.059862</td>\n",
              "      <td>-0.325808</td>\n",
              "      <td>-0.093699</td>\n",
              "      <td>0.052925</td>\n",
              "      <td>0.053935</td>\n",
              "      <td>0.080178</td>\n",
              "      <td>-0.086089</td>\n",
              "      <td>0.168203</td>\n",
              "      <td>-0.010526</td>\n",
              "      <td>-0.035819</td>\n",
              "      <td>-0.135527</td>\n",
              "      <td>1.000000</td>\n",
              "      <td>-0.002026</td>\n",
              "      <td>-0.923381</td>\n",
              "      <td>-0.040773</td>\n",
              "      <td>-0.010526</td>\n",
              "    </tr>\n",
              "    <tr>\n",
              "      <th>item_type_SLAWR</th>\n",
              "      <td>0.003676</td>\n",
              "      <td>-0.000389</td>\n",
              "      <td>-0.002203</td>\n",
              "      <td>0.001563</td>\n",
              "      <td>0.002586</td>\n",
              "      <td>-0.002306</td>\n",
              "      <td>-0.000617</td>\n",
              "      <td>-0.001820</td>\n",
              "      <td>0.005098</td>\n",
              "      <td>-0.000637</td>\n",
              "      <td>-0.000038</td>\n",
              "      <td>-0.000130</td>\n",
              "      <td>-0.000493</td>\n",
              "      <td>-0.002026</td>\n",
              "      <td>1.000000</td>\n",
              "      <td>-0.003358</td>\n",
              "      <td>-0.000148</td>\n",
              "      <td>-0.000038</td>\n",
              "    </tr>\n",
              "    <tr>\n",
              "      <th>item_type_W</th>\n",
              "      <td>-0.356032</td>\n",
              "      <td>-0.082446</td>\n",
              "      <td>0.104609</td>\n",
              "      <td>0.278120</td>\n",
              "      <td>0.133739</td>\n",
              "      <td>-0.060351</td>\n",
              "      <td>-0.071563</td>\n",
              "      <td>-0.084772</td>\n",
              "      <td>0.115220</td>\n",
              "      <td>-0.127737</td>\n",
              "      <td>-0.017448</td>\n",
              "      <td>-0.059374</td>\n",
              "      <td>-0.224653</td>\n",
              "      <td>-0.923381</td>\n",
              "      <td>-0.003358</td>\n",
              "      <td>1.000000</td>\n",
              "      <td>-0.067587</td>\n",
              "      <td>-0.017448</td>\n",
              "    </tr>\n",
              "    <tr>\n",
              "      <th>item_type_WI</th>\n",
              "      <td>0.069151</td>\n",
              "      <td>-0.001329</td>\n",
              "      <td>-0.015124</td>\n",
              "      <td>0.031453</td>\n",
              "      <td>0.016317</td>\n",
              "      <td>-0.032574</td>\n",
              "      <td>-0.051552</td>\n",
              "      <td>-0.023529</td>\n",
              "      <td>-0.032015</td>\n",
              "      <td>-0.072459</td>\n",
              "      <td>-0.000770</td>\n",
              "      <td>-0.002622</td>\n",
              "      <td>-0.009920</td>\n",
              "      <td>-0.040773</td>\n",
              "      <td>-0.000148</td>\n",
              "      <td>-0.067587</td>\n",
              "      <td>1.000000</td>\n",
              "      <td>-0.000770</td>\n",
              "    </tr>\n",
              "    <tr>\n",
              "      <th>item_type_IPL\\t</th>\n",
              "      <td>-0.019514</td>\n",
              "      <td>0.004445</td>\n",
              "      <td>-0.010684</td>\n",
              "      <td>0.008120</td>\n",
              "      <td>-0.005520</td>\n",
              "      <td>0.010395</td>\n",
              "      <td>0.016686</td>\n",
              "      <td>0.006291</td>\n",
              "      <td>-0.003714</td>\n",
              "      <td>-0.016973</td>\n",
              "      <td>1.000000</td>\n",
              "      <td>-0.000677</td>\n",
              "      <td>-0.002561</td>\n",
              "      <td>-0.010526</td>\n",
              "      <td>-0.000038</td>\n",
              "      <td>-0.017448</td>\n",
              "      <td>-0.000770</td>\n",
              "      <td>1.000000</td>\n",
              "    </tr>\n",
              "  </tbody>\n",
              "</table>\n",
              "</div>\n",
              "    <div class=\"colab-df-buttons\">\n",
              "\n",
              "  <div class=\"colab-df-container\">\n",
              "    <button class=\"colab-df-convert\" onclick=\"convertToInteractive('df-5f9dc6f0-3c4a-42fa-a168-06584b33f2da')\"\n",
              "            title=\"Convert this dataframe to an interactive table.\"\n",
              "            style=\"display:none;\">\n",
              "\n",
              "  <svg xmlns=\"http://www.w3.org/2000/svg\" height=\"24px\" viewBox=\"0 -960 960 960\">\n",
              "    <path d=\"M120-120v-720h720v720H120Zm60-500h600v-160H180v160Zm220 220h160v-160H400v160Zm0 220h160v-160H400v160ZM180-400h160v-160H180v160Zm440 0h160v-160H620v160ZM180-180h160v-160H180v160Zm440 0h160v-160H620v160Z\"/>\n",
              "  </svg>\n",
              "    </button>\n",
              "\n",
              "  <style>\n",
              "    .colab-df-container {\n",
              "      display:flex;\n",
              "      gap: 12px;\n",
              "    }\n",
              "\n",
              "    .colab-df-convert {\n",
              "      background-color: #E8F0FE;\n",
              "      border: none;\n",
              "      border-radius: 50%;\n",
              "      cursor: pointer;\n",
              "      display: none;\n",
              "      fill: #1967D2;\n",
              "      height: 32px;\n",
              "      padding: 0 0 0 0;\n",
              "      width: 32px;\n",
              "    }\n",
              "\n",
              "    .colab-df-convert:hover {\n",
              "      background-color: #E2EBFA;\n",
              "      box-shadow: 0px 1px 2px rgba(60, 64, 67, 0.3), 0px 1px 3px 1px rgba(60, 64, 67, 0.15);\n",
              "      fill: #174EA6;\n",
              "    }\n",
              "\n",
              "    .colab-df-buttons div {\n",
              "      margin-bottom: 4px;\n",
              "    }\n",
              "\n",
              "    [theme=dark] .colab-df-convert {\n",
              "      background-color: #3B4455;\n",
              "      fill: #D2E3FC;\n",
              "    }\n",
              "\n",
              "    [theme=dark] .colab-df-convert:hover {\n",
              "      background-color: #434B5C;\n",
              "      box-shadow: 0px 1px 3px 1px rgba(0, 0, 0, 0.15);\n",
              "      filter: drop-shadow(0px 1px 2px rgba(0, 0, 0, 0.3));\n",
              "      fill: #FFFFFF;\n",
              "    }\n",
              "  </style>\n",
              "\n",
              "    <script>\n",
              "      const buttonEl =\n",
              "        document.querySelector('#df-5f9dc6f0-3c4a-42fa-a168-06584b33f2da button.colab-df-convert');\n",
              "      buttonEl.style.display =\n",
              "        google.colab.kernel.accessAllowed ? 'block' : 'none';\n",
              "\n",
              "      async function convertToInteractive(key) {\n",
              "        const element = document.querySelector('#df-5f9dc6f0-3c4a-42fa-a168-06584b33f2da');\n",
              "        const dataTable =\n",
              "          await google.colab.kernel.invokeFunction('convertToInteractive',\n",
              "                                                    [key], {});\n",
              "        if (!dataTable) return;\n",
              "\n",
              "        const docLinkHtml = 'Like what you see? Visit the ' +\n",
              "          '<a target=\"_blank\" href=https://colab.research.google.com/notebooks/data_table.ipynb>data table notebook</a>'\n",
              "          + ' to learn more about interactive tables.';\n",
              "        element.innerHTML = '';\n",
              "        dataTable['output_type'] = 'display_data';\n",
              "        await google.colab.output.renderOutput(dataTable, element);\n",
              "        const docLink = document.createElement('div');\n",
              "        docLink.innerHTML = docLinkHtml;\n",
              "        element.appendChild(docLink);\n",
              "      }\n",
              "    </script>\n",
              "  </div>\n",
              "\n",
              "\n",
              "<div id=\"df-9afb2915-ceb5-4e7d-901f-451f12ca4e28\">\n",
              "  <button class=\"colab-df-quickchart\" onclick=\"quickchart('df-9afb2915-ceb5-4e7d-901f-451f12ca4e28')\"\n",
              "            title=\"Suggest charts\"\n",
              "            style=\"display:none;\">\n",
              "\n",
              "<svg xmlns=\"http://www.w3.org/2000/svg\" height=\"24px\"viewBox=\"0 0 24 24\"\n",
              "     width=\"24px\">\n",
              "    <g>\n",
              "        <path d=\"M19 3H5c-1.1 0-2 .9-2 2v14c0 1.1.9 2 2 2h14c1.1 0 2-.9 2-2V5c0-1.1-.9-2-2-2zM9 17H7v-7h2v7zm4 0h-2V7h2v10zm4 0h-2v-4h2v4z\"/>\n",
              "    </g>\n",
              "</svg>\n",
              "  </button>\n",
              "\n",
              "<style>\n",
              "  .colab-df-quickchart {\n",
              "      --bg-color: #E8F0FE;\n",
              "      --fill-color: #1967D2;\n",
              "      --hover-bg-color: #E2EBFA;\n",
              "      --hover-fill-color: #174EA6;\n",
              "      --disabled-fill-color: #AAA;\n",
              "      --disabled-bg-color: #DDD;\n",
              "  }\n",
              "\n",
              "  [theme=dark] .colab-df-quickchart {\n",
              "      --bg-color: #3B4455;\n",
              "      --fill-color: #D2E3FC;\n",
              "      --hover-bg-color: #434B5C;\n",
              "      --hover-fill-color: #FFFFFF;\n",
              "      --disabled-bg-color: #3B4455;\n",
              "      --disabled-fill-color: #666;\n",
              "  }\n",
              "\n",
              "  .colab-df-quickchart {\n",
              "    background-color: var(--bg-color);\n",
              "    border: none;\n",
              "    border-radius: 50%;\n",
              "    cursor: pointer;\n",
              "    display: none;\n",
              "    fill: var(--fill-color);\n",
              "    height: 32px;\n",
              "    padding: 0;\n",
              "    width: 32px;\n",
              "  }\n",
              "\n",
              "  .colab-df-quickchart:hover {\n",
              "    background-color: var(--hover-bg-color);\n",
              "    box-shadow: 0 1px 2px rgba(60, 64, 67, 0.3), 0 1px 3px 1px rgba(60, 64, 67, 0.15);\n",
              "    fill: var(--button-hover-fill-color);\n",
              "  }\n",
              "\n",
              "  .colab-df-quickchart-complete:disabled,\n",
              "  .colab-df-quickchart-complete:disabled:hover {\n",
              "    background-color: var(--disabled-bg-color);\n",
              "    fill: var(--disabled-fill-color);\n",
              "    box-shadow: none;\n",
              "  }\n",
              "\n",
              "  .colab-df-spinner {\n",
              "    border: 2px solid var(--fill-color);\n",
              "    border-color: transparent;\n",
              "    border-bottom-color: var(--fill-color);\n",
              "    animation:\n",
              "      spin 1s steps(1) infinite;\n",
              "  }\n",
              "\n",
              "  @keyframes spin {\n",
              "    0% {\n",
              "      border-color: transparent;\n",
              "      border-bottom-color: var(--fill-color);\n",
              "      border-left-color: var(--fill-color);\n",
              "    }\n",
              "    20% {\n",
              "      border-color: transparent;\n",
              "      border-left-color: var(--fill-color);\n",
              "      border-top-color: var(--fill-color);\n",
              "    }\n",
              "    30% {\n",
              "      border-color: transparent;\n",
              "      border-left-color: var(--fill-color);\n",
              "      border-top-color: var(--fill-color);\n",
              "      border-right-color: var(--fill-color);\n",
              "    }\n",
              "    40% {\n",
              "      border-color: transparent;\n",
              "      border-right-color: var(--fill-color);\n",
              "      border-top-color: var(--fill-color);\n",
              "    }\n",
              "    60% {\n",
              "      border-color: transparent;\n",
              "      border-right-color: var(--fill-color);\n",
              "    }\n",
              "    80% {\n",
              "      border-color: transparent;\n",
              "      border-right-color: var(--fill-color);\n",
              "      border-bottom-color: var(--fill-color);\n",
              "    }\n",
              "    90% {\n",
              "      border-color: transparent;\n",
              "      border-bottom-color: var(--fill-color);\n",
              "    }\n",
              "  }\n",
              "</style>\n",
              "\n",
              "  <script>\n",
              "    async function quickchart(key) {\n",
              "      const quickchartButtonEl =\n",
              "        document.querySelector('#' + key + ' button');\n",
              "      quickchartButtonEl.disabled = true;  // To prevent multiple clicks.\n",
              "      quickchartButtonEl.classList.add('colab-df-spinner');\n",
              "      try {\n",
              "        const charts = await google.colab.kernel.invokeFunction(\n",
              "            'suggestCharts', [key], {});\n",
              "      } catch (error) {\n",
              "        console.error('Error during call to suggestCharts:', error);\n",
              "      }\n",
              "      quickchartButtonEl.classList.remove('colab-df-spinner');\n",
              "      quickchartButtonEl.classList.add('colab-df-quickchart-complete');\n",
              "    }\n",
              "    (() => {\n",
              "      let quickchartButtonEl =\n",
              "        document.querySelector('#df-9afb2915-ceb5-4e7d-901f-451f12ca4e28 button');\n",
              "      quickchartButtonEl.style.display =\n",
              "        google.colab.kernel.accessAllowed ? 'block' : 'none';\n",
              "    })();\n",
              "  </script>\n",
              "</div>\n",
              "\n",
              "    </div>\n",
              "  </div>\n"
            ],
            "application/vnd.google.colaboratory.intrinsic+json": {
              "type": "dataframe",
              "summary": "{\n  \"name\": \"df\",\n  \"rows\": 18,\n  \"fields\": [\n    {\n      \"column\": \"quantity_tons\",\n      \"properties\": {\n        \"dtype\": \"number\",\n        \"std\": 0.270679027542974,\n        \"min\": -0.35603186742377474,\n        \"max\": 1.0,\n        \"num_unique_values\": 17,\n        \"samples\": [\n          1.0,\n          0.08554798224808186,\n          0.031104916017968866\n        ],\n        \"semantic_type\": \"\",\n        \"description\": \"\"\n      }\n    },\n    {\n      \"column\": \"customer\",\n      \"properties\": {\n        \"dtype\": \"number\",\n        \"std\": 0.2371791074103151,\n        \"min\": -0.08244603518659231,\n        \"max\": 1.0,\n        \"num_unique_values\": 17,\n        \"samples\": [\n          0.08554798224808186,\n          1.0,\n          0.08141923850831748\n        ],\n        \"semantic_type\": \"\",\n        \"description\": \"\"\n      }\n    },\n    {\n      \"column\": \"country\",\n      \"properties\": {\n        \"dtype\": \"number\",\n        \"std\": 0.2611961739413547,\n        \"min\": -0.2806287112665857,\n        \"max\": 1.0,\n        \"num_unique_values\": 17,\n        \"samples\": [\n          -0.10049167466812904,\n          0.0876083533275987,\n          -0.058007043488054015\n        ],\n        \"semantic_type\": \"\",\n        \"description\": \"\"\n      }\n    },\n    {\n      \"column\": \"status\",\n      \"properties\": {\n        \"dtype\": \"number\",\n        \"std\": 0.28203164256390945,\n        \"min\": -0.3258078694007261,\n        \"max\": 1.0,\n        \"num_unique_values\": 17,\n        \"samples\": [\n          -0.14709128575204944,\n          -0.0397422154633496,\n          -0.1724620995675106\n        ],\n        \"semantic_type\": \"\",\n        \"description\": \"\"\n      }\n    },\n    {\n      \"column\": \"application\",\n      \"properties\": {\n        \"dtype\": \"number\",\n        \"std\": 0.2641543055672352,\n        \"min\": -0.20049967971961488,\n        \"max\": 1.0,\n        \"num_unique_values\": 17,\n        \"samples\": [\n          0.08229156683234577,\n          0.024450426736739812,\n          -0.1657905607188252\n        ],\n        \"semantic_type\": \"\",\n        \"description\": \"\"\n      }\n    },\n    {\n      \"column\": \"thickness\",\n      \"properties\": {\n        \"dtype\": \"number\",\n        \"std\": 0.286854897480845,\n        \"min\": -0.40661090925508114,\n        \"max\": 1.0,\n        \"num_unique_values\": 17,\n        \"samples\": [\n          0.031104916017968866,\n          0.08141923850831748,\n          1.0\n        ],\n        \"semantic_type\": \"\",\n        \"description\": \"\"\n      }\n    },\n    {\n      \"column\": \"width\",\n      \"properties\": {\n        \"dtype\": \"number\",\n        \"std\": 0.2699025566663859,\n        \"min\": -0.20049967971961488,\n        \"max\": 1.0,\n        \"num_unique_values\": 17,\n        \"samples\": [\n          0.04062026794301573,\n          0.0405881719244768,\n          0.42755250167589565\n        ],\n        \"semantic_type\": \"\",\n        \"description\": \"\"\n      }\n    },\n    {\n      \"column\": \"product_ref\",\n      \"properties\": {\n        \"dtype\": \"number\",\n        \"std\": 0.2525506357268688,\n        \"min\": -0.15893712161722465,\n        \"max\": 1.0,\n        \"num_unique_values\": 17,\n        \"samples\": [\n          0.06548930498708812,\n          -0.03733645508122197,\n          0.1418894481336223\n        ],\n        \"semantic_type\": \"\",\n        \"description\": \"\"\n      }\n    },\n    {\n      \"column\": \"selling_price\",\n      \"properties\": {\n        \"dtype\": \"number\",\n        \"std\": 0.28219197427962256,\n        \"min\": -0.40661090925508114,\n        \"max\": 1.0,\n        \"num_unique_values\": 17,\n        \"samples\": [\n          -0.06019835658761051,\n          -0.007655015704353379,\n          -0.40661090925508114\n        ],\n        \"semantic_type\": \"\",\n        \"description\": \"\"\n      }\n    },\n    {\n      \"column\": \"days_between\",\n      \"properties\": {\n        \"dtype\": \"number\",\n        \"std\": 0.2797183746980746,\n        \"min\": -0.2806287112665857,\n        \"max\": 1.0,\n        \"num_unique_values\": 17,\n        \"samples\": [\n          0.09722890023016188,\n          0.001914601098518816,\n          0.07843755638245847\n        ],\n        \"semantic_type\": \"\",\n        \"description\": \"\"\n      }\n    },\n    {\n      \"column\": \"item_type_IPL\",\n      \"properties\": {\n        \"dtype\": \"number\",\n        \"std\": 0.3243891638857187,\n        \"min\": -0.019514415536777945,\n        \"max\": 1.0,\n        \"num_unique_values\": 17,\n        \"samples\": [\n          -0.019514415536777945,\n          0.00444491123799508,\n          0.010394515219471118\n        ],\n        \"semantic_type\": \"\",\n        \"description\": \"\"\n      }\n    },\n    {\n      \"column\": \"item_type_Others\",\n      \"properties\": {\n        \"dtype\": \"number\",\n        \"std\": 0.23772350781938914,\n        \"min\": -0.05937446452120395,\n        \"max\": 1.0,\n        \"num_unique_values\": 17,\n        \"samples\": [\n          0.04450349898318854,\n          0.011581445989589047,\n          0.004461139208744827\n        ],\n        \"semantic_type\": \"\",\n        \"description\": \"\"\n      }\n    },\n    {\n      \"column\": \"item_type_PL\",\n      \"properties\": {\n        \"dtype\": \"number\",\n        \"std\": 0.2561532868313659,\n        \"min\": -0.22465277099270986,\n        \"max\": 1.0,\n        \"num_unique_values\": 18,\n        \"samples\": [\n          0.006665404425857094,\n          -0.01884756239826022,\n          -0.07639669857205224\n        ],\n        \"semantic_type\": \"\",\n        \"description\": \"\"\n      }\n    },\n    {\n      \"column\": \"item_type_S\",\n      \"properties\": {\n        \"dtype\": \"number\",\n        \"std\": 0.3572839023794437,\n        \"min\": -0.9233809611305992,\n        \"max\": 1.0,\n        \"num_unique_values\": 18,\n        \"samples\": [\n          0.348926464909525,\n          0.08986515252651686,\n          -0.08608852364964349\n        ],\n        \"semantic_type\": \"\",\n        \"description\": \"\"\n      }\n    },\n    {\n      \"column\": \"item_type_SLAWR\",\n      \"properties\": {\n        \"dtype\": \"number\",\n        \"std\": 0.23572979885375572,\n        \"min\": -0.0033575651400615447,\n        \"max\": 1.0,\n        \"num_unique_values\": 17,\n        \"samples\": [\n          0.0036757037187837797,\n          -0.00038864849690296437,\n          -0.0023059145725585106\n        ],\n        \"semantic_type\": \"\",\n        \"description\": \"\"\n      }\n    },\n    {\n      \"column\": \"item_type_W\",\n      \"properties\": {\n        \"dtype\": \"number\",\n        \"std\": 0.3585188940750734,\n        \"min\": -0.9233809611305992,\n        \"max\": 1.0,\n        \"num_unique_values\": 17,\n        \"samples\": [\n          -0.35603186742377474,\n          -0.08244603518659231,\n          -0.06035125729334018\n        ],\n        \"semantic_type\": \"\",\n        \"description\": \"\"\n      }\n    },\n    {\n      \"column\": \"item_type_WI\",\n      \"properties\": {\n        \"dtype\": \"number\",\n        \"std\": 0.241390118062153,\n        \"min\": -0.07245860371150693,\n        \"max\": 1.0,\n        \"num_unique_values\": 18,\n        \"samples\": [\n          0.06915127817925636,\n          -0.0013292582489859823,\n          -0.03201519662116111\n        ],\n        \"semantic_type\": \"\",\n        \"description\": \"\"\n      }\n    },\n    {\n      \"column\": \"item_type_IPL\\t\",\n      \"properties\": {\n        \"dtype\": \"number\",\n        \"std\": 0.3243891638857187,\n        \"min\": -0.019514415536777945,\n        \"max\": 1.0,\n        \"num_unique_values\": 17,\n        \"samples\": [\n          -0.019514415536777945,\n          0.00444491123799508,\n          0.010394515219471118\n        ],\n        \"semantic_type\": \"\",\n        \"description\": \"\"\n      }\n    }\n  ]\n}"
            }
          },
          "metadata": {},
          "execution_count": 55
        }
      ],
      "source": [
        "df.corr()"
      ]
    },
    {
      "cell_type": "code",
      "execution_count": 56,
      "metadata": {
        "colab": {
          "base_uri": "https://localhost:8080/",
          "height": 621
        },
        "id": "W5asgia9jW5_",
        "outputId": "e6b74f54-bdd0-4a81-dcab-35d1aa797290"
      },
      "outputs": [
        {
          "output_type": "stream",
          "name": "stderr",
          "text": [
            "/usr/local/lib/python3.10/dist-packages/seaborn/utils.py:61: UserWarning: Glyph 9 (\t) missing from current font.\n",
            "  fig.canvas.draw()\n",
            "/usr/local/lib/python3.10/dist-packages/IPython/core/pylabtools.py:151: UserWarning: Glyph 9 (\t) missing from current font.\n",
            "  fig.canvas.print_figure(bytes_io, **kw)\n"
          ]
        },
        {
          "output_type": "display_data",
          "data": {
            "text/plain": [
              "<Figure size 640x480 with 2 Axes>"
            ],
            "image/png": "[encoded data removed]"
          },
          "metadata": {}
        }
      ],
      "source": [
        "sns.heatmap(data = df.corr())\n",
        "plt.show()"
      ]
    },
    {
      "cell_type": "code",
      "execution_count": 51,
      "metadata": {
        "id": "3DWsdyPFj0Kq"
      },
      "outputs": [],
      "source": [
        "# saving the data\n",
        "df.to_csv(\"copper_final_data.csv\")"
      ]
    },
    {
      "cell_type": "code",
      "execution_count": 52,
      "metadata": {
        "id": "j-0X7WtuonNd"
      },
      "outputs": [],
      "source": [
        "# training the model-Selling price\n",
        "# selling price is a continous data so here regression ML model is used\n",
        "#y-selling_price is a target value"
      ]
    },
    {
      "cell_type": "code",
      "execution_count": 53,
      "metadata": {
        "id": "hBeNdISAqJWP"
      },
      "outputs": [],
      "source": [
        "from sklearn.neighbors import KNeighborsRegressor\n",
        "from sklearn.tree import DecisionTreeRegressor\n",
        "from sklearn.ensemble import RandomForestRegressor\n",
        "import xgboost as xgb"
      ]
    },
    {
      "cell_type": "code",
      "execution_count": 54,
      "metadata": {
        "id": "Ks2HO4x0qwNu"
      },
      "outputs": [],
      "source": [
        "y = df['selling_price']\n",
        "x = df.drop(['selling_price'],axis=1)"
      ]
    },
    {
      "cell_type": "code",
      "execution_count": 55,
      "metadata": {
        "id": "nFDMheX0q9dj"
      },
      "outputs": [],
      "source": [
        "from sklearn.model_selection import train_test_split\n",
        "x_train,x_test,y_train,y_test = train_test_split(x,y,test_size=0.20)"
      ]
    },
    {
      "cell_type": "code",
      "execution_count": 56,
      "metadata": {
        "id": "oILZ_SlG_sGR"
      },
      "outputs": [],
      "source": [
        "from sklearn.preprocessing import StandardScaler  #import\n",
        "from sklearn.model_selection import cross_val_score\n",
        "\n",
        "scaler = StandardScaler() #initialise\n",
        "scaler.fit(x_train) # fit\n",
        "x_train_scaled = scaler.transform(x_train)\n",
        "x_test_scaled = scaler.transform(x_test)\n",
        "\n",
        "x_train_scaled = pd.DataFrame(x_train_scaled, columns=x_train.columns)\n",
        "x_test_scaled = pd.DataFrame(x_test_scaled, columns=x_test.columns)\n"
      ]
    },
    {
      "cell_type": "code",
      "execution_count": 61,
      "metadata": {
        "id": "KV_yYmRnpRg7",
        "colab": {
          "base_uri": "https://localhost:8080/"
        },
        "outputId": "c9a52d16-2e5a-4be9-91ab-d032cdd52680"
      },
      "outputs": [
        {
          "output_type": "stream",
          "name": "stdout",
          "text": [
            "K value :  1 train score :  0.9986548365435205 cross_val_score :  0.6634867623827037\n",
            "K value :  2 train score :  0.918636216361174 cross_val_score :  0.7138353139413158\n",
            "K value :  3 train score :  0.8769355550015309 cross_val_score :  0.721642563086718\n",
            "K value :  4 train score :  0.8484103751489274 cross_val_score :  0.7201986187390228\n",
            "K value :  5 train score :  0.8265567783146088 cross_val_score :  0.7164661178342497\n",
            "K value :  6 train score :  0.8090123598703093 cross_val_score :  0.7119660053972905\n",
            "K value :  7 train score :  0.7946752994132537 cross_val_score :  0.7071701769930641\n",
            "K value :  8 train score :  0.7824850774431137 cross_val_score :  0.7023458146296593\n",
            "K value :  9 train score :  0.7715763242288894 cross_val_score :  0.6971352605826062\n"
          ]
        }
      ],
      "source": [
        "# KNN (K Nearest Neighbour) Regression\n",
        "# choosing the best k Neighbour value\n",
        "\n",
        "\n",
        "knn_values = np.arange(1,10)\n",
        "cross_val_knn = []\n",
        "for k in knn_values:\n",
        "  knn_regressor = KNeighborsRegressor(n_neighbors=k)\n",
        "  knn_regressor.fit(x_train_scaled,y_train)\n",
        "  print(\"K value : \",k, \"train score : \",knn_regressor.score(x_train_scaled,y_train), \"cross_val_score : \",cross_val_score(knn_regressor,x_train_scaled,y_train,cv=10).mean())\n",
        "  cross_val_knn.append(cross_val_score(knn_regressor,x_train_scaled,y_train,cv=10).mean())\n",
        "\n"
      ]
    },
    {
      "cell_type": "code",
      "execution_count": 62,
      "metadata": {
        "id": "NzWL20x9AVat"
      },
      "outputs": [],
      "source": [
        "max_mean_score = max(cross_val_knn)\n",
        "best_k_index = cross_val_knn.index(max_mean_score)\n",
        "best_k_value = knn_values[best_k_index]"
      ]
    },
    {
      "cell_type": "code",
      "execution_count": 63,
      "metadata": {
        "id": "BC4V7YCXAjeL",
        "colab": {
          "base_uri": "https://localhost:8080/"
        },
        "outputId": "e1fcf8e6-3f2b-4bdd-fc95-8f1d56ed1609"
      },
      "outputs": [
        {
          "output_type": "stream",
          "name": "stdout",
          "text": [
            "Best K value :  3\n",
            "Maximum mean cross-validation score :  0.721642563086718\n"
          ]
        }
      ],
      "source": [
        "print(\"Best K value : \",best_k_value)\n",
        "print(\"Maximum mean cross-validation score : \",max_mean_score)"
      ]
    },
    {
      "cell_type": "code",
      "execution_count": 64,
      "metadata": {
        "id": "6YFNNIhpBc7m",
        "colab": {
          "base_uri": "https://localhost:8080/",
          "height": 75
        },
        "outputId": "625810d9-98ef-4696-d095-a8486b4d999f"
      },
      "outputs": [
        {
          "output_type": "execute_result",
          "data": {
            "text/plain": [
              "KNeighborsRegressor(n_neighbors=3)"
            ],
            "text/html": [
              "<style>#sk-container-id-1 {color: black;background-color: white;}#sk-container-id-1 pre{padding: 0;}#sk-container-id-1 div.sk-toggleable {background-color: white;}#sk-container-id-1 label.sk-toggleable__label {cursor: pointer;display: block;width: 100%;margin-bottom: 0;padding: 0.3em;box-sizing: border-box;text-align: center;}#sk-container-id-1 label.sk-toggleable__label-arrow:before {content: \"▸\";float: left;margin-right: 0.25em;color: #696969;}#sk-container-id-1 label.sk-toggleable__label-arrow:hover:before {color: black;}#sk-container-id-1 div.sk-estimator:hover label.sk-toggleable__label-arrow:before {color: black;}#sk-container-id-1 div.sk-toggleable__content {max-height: 0;max-width: 0;overflow: hidden;text-align: left;background-color: #f0f8ff;}#sk-container-id-1 div.sk-toggleable__content pre {margin: 0.2em;color: black;border-radius: 0.25em;background-color: #f0f8ff;}#sk-container-id-1 input.sk-toggleable__control:checked~div.sk-toggleable__content {max-height: 200px;max-width: 100%;overflow: auto;}#sk-container-id-1 input.sk-toggleable__control:checked~label.sk-toggleable__label-arrow:before {content: \"▾\";}#sk-container-id-1 div.sk-estimator input.sk-toggleable__control:checked~label.sk-toggleable__label {background-color: #d4ebff;}#sk-container-id-1 div.sk-label input.sk-toggleable__control:checked~label.sk-toggleable__label {background-color: #d4ebff;}#sk-container-id-1 input.sk-hidden--visually {border: 0;clip: rect(1px 1px 1px 1px);clip: rect(1px, 1px, 1px, 1px);height: 1px;margin: -1px;overflow: hidden;padding: 0;position: absolute;width: 1px;}#sk-container-id-1 div.sk-estimator {font-family: monospace;background-color: #f0f8ff;border: 1px dotted black;border-radius: 0.25em;box-sizing: border-box;margin-bottom: 0.5em;}#sk-container-id-1 div.sk-estimator:hover {background-color: #d4ebff;}#sk-container-id-1 div.sk-parallel-item::after {content: \"\";width: 100%;border-bottom: 1px solid gray;flex-grow: 1;}#sk-container-id-1 div.sk-label:hover label.sk-toggleable__label {background-color: #d4ebff;}#sk-container-id-1 div.sk-serial::before {content: \"\";position: absolute;border-left: 1px solid gray;box-sizing: border-box;top: 0;bottom: 0;left: 50%;z-index: 0;}#sk-container-id-1 div.sk-serial {display: flex;flex-direction: column;align-items: center;background-color: white;padding-right: 0.2em;padding-left: 0.2em;position: relative;}#sk-container-id-1 div.sk-item {position: relative;z-index: 1;}#sk-container-id-1 div.sk-parallel {display: flex;align-items: stretch;justify-content: center;background-color: white;position: relative;}#sk-container-id-1 div.sk-item::before, #sk-container-id-1 div.sk-parallel-item::before {content: \"\";position: absolute;border-left: 1px solid gray;box-sizing: border-box;top: 0;bottom: 0;left: 50%;z-index: -1;}#sk-container-id-1 div.sk-parallel-item {display: flex;flex-direction: column;z-index: 1;position: relative;background-color: white;}#sk-container-id-1 div.sk-parallel-item:first-child::after {align-self: flex-end;width: 50%;}#sk-container-id-1 div.sk-parallel-item:last-child::after {align-self: flex-start;width: 50%;}#sk-container-id-1 div.sk-parallel-item:only-child::after {width: 0;}#sk-container-id-1 div.sk-dashed-wrapped {border: 1px dashed gray;margin: 0 0.4em 0.5em 0.4em;box-sizing: border-box;padding-bottom: 0.4em;background-color: white;}#sk-container-id-1 div.sk-label label {font-family: monospace;font-weight: bold;display: inline-block;line-height: 1.2em;}#sk-container-id-1 div.sk-label-container {text-align: center;}#sk-container-id-1 div.sk-container {/* jupyter's `normalize.less` sets `[hidden] { display: none; }` but bootstrap.min.css set `[hidden] { display: none !important; }` so we also need the `!important` here to be able to override the default hidden behavior on the sphinx rendered scikit-learn.org. See: https://github.com/scikit-learn/scikit-learn/issues/21755 */display: inline-block !important;position: relative;}#sk-container-id-1 div.sk-text-repr-fallback {display: none;}</style><div id=\"sk-container-id-1\" class=\"sk-top-container\"><div class=\"sk-text-repr-fallback\"><pre>KNeighborsRegressor(n_neighbors=3)</pre><b>In a Jupyter environment, please rerun this cell to show the HTML representation or trust the notebook. <br />On GitHub, the HTML representation is unable to render, please try loading this page with nbviewer.org.</b></div><div class=\"sk-container\" hidden><div class=\"sk-item\"><div class=\"sk-estimator sk-toggleable\"><input class=\"sk-toggleable__control sk-hidden--visually\" id=\"sk-estimator-id-1\" type=\"checkbox\" checked><label for=\"sk-estimator-id-1\" class=\"sk-toggleable__label sk-toggleable__label-arrow\">KNeighborsRegressor</label><div class=\"sk-toggleable__content\"><pre>KNeighborsRegressor(n_neighbors=3)</pre></div></div></div></div></div>"
            ]
          },
          "metadata": {},
          "execution_count": 64
        }
      ],
      "source": [
        "# implementing KNN Regression\n",
        "knn_regressor = KNeighborsRegressor(n_neighbors=3)\n",
        "knn_regressor.fit(x_train_scaled,y_train)\n"
      ]
    },
    {
      "cell_type": "code",
      "execution_count": 65,
      "metadata": {
        "id": "g37f2fn7CHMS"
      },
      "outputs": [],
      "source": [
        "cross_val_knn_regressor = cross_val_score(knn_regressor,x_train_scaled,y_train,cv=10).mean()"
      ]
    },
    {
      "cell_type": "code",
      "execution_count": 66,
      "metadata": {
        "id": "oxn0ItEzCrCe",
        "colab": {
          "base_uri": "https://localhost:8080/"
        },
        "outputId": "6884fa9c-d4fe-437c-d2f2-f84569f2953c"
      },
      "outputs": [
        {
          "output_type": "execute_result",
          "data": {
            "text/plain": [
              "0.721642563086718"
            ]
          },
          "metadata": {},
          "execution_count": 66
        }
      ],
      "source": [
        "cross_val_knn_regressor"
      ]
    },
    {
      "cell_type": "code",
      "execution_count": 68,
      "metadata": {
        "id": "gDJl6diqOD1o",
        "colab": {
          "base_uri": "https://localhost:8080/"
        },
        "outputId": "213a06c6-0c41-4d8e-8e5b-cb9f8b1567bd"
      },
      "outputs": [
        {
          "output_type": "stream",
          "name": "stdout",
          "text": [
            "Depth value: 1 Train score: 0.3166354125458509 Cross-validation score: 0.3165813666881587\n",
            "Depth value: 2 Train score: 0.44621736286095603 Cross-validation score: 0.44606464651216954\n",
            "Depth value: 3 Train score: 0.4914811632127172 Cross-validation score: 0.49063406249768216\n",
            "Depth value: 4 Train score: 0.5247366006613983 Cross-validation score: 0.5238182559513218\n",
            "Depth value: 5 Train score: 0.563681876947407 Cross-validation score: 0.5631306302026589\n",
            "Depth value: 6 Train score: 0.6027218260948037 Cross-validation score: 0.6007456219872596\n",
            "Depth value: 7 Train score: 0.6404502416296001 Cross-validation score: 0.6357501925104925\n",
            "Depth value: 8 Train score: 0.6806000876504437 Cross-validation score: 0.6729580229757295\n",
            "Depth value: 9 Train score: 0.7156978542121146 Cross-validation score: 0.703365234935782\n",
            "Depth value: 10 Train score: 0.7515020943094015 Cross-validation score: 0.732308825745656\n",
            "Depth value: 11 Train score: 0.786583600558973 Cross-validation score: 0.7588010344210052\n",
            "Depth value: 12 Train score: 0.8200572572169961 Cross-validation score: 0.781893572621237\n",
            "Depth value: 13 Train score: 0.84990177550147 Cross-validation score: 0.8011449057135037\n",
            "Depth value: 14 Train score: 0.877722187582584 Cross-validation score: 0.8185938626959413\n",
            "Depth value: 15 Train score: 0.9021893870539077 Cross-validation score: 0.8315247358980369\n",
            "Depth value: 16 Train score: 0.9230727118640222 Cross-validation score: 0.84076865830563\n",
            "Depth value: 17 Train score: 0.9412791444954376 Cross-validation score: 0.8472250707381088\n",
            "Depth value: 18 Train score: 0.9563090650932788 Cross-validation score: 0.8502310731899494\n",
            "Depth value: 19 Train score: 0.9675466492954218 Cross-validation score: 0.8512641570140913\n",
            "Depth value: 20 Train score: 0.9764311587634006 Cross-validation score: 0.851667185398688\n",
            "Depth value: 21 Train score: 0.9830694672678816 Cross-validation score: 0.8496209043808758\n",
            "Depth value: 22 Train score: 0.9880897123213884 Cross-validation score: 0.848563186135545\n",
            "Depth value: 23 Train score: 0.9915909050431425 Cross-validation score: 0.8479818879949521\n",
            "Depth value: 24 Train score: 0.9938161762881944 Cross-validation score: 0.8479057976389297\n",
            "Depth value: 25 Train score: 0.995332201962377 Cross-validation score: 0.8476963157905262\n",
            "Depth value: 26 Train score: 0.9965104421093063 Cross-validation score: 0.8460047190010375\n",
            "Depth value: 27 Train score: 0.9973852726488923 Cross-validation score: 0.8462343763934912\n",
            "Depth value: 28 Train score: 0.9979991639610413 Cross-validation score: 0.8458231936210782\n",
            "Depth value: 29 Train score: 0.9984196294909806 Cross-validation score: 0.8458148949381684\n"
          ]
        }
      ],
      "source": [
        "#Descision Tree Regression\n",
        "\n",
        "from sklearn.tree import DecisionTreeRegressor\n",
        "\n",
        "depth_values = np.arange(1,30)\n",
        "cross_val_scores = []\n",
        "\n",
        "# Perform cross-validation for each value of max_depth\n",
        "for d in depth_values:\n",
        "    dt_regressor = DecisionTreeRegressor(max_depth=d, random_state=0)\n",
        "\n",
        "    # Fit the model\n",
        "    dt_regressor.fit(x_train_scaled, y_train)\n",
        "\n",
        "    # Calculate cross-validation scores\n",
        "    cv_scores = cross_val_score(dt_regressor, x_train_scaled, y_train, cv=10)\n",
        "    mean_cv_score = cv_scores.mean()\n",
        "\n",
        "    # Print the results\n",
        "    print(\"Depth value:\", d, \"Train score:\", dt_regressor.score(x_train_scaled, y_train), \"Cross-validation score:\", mean_cv_score)\n",
        "\n",
        "    # Store the mean cross-validation score\n",
        "    cross_val_scores.append(mean_cv_score)"
      ]
    },
    {
      "cell_type": "code",
      "execution_count": 69,
      "metadata": {
        "id": "OCGVolYVOEV6"
      },
      "outputs": [],
      "source": [
        "\n",
        "# Find the max cross-validation score and the corresponding depth value\n",
        "max_mean_score = max(cross_val_scores)\n",
        "best_depth_index = cross_val_scores.index(max_mean_score)\n",
        "best_depth_value = depth_values[best_depth_index]\n"
      ]
    },
    {
      "cell_type": "code",
      "execution_count": 70,
      "metadata": {
        "id": "4KC6CgGtOPVt",
        "colab": {
          "base_uri": "https://localhost:8080/"
        },
        "outputId": "dcf5d586-e440-46ea-fd56-8cfaf577bf15"
      },
      "outputs": [
        {
          "output_type": "stream",
          "name": "stdout",
          "text": [
            "Best max_depth value: 20\n",
            "Best cross-validation mean score: 0.851667185398688\n"
          ]
        }
      ],
      "source": [
        "print(\"Best max_depth value:\", best_depth_value)\n",
        "print(\"Best cross-validation mean score:\", max_mean_score)"
      ]
    },
    {
      "cell_type": "code",
      "execution_count": 76,
      "metadata": {
        "id": "2T4aqvCjOi0K",
        "colab": {
          "base_uri": "https://localhost:8080/",
          "height": 75
        },
        "outputId": "aa42cab8-cd99-4ada-85a5-4329c9a827e3"
      },
      "outputs": [
        {
          "output_type": "execute_result",
          "data": {
            "text/plain": [
              "DecisionTreeRegressor(max_depth=20, random_state=0)"
            ],
            "text/html": [
              "<style>#sk-container-id-4 {color: black;background-color: white;}#sk-container-id-4 pre{padding: 0;}#sk-container-id-4 div.sk-toggleable {background-color: white;}#sk-container-id-4 label.sk-toggleable__label {cursor: pointer;display: block;width: 100%;margin-bottom: 0;padding: 0.3em;box-sizing: border-box;text-align: center;}#sk-container-id-4 label.sk-toggleable__label-arrow:before {content: \"▸\";float: left;margin-right: 0.25em;color: #696969;}#sk-container-id-4 label.sk-toggleable__label-arrow:hover:before {color: black;}#sk-container-id-4 div.sk-estimator:hover label.sk-toggleable__label-arrow:before {color: black;}#sk-container-id-4 div.sk-toggleable__content {max-height: 0;max-width: 0;overflow: hidden;text-align: left;background-color: #f0f8ff;}#sk-container-id-4 div.sk-toggleable__content pre {margin: 0.2em;color: black;border-radius: 0.25em;background-color: #f0f8ff;}#sk-container-id-4 input.sk-toggleable__control:checked~div.sk-toggleable__content {max-height: 200px;max-width: 100%;overflow: auto;}#sk-container-id-4 input.sk-toggleable__control:checked~label.sk-toggleable__label-arrow:before {content: \"▾\";}#sk-container-id-4 div.sk-estimator input.sk-toggleable__control:checked~label.sk-toggleable__label {background-color: #d4ebff;}#sk-container-id-4 div.sk-label input.sk-toggleable__control:checked~label.sk-toggleable__label {background-color: #d4ebff;}#sk-container-id-4 input.sk-hidden--visually {border: 0;clip: rect(1px 1px 1px 1px);clip: rect(1px, 1px, 1px, 1px);height: 1px;margin: -1px;overflow: hidden;padding: 0;position: absolute;width: 1px;}#sk-container-id-4 div.sk-estimator {font-family: monospace;background-color: #f0f8ff;border: 1px dotted black;border-radius: 0.25em;box-sizing: border-box;margin-bottom: 0.5em;}#sk-container-id-4 div.sk-estimator:hover {background-color: #d4ebff;}#sk-container-id-4 div.sk-parallel-item::after {content: \"\";width: 100%;border-bottom: 1px solid gray;flex-grow: 1;}#sk-container-id-4 div.sk-label:hover label.sk-toggleable__label {background-color: #d4ebff;}#sk-container-id-4 div.sk-serial::before {content: \"\";position: absolute;border-left: 1px solid gray;box-sizing: border-box;top: 0;bottom: 0;left: 50%;z-index: 0;}#sk-container-id-4 div.sk-serial {display: flex;flex-direction: column;align-items: center;background-color: white;padding-right: 0.2em;padding-left: 0.2em;position: relative;}#sk-container-id-4 div.sk-item {position: relative;z-index: 1;}#sk-container-id-4 div.sk-parallel {display: flex;align-items: stretch;justify-content: center;background-color: white;position: relative;}#sk-container-id-4 div.sk-item::before, #sk-container-id-4 div.sk-parallel-item::before {content: \"\";position: absolute;border-left: 1px solid gray;box-sizing: border-box;top: 0;bottom: 0;left: 50%;z-index: -1;}#sk-container-id-4 div.sk-parallel-item {display: flex;flex-direction: column;z-index: 1;position: relative;background-color: white;}#sk-container-id-4 div.sk-parallel-item:first-child::after {align-self: flex-end;width: 50%;}#sk-container-id-4 div.sk-parallel-item:last-child::after {align-self: flex-start;width: 50%;}#sk-container-id-4 div.sk-parallel-item:only-child::after {width: 0;}#sk-container-id-4 div.sk-dashed-wrapped {border: 1px dashed gray;margin: 0 0.4em 0.5em 0.4em;box-sizing: border-box;padding-bottom: 0.4em;background-color: white;}#sk-container-id-4 div.sk-label label {font-family: monospace;font-weight: bold;display: inline-block;line-height: 1.2em;}#sk-container-id-4 div.sk-label-container {text-align: center;}#sk-container-id-4 div.sk-container {/* jupyter's `normalize.less` sets `[hidden] { display: none; }` but bootstrap.min.css set `[hidden] { display: none !important; }` so we also need the `!important` here to be able to override the default hidden behavior on the sphinx rendered scikit-learn.org. See: https://github.com/scikit-learn/scikit-learn/issues/21755 */display: inline-block !important;position: relative;}#sk-container-id-4 div.sk-text-repr-fallback {display: none;}</style><div id=\"sk-container-id-4\" class=\"sk-top-container\"><div class=\"sk-text-repr-fallback\"><pre>DecisionTreeRegressor(max_depth=20, random_state=0)</pre><b>In a Jupyter environment, please rerun this cell to show the HTML representation or trust the notebook. <br />On GitHub, the HTML representation is unable to render, please try loading this page with nbviewer.org.</b></div><div class=\"sk-container\" hidden><div class=\"sk-item\"><div class=\"sk-estimator sk-toggleable\"><input class=\"sk-toggleable__control sk-hidden--visually\" id=\"sk-estimator-id-4\" type=\"checkbox\" checked><label for=\"sk-estimator-id-4\" class=\"sk-toggleable__label sk-toggleable__label-arrow\">DecisionTreeRegressor</label><div class=\"sk-toggleable__content\"><pre>DecisionTreeRegressor(max_depth=20, random_state=0)</pre></div></div></div></div></div>"
            ]
          },
          "metadata": {},
          "execution_count": 76
        }
      ],
      "source": [
        "# implementing descision Tree regression\n",
        "dt_regressor = DecisionTreeRegressor(max_depth=20,random_state = 0) # initialize\n",
        "dt_regressor.fit(x_train_scaled,y_train) #fit"
      ]
    },
    {
      "cell_type": "code",
      "execution_count": 77,
      "metadata": {
        "id": "beASjbr4P2VU",
        "colab": {
          "base_uri": "https://localhost:8080/"
        },
        "outputId": "5fd59088-cc2d-4707-83a7-cc4325da0c76"
      },
      "outputs": [
        {
          "output_type": "execute_result",
          "data": {
            "text/plain": [
              "0.8547869252867593"
            ]
          },
          "metadata": {},
          "execution_count": 77
        }
      ],
      "source": [
        "cross_val_dt_regression = cross_val_score(dt_regressor,x_train_scaled,y_train,cv=15).mean()\n",
        "cross_val_dt_regression"
      ]
    },
    {
      "cell_type": "code",
      "execution_count": 80,
      "metadata": {
        "id": "mCgwa07lQKx9",
        "colab": {
          "base_uri": "https://localhost:8080/"
        },
        "outputId": "d006141d-eb4d-42d4-b7fc-b22f7d97d039"
      },
      "outputs": [
        {
          "output_type": "stream",
          "name": "stdout",
          "text": [
            "Depth :  2 cross_val_score :  0.44641708143434355\n",
            "Depth :  4 cross_val_score :  0.5287132279472407\n",
            "Depth :  6 cross_val_score :  0.613872879097699\n",
            "Depth :  7 cross_val_score :  0.6547455212592462\n",
            "Depth :  8 cross_val_score :  0.6951330761991559\n",
            "Depth :  10 cross_val_score :  0.7652010893790986\n",
            "Depth :  12 cross_val_score :  0.8239353028203537\n",
            "Depth :  14 cross_val_score :  0.8666009180358485\n",
            "Depth :  16 cross_val_score :  0.8924557552075745\n",
            "Depth :  17 cross_val_score :  0.9004185850634864\n",
            "Depth :  20 cross_val_score :  0.9108571006570052\n"
          ]
        }
      ],
      "source": [
        "# Random Forest Regression\n",
        "from sklearn.ensemble import RandomForestRegressor\n",
        "\n",
        "max_depth = np.array([2,4,6,7,8,10,12,14,16,17,20])\n",
        "cross_val_rf = []\n",
        "for i in max_depth:\n",
        "  rf_regressor = RandomForestRegressor(max_depth = i,random_state=0)\n",
        "  rf_regressor.fit(x_train_scaled,y_train)\n",
        "  print(\"Depth : \",i, \"cross_val_score : \", cross_val_score(rf_regressor,x_train_scaled,y_train,cv=10).mean())\n",
        "  cross_val_rf.append(cross_val_score(rf_regressor,x_train_scaled,y_train,cv=10).mean())\n"
      ]
    },
    {
      "cell_type": "code",
      "execution_count": 81,
      "metadata": {
        "id": "X3ig-oky9F59",
        "colab": {
          "base_uri": "https://localhost:8080/"
        },
        "outputId": "1f5d55ba-2065-410e-c9fd-72d9d6cf7bf4"
      },
      "outputs": [
        {
          "output_type": "stream",
          "name": "stdout",
          "text": [
            "Best depth value: 20\n",
            "Maximum mean cross-validation score: 0.9108571006570052\n"
          ]
        }
      ],
      "source": [
        "max_mean_score = max(cross_val_rf)\n",
        "best_rf_index = cross_val_rf.index(max_mean_score)\n",
        "best_depth_value = max_depth[best_rf_index]\n",
        "\n",
        "print(\"Best depth value:\", best_depth_value)\n",
        "print(\"Maximum mean cross-validation score:\", max_mean_score)"
      ]
    },
    {
      "cell_type": "code",
      "execution_count": 78,
      "metadata": {
        "id": "J-FiZB9q9tUc",
        "colab": {
          "base_uri": "https://localhost:8080/",
          "height": 75
        },
        "outputId": "364a03e6-f5ad-4624-ee2e-41b866a8fe5e"
      },
      "outputs": [
        {
          "output_type": "execute_result",
          "data": {
            "text/plain": [
              "RandomForestRegressor(max_depth=20, random_state=0)"
            ],
            "text/html": [
              "<style>#sk-container-id-5 {color: black;background-color: white;}#sk-container-id-5 pre{padding: 0;}#sk-container-id-5 div.sk-toggleable {background-color: white;}#sk-container-id-5 label.sk-toggleable__label {cursor: pointer;display: block;width: 100%;margin-bottom: 0;padding: 0.3em;box-sizing: border-box;text-align: center;}#sk-container-id-5 label.sk-toggleable__label-arrow:before {content: \"▸\";float: left;margin-right: 0.25em;color: #696969;}#sk-container-id-5 label.sk-toggleable__label-arrow:hover:before {color: black;}#sk-container-id-5 div.sk-estimator:hover label.sk-toggleable__label-arrow:before {color: black;}#sk-container-id-5 div.sk-toggleable__content {max-height: 0;max-width: 0;overflow: hidden;text-align: left;background-color: #f0f8ff;}#sk-container-id-5 div.sk-toggleable__content pre {margin: 0.2em;color: black;border-radius: 0.25em;background-color: #f0f8ff;}#sk-container-id-5 input.sk-toggleable__control:checked~div.sk-toggleable__content {max-height: 200px;max-width: 100%;overflow: auto;}#sk-container-id-5 input.sk-toggleable__control:checked~label.sk-toggleable__label-arrow:before {content: \"▾\";}#sk-container-id-5 div.sk-estimator input.sk-toggleable__control:checked~label.sk-toggleable__label {background-color: #d4ebff;}#sk-container-id-5 div.sk-label input.sk-toggleable__control:checked~label.sk-toggleable__label {background-color: #d4ebff;}#sk-container-id-5 input.sk-hidden--visually {border: 0;clip: rect(1px 1px 1px 1px);clip: rect(1px, 1px, 1px, 1px);height: 1px;margin: -1px;overflow: hidden;padding: 0;position: absolute;width: 1px;}#sk-container-id-5 div.sk-estimator {font-family: monospace;background-color: #f0f8ff;border: 1px dotted black;border-radius: 0.25em;box-sizing: border-box;margin-bottom: 0.5em;}#sk-container-id-5 div.sk-estimator:hover {background-color: #d4ebff;}#sk-container-id-5 div.sk-parallel-item::after {content: \"\";width: 100%;border-bottom: 1px solid gray;flex-grow: 1;}#sk-container-id-5 div.sk-label:hover label.sk-toggleable__label {background-color: #d4ebff;}#sk-container-id-5 div.sk-serial::before {content: \"\";position: absolute;border-left: 1px solid gray;box-sizing: border-box;top: 0;bottom: 0;left: 50%;z-index: 0;}#sk-container-id-5 div.sk-serial {display: flex;flex-direction: column;align-items: center;background-color: white;padding-right: 0.2em;padding-left: 0.2em;position: relative;}#sk-container-id-5 div.sk-item {position: relative;z-index: 1;}#sk-container-id-5 div.sk-parallel {display: flex;align-items: stretch;justify-content: center;background-color: white;position: relative;}#sk-container-id-5 div.sk-item::before, #sk-container-id-5 div.sk-parallel-item::before {content: \"\";position: absolute;border-left: 1px solid gray;box-sizing: border-box;top: 0;bottom: 0;left: 50%;z-index: -1;}#sk-container-id-5 div.sk-parallel-item {display: flex;flex-direction: column;z-index: 1;position: relative;background-color: white;}#sk-container-id-5 div.sk-parallel-item:first-child::after {align-self: flex-end;width: 50%;}#sk-container-id-5 div.sk-parallel-item:last-child::after {align-self: flex-start;width: 50%;}#sk-container-id-5 div.sk-parallel-item:only-child::after {width: 0;}#sk-container-id-5 div.sk-dashed-wrapped {border: 1px dashed gray;margin: 0 0.4em 0.5em 0.4em;box-sizing: border-box;padding-bottom: 0.4em;background-color: white;}#sk-container-id-5 div.sk-label label {font-family: monospace;font-weight: bold;display: inline-block;line-height: 1.2em;}#sk-container-id-5 div.sk-label-container {text-align: center;}#sk-container-id-5 div.sk-container {/* jupyter's `normalize.less` sets `[hidden] { display: none; }` but bootstrap.min.css set `[hidden] { display: none !important; }` so we also need the `!important` here to be able to override the default hidden behavior on the sphinx rendered scikit-learn.org. See: https://github.com/scikit-learn/scikit-learn/issues/21755 */display: inline-block !important;position: relative;}#sk-container-id-5 div.sk-text-repr-fallback {display: none;}</style><div id=\"sk-container-id-5\" class=\"sk-top-container\"><div class=\"sk-text-repr-fallback\"><pre>RandomForestRegressor(max_depth=20, random_state=0)</pre><b>In a Jupyter environment, please rerun this cell to show the HTML representation or trust the notebook. <br />On GitHub, the HTML representation is unable to render, please try loading this page with nbviewer.org.</b></div><div class=\"sk-container\" hidden><div class=\"sk-item\"><div class=\"sk-estimator sk-toggleable\"><input class=\"sk-toggleable__control sk-hidden--visually\" id=\"sk-estimator-id-5\" type=\"checkbox\" checked><label for=\"sk-estimator-id-5\" class=\"sk-toggleable__label sk-toggleable__label-arrow\">RandomForestRegressor</label><div class=\"sk-toggleable__content\"><pre>RandomForestRegressor(max_depth=20, random_state=0)</pre></div></div></div></div></div>"
            ]
          },
          "metadata": {},
          "execution_count": 78
        }
      ],
      "source": [
        "# implementing random forest regressor\n",
        "rf_regressor = RandomForestRegressor(max_depth=20,random_state=0)\n",
        "rf_regressor.fit(x_train,y_train)"
      ]
    },
    {
      "cell_type": "code",
      "source": [
        "cross_val_reg_rf = cross_val_score(rf_regressor,x_train_scaled,y_train,cv=10).mean()\n",
        "cross_val_reg_rf"
      ],
      "metadata": {
        "id": "deaf9tFTa4mO",
        "colab": {
          "base_uri": "https://localhost:8080/"
        },
        "outputId": "b8cf3b31-0155-40dc-da6d-bfa5a138ef8a"
      },
      "execution_count": 82,
      "outputs": [
        {
          "output_type": "execute_result",
          "data": {
            "text/plain": [
              "0.9108571006570052"
            ]
          },
          "metadata": {},
          "execution_count": 82
        }
      ]
    },
    {
      "cell_type": "code",
      "source": [
        "# Extreme Gradient Boosting regression\n",
        "\n",
        "cross_val_xgb = []\n",
        "for lr in [0.01,0.05,0.08,0.1,0.2]:\n",
        "  xgb_regressor = xgb.XGBRegressor(learning_rate = lr,n_estimators=100)\n",
        "  xgb_regressor.fit(x_train_scaled,y_train)\n",
        "  print(\"Learning : \",lr, \"cross_val_score : \",cross_val_score(xgb_regressor,x_train_scaled,y_train,cv=10).mean())\n",
        "  cross_val_xgb.append(cross_val_score(xgb_regressor,x_train_scaled,y_train,cv=10).mean())"
      ],
      "metadata": {
        "colab": {
          "base_uri": "https://localhost:8080/"
        },
        "id": "Dl5-F840bb7W",
        "outputId": "0d55e2db-6865-46e0-a099-7979635c401d"
      },
      "execution_count": 83,
      "outputs": [
        {
          "output_type": "stream",
          "name": "stdout",
          "text": [
            "Learning :  0.01 cross_val_score :  0.5439620598508981\n",
            "Learning :  0.05 cross_val_score :  0.7331002199951941\n",
            "Learning :  0.08 cross_val_score :  0.758649096897986\n",
            "Learning :  0.1 cross_val_score :  0.7729712225527628\n",
            "Learning :  0.2 cross_val_score :  0.8162121326648963\n"
          ]
        }
      ]
    },
    {
      "cell_type": "code",
      "source": [
        "cross_val_xgb_regressor = np.max(cross_val_xgb)\n",
        "cross_val_xgb_regressor"
      ],
      "metadata": {
        "colab": {
          "base_uri": "https://localhost:8080/"
        },
        "id": "vCrOFJQvh_MA",
        "outputId": "82463980-4aa2-42ad-ecf1-e767728718d4"
      },
      "execution_count": 84,
      "outputs": [
        {
          "output_type": "execute_result",
          "data": {
            "text/plain": [
              "0.8162121326648963"
            ]
          },
          "metadata": {},
          "execution_count": 84
        }
      ]
    },
    {
      "cell_type": "code",
      "source": [
        "print(\"The best learning rate is 0.2  and cross val score is \",cross_val_xgb_regressor)"
      ],
      "metadata": {
        "colab": {
          "base_uri": "https://localhost:8080/"
        },
        "id": "kZhrWgNLnoq5",
        "outputId": "95fcfc83-21fc-4ab8-d0b4-82c463cb005b"
      },
      "execution_count": 85,
      "outputs": [
        {
          "output_type": "stream",
          "name": "stdout",
          "text": [
            "The best learning rate is 0.2  and cross val score is  0.8162121326648963\n"
          ]
        }
      ]
    },
    {
      "cell_type": "code",
      "source": [
        "# implementing\n",
        "xgb_regressor = xgb.XGBRegressor(learning_rate =0.2,n_estimators=100)\n",
        "xgb_regressor.fit(x_train_scaled,y_train)\n"
      ],
      "metadata": {
        "colab": {
          "base_uri": "https://localhost:8080/",
          "height": 248
        },
        "id": "esGce242n7Uc",
        "outputId": "12c2b2cb-8495-470b-db0b-685490b153dd"
      },
      "execution_count": 86,
      "outputs": [
        {
          "output_type": "execute_result",
          "data": {
            "text/plain": [
              "XGBRegressor(base_score=None, booster=None, callbacks=None,\n",
              "             colsample_bylevel=None, colsample_bynode=None,\n",
              "             colsample_bytree=None, device=None, early_stopping_rounds=None,\n",
              "             enable_categorical=False, eval_metric=None, feature_types=None,\n",
              "             gamma=None, grow_policy=None, importance_type=None,\n",
              "             interaction_constraints=None, learning_rate=0.2, max_bin=None,\n",
              "             max_cat_threshold=None, max_cat_to_onehot=None,\n",
              "             max_delta_step=None, max_depth=None, max_leaves=None,\n",
              "             min_child_weight=None, missing=nan, monotone_constraints=None,\n",
              "             multi_strategy=None, n_estimators=100, n_jobs=None,\n",
              "             num_parallel_tree=None, random_state=None, ...)"
            ],
            "text/html": [
              "<style>#sk-container-id-6 {color: black;background-color: white;}#sk-container-id-6 pre{padding: 0;}#sk-container-id-6 div.sk-toggleable {background-color: white;}#sk-container-id-6 label.sk-toggleable__label {cursor: pointer;display: block;width: 100%;margin-bottom: 0;padding: 0.3em;box-sizing: border-box;text-align: center;}#sk-container-id-6 label.sk-toggleable__label-arrow:before {content: \"▸\";float: left;margin-right: 0.25em;color: #696969;}#sk-container-id-6 label.sk-toggleable__label-arrow:hover:before {color: black;}#sk-container-id-6 div.sk-estimator:hover label.sk-toggleable__label-arrow:before {color: black;}#sk-container-id-6 div.sk-toggleable__content {max-height: 0;max-width: 0;overflow: hidden;text-align: left;background-color: #f0f8ff;}#sk-container-id-6 div.sk-toggleable__content pre {margin: 0.2em;color: black;border-radius: 0.25em;background-color: #f0f8ff;}#sk-container-id-6 input.sk-toggleable__control:checked~div.sk-toggleable__content {max-height: 200px;max-width: 100%;overflow: auto;}#sk-container-id-6 input.sk-toggleable__control:checked~label.sk-toggleable__label-arrow:before {content: \"▾\";}#sk-container-id-6 div.sk-estimator input.sk-toggleable__control:checked~label.sk-toggleable__label {background-color: #d4ebff;}#sk-container-id-6 div.sk-label input.sk-toggleable__control:checked~label.sk-toggleable__label {background-color: #d4ebff;}#sk-container-id-6 input.sk-hidden--visually {border: 0;clip: rect(1px 1px 1px 1px);clip: rect(1px, 1px, 1px, 1px);height: 1px;margin: -1px;overflow: hidden;padding: 0;position: absolute;width: 1px;}#sk-container-id-6 div.sk-estimator {font-family: monospace;background-color: #f0f8ff;border: 1px dotted black;border-radius: 0.25em;box-sizing: border-box;margin-bottom: 0.5em;}#sk-container-id-6 div.sk-estimator:hover {background-color: #d4ebff;}#sk-container-id-6 div.sk-parallel-item::after {content: \"\";width: 100%;border-bottom: 1px solid gray;flex-grow: 1;}#sk-container-id-6 div.sk-label:hover label.sk-toggleable__label {background-color: #d4ebff;}#sk-container-id-6 div.sk-serial::before {content: \"\";position: absolute;border-left: 1px solid gray;box-sizing: border-box;top: 0;bottom: 0;left: 50%;z-index: 0;}#sk-container-id-6 div.sk-serial {display: flex;flex-direction: column;align-items: center;background-color: white;padding-right: 0.2em;padding-left: 0.2em;position: relative;}#sk-container-id-6 div.sk-item {position: relative;z-index: 1;}#sk-container-id-6 div.sk-parallel {display: flex;align-items: stretch;justify-content: center;background-color: white;position: relative;}#sk-container-id-6 div.sk-item::before, #sk-container-id-6 div.sk-parallel-item::before {content: \"\";position: absolute;border-left: 1px solid gray;box-sizing: border-box;top: 0;bottom: 0;left: 50%;z-index: -1;}#sk-container-id-6 div.sk-parallel-item {display: flex;flex-direction: column;z-index: 1;position: relative;background-color: white;}#sk-container-id-6 div.sk-parallel-item:first-child::after {align-self: flex-end;width: 50%;}#sk-container-id-6 div.sk-parallel-item:last-child::after {align-self: flex-start;width: 50%;}#sk-container-id-6 div.sk-parallel-item:only-child::after {width: 0;}#sk-container-id-6 div.sk-dashed-wrapped {border: 1px dashed gray;margin: 0 0.4em 0.5em 0.4em;box-sizing: border-box;padding-bottom: 0.4em;background-color: white;}#sk-container-id-6 div.sk-label label {font-family: monospace;font-weight: bold;display: inline-block;line-height: 1.2em;}#sk-container-id-6 div.sk-label-container {text-align: center;}#sk-container-id-6 div.sk-container {/* jupyter's `normalize.less` sets `[hidden] { display: none; }` but bootstrap.min.css set `[hidden] { display: none !important; }` so we also need the `!important` here to be able to override the default hidden behavior on the sphinx rendered scikit-learn.org. See: https://github.com/scikit-learn/scikit-learn/issues/21755 */display: inline-block !important;position: relative;}#sk-container-id-6 div.sk-text-repr-fallback {display: none;}</style><div id=\"sk-container-id-6\" class=\"sk-top-container\"><div class=\"sk-text-repr-fallback\"><pre>XGBRegressor(base_score=None, booster=None, callbacks=None,\n",
              "             colsample_bylevel=None, colsample_bynode=None,\n",
              "             colsample_bytree=None, device=None, early_stopping_rounds=None,\n",
              "             enable_categorical=False, eval_metric=None, feature_types=None,\n",
              "             gamma=None, grow_policy=None, importance_type=None,\n",
              "             interaction_constraints=None, learning_rate=0.2, max_bin=None,\n",
              "             max_cat_threshold=None, max_cat_to_onehot=None,\n",
              "             max_delta_step=None, max_depth=None, max_leaves=None,\n",
              "             min_child_weight=None, missing=nan, monotone_constraints=None,\n",
              "             multi_strategy=None, n_estimators=100, n_jobs=None,\n",
              "             num_parallel_tree=None, random_state=None, ...)</pre><b>In a Jupyter environment, please rerun this cell to show the HTML representation or trust the notebook. <br />On GitHub, the HTML representation is unable to render, please try loading this page with nbviewer.org.</b></div><div class=\"sk-container\" hidden><div class=\"sk-item\"><div class=\"sk-estimator sk-toggleable\"><input class=\"sk-toggleable__control sk-hidden--visually\" id=\"sk-estimator-id-6\" type=\"checkbox\" checked><label for=\"sk-estimator-id-6\" class=\"sk-toggleable__label sk-toggleable__label-arrow\">XGBRegressor</label><div class=\"sk-toggleable__content\"><pre>XGBRegressor(base_score=None, booster=None, callbacks=None,\n",
              "             colsample_bylevel=None, colsample_bynode=None,\n",
              "             colsample_bytree=None, device=None, early_stopping_rounds=None,\n",
              "             enable_categorical=False, eval_metric=None, feature_types=None,\n",
              "             gamma=None, grow_policy=None, importance_type=None,\n",
              "             interaction_constraints=None, learning_rate=0.2, max_bin=None,\n",
              "             max_cat_threshold=None, max_cat_to_onehot=None,\n",
              "             max_delta_step=None, max_depth=None, max_leaves=None,\n",
              "             min_child_weight=None, missing=nan, monotone_constraints=None,\n",
              "             multi_strategy=None, n_estimators=100, n_jobs=None,\n",
              "             num_parallel_tree=None, random_state=None, ...)</pre></div></div></div></div></div>"
            ]
          },
          "metadata": {},
          "execution_count": 86
        }
      ]
    },
    {
      "cell_type": "code",
      "source": [
        "cross_val_xgb_regressor = (cross_val_score(xgb_regressor,x_train_scaled,y_train,cv=10).mean())"
      ],
      "metadata": {
        "id": "aQWgDO92oLGf"
      },
      "execution_count": 87,
      "outputs": []
    },
    {
      "cell_type": "code",
      "source": [
        "cross_val_xgb_regressor"
      ],
      "metadata": {
        "colab": {
          "base_uri": "https://localhost:8080/"
        },
        "id": "hEBA6bT9oRcK",
        "outputId": "5bc96eab-107e-4d73-9539-0f51fcbaaa1a"
      },
      "execution_count": 88,
      "outputs": [
        {
          "output_type": "execute_result",
          "data": {
            "text/plain": [
              "0.8162121326648963"
            ]
          },
          "metadata": {},
          "execution_count": 88
        }
      ]
    },
    {
      "cell_type": "code",
      "source": [
        "# cross validation score for machine learning models\n",
        "\n",
        "print(\"Cross Validation score for Decision Tree Regression model : \",cross_val_dt_regression)\n",
        "print(\"Cross Validation score for Random Forest Regression model : \",cross_val_reg_rf)\n",
        "print(\"Cross Validation score for XGradient Regression model : \",cross_val_xgb_regressor)"
      ],
      "metadata": {
        "id": "92hjPxOPoomW",
        "colab": {
          "base_uri": "https://localhost:8080/"
        },
        "outputId": "9e596b69-278c-4e2e-c0cb-1394053cf32a"
      },
      "execution_count": 89,
      "outputs": [
        {
          "output_type": "stream",
          "name": "stdout",
          "text": [
            "Cross Validation score for Decision Tree Regression model :  0.8547869252867593\n",
            "Cross Validation score for Random Forest Regression model :  0.9108571006570052\n",
            "Cross Validation score for XGradient Regression model :  0.8162121326648963\n"
          ]
        }
      ]
    },
    {
      "cell_type": "code",
      "source": [
        "# R2 score\n",
        "from sklearn.metrics import r2_score\n",
        "\n",
        "y_predict_dt = dt_regressor.predict(x_test_scaled)\n",
        "y_predict_rf = rf_regressor.predict(x_test_scaled)\n",
        "y_predict_xgb = xgb_regressor.predict(x_test_scaled)\n"
      ],
      "metadata": {
        "id": "mt43rSYXp9Pw"
      },
      "execution_count": 91,
      "outputs": []
    },
    {
      "cell_type": "code",
      "source": [
        "r2_score_dt = r2_score(y_test,y_predict_dt)\n",
        "r2_score_rf = r2_score(y_test,y_predict_rf)\n",
        "r2_score_xgb = r2_score(y_test,y_predict_xgb)"
      ],
      "metadata": {
        "id": "CtiGcYGms76K"
      },
      "execution_count": 92,
      "outputs": []
    },
    {
      "cell_type": "code",
      "source": [
        "# r2 score\n",
        "print(\"R2 score for Decision Tree Regression model : \",r2_score_dt)\n",
        "print(\"R2 score for Random Forest Regression model : \",r2_score_rf)\n",
        "print(\"R2 score for XGradient Regression model : \",r2_score_xgb)"
      ],
      "metadata": {
        "id": "vOtkC5QNwlah",
        "outputId": "2772c355-9a0d-48da-d465-823f45230f3f",
        "colab": {
          "base_uri": "https://localhost:8080/"
        }
      },
      "execution_count": 93,
      "outputs": [
        {
          "output_type": "stream",
          "name": "stdout",
          "text": [
            "R2 score for Decision Tree Regression model :  0.8625812361165397\n",
            "R2 score for Random Forest Regression model :  0.9187243358259243\n",
            "R2 score for XGradient Regression model :  0.8224428088903672\n"
          ]
        }
      ]
    },
    {
      "cell_type": "code",
      "source": [
        "df.columns"
      ],
      "metadata": {
        "colab": {
          "base_uri": "https://localhost:8080/"
        },
        "id": "uV7ZIus7M9a5",
        "outputId": "1f2bed97-9ef8-4300-9921-ad84b7029503"
      },
      "execution_count": 96,
      "outputs": [
        {
          "output_type": "execute_result",
          "data": {
            "text/plain": [
              "Index(['quantity_tons', 'customer', 'country', 'status', 'application',\n",
              "       'thickness', 'width', 'product_ref', 'selling_price', 'days_between',\n",
              "       'item_type_IPL', 'item_type_Others', 'item_type_PL', 'item_type_S',\n",
              "       'item_type_SLAWR', 'item_type_W', 'item_type_WI', 'item_type_IPL\\t'],\n",
              "      dtype='object')"
            ]
          },
          "metadata": {},
          "execution_count": 96
        }
      ]
    },
    {
      "cell_type": "code",
      "source": [],
      "metadata": {
        "id": "pwAMQR8LNQXR"
      },
      "execution_count": null,
      "outputs": []
    },
    {
      "cell_type": "code",
      "source": [
        "# Training for classification model\n",
        "\n",
        "y = df['status']\n",
        "x = df.drop(['status'],axis=1)\n"
      ],
      "metadata": {
        "id": "Gmt58WBiwokH"
      },
      "execution_count": 57,
      "outputs": []
    },
    {
      "cell_type": "code",
      "source": [
        "from sklearn.model_selection import train_test_split\n",
        "x_train, x_test, y_train, y_test = train_test_split(x, y, test_size = 0.20)"
      ],
      "metadata": {
        "id": "lyfcYNS0NqyT"
      },
      "execution_count": 58,
      "outputs": []
    },
    {
      "cell_type": "code",
      "source": [
        "# RandomForest classifier\n",
        "from sklearn.ensemble import RandomForestClassifier\n",
        "max_depth = np.array([2,4,6,7,8,10,12,14,16,17,20])\n",
        "cross_val = []\n",
        "for i in max_depth:\n",
        "  rf_classifier = RandomForestClassifier(max_depth=i,random_state=0)\n",
        "  rf_classifier.fit(x_train,y_train)\n",
        "  rf_classifier_mean = cross_val_score(rf_classifier,x_train,y_train,cv=10).mean()\n",
        "  print(\"Depth : \",i,\"cross_val_score : \",rf_classifier_mean)\n",
        "  cross_val.append(rf_classifier_mean)"
      ],
      "metadata": {
        "colab": {
          "base_uri": "https://localhost:8080/"
        },
        "id": "iHVFYbrTQHgo",
        "outputId": "4dfd6272-2c6d-450f-a38d-c0c7f2be64f8"
      },
      "execution_count": 61,
      "outputs": [
        {
          "output_type": "stream",
          "name": "stdout",
          "text": [
            "Depth :  2 cross_val_score :  0.7504142883446879\n",
            "Depth :  4 cross_val_score :  0.7882802430491622\n",
            "Depth :  6 cross_val_score :  0.815512796906647\n",
            "Depth :  7 cross_val_score :  0.8223899834284663\n",
            "Depth :  8 cross_val_score :  0.8348646658074019\n",
            "Depth :  10 cross_val_score :  0.861333087829129\n",
            "Depth :  12 cross_val_score :  0.8945498066654392\n",
            "Depth :  14 cross_val_score :  0.9228595102191125\n",
            "Depth :  16 cross_val_score :  0.9422574111581661\n",
            "Depth :  17 cross_val_score :  0.9480758607991161\n",
            "Depth :  20 cross_val_score :  0.956987663413736\n"
          ]
        }
      ]
    },
    {
      "cell_type": "code",
      "source": [
        "max_mean_score = max(cross_val)\n",
        "best_rf_index = cross_val.index(max_mean_score)\n",
        "best_rf_value = max_depth[best_rf_index]\n",
        "\n",
        "print(\"Best rf value:\", best_rf_value)\n",
        "print(\"Maximum mean cross-validation score:\", max_mean_score)\n"
      ],
      "metadata": {
        "colab": {
          "base_uri": "https://localhost:8080/"
        },
        "id": "gdWdwZkXQy-q",
        "outputId": "9eb6c130-65be-4d7c-fb1c-1a4614d69306"
      },
      "execution_count": 62,
      "outputs": [
        {
          "output_type": "stream",
          "name": "stdout",
          "text": [
            "Best rf value: 20\n",
            "Maximum mean cross-validation score: 0.956987663413736\n"
          ]
        }
      ]
    },
    {
      "cell_type": "code",
      "source": [
        "# implementing\n",
        "rf_classifier = RandomForestClassifier(max_depth=20,random_state=0)\n",
        "rf_classifier.fit(x_train,y_train)\n"
      ],
      "metadata": {
        "colab": {
          "base_uri": "https://localhost:8080/",
          "height": 75
        },
        "id": "-oQNtHNkWY7u",
        "outputId": "7ddf0164-c5af-45f4-87ca-99b1bb313bc0"
      },
      "execution_count": 64,
      "outputs": [
        {
          "output_type": "execute_result",
          "data": {
            "text/plain": [
              "RandomForestClassifier(max_depth=20, random_state=0)"
            ],
            "text/html": [
              "<style>#sk-container-id-1 {color: black;background-color: white;}#sk-container-id-1 pre{padding: 0;}#sk-container-id-1 div.sk-toggleable {background-color: white;}#sk-container-id-1 label.sk-toggleable__label {cursor: pointer;display: block;width: 100%;margin-bottom: 0;padding: 0.3em;box-sizing: border-box;text-align: center;}#sk-container-id-1 label.sk-toggleable__label-arrow:before {content: \"▸\";float: left;margin-right: 0.25em;color: #696969;}#sk-container-id-1 label.sk-toggleable__label-arrow:hover:before {color: black;}#sk-container-id-1 div.sk-estimator:hover label.sk-toggleable__label-arrow:before {color: black;}#sk-container-id-1 div.sk-toggleable__content {max-height: 0;max-width: 0;overflow: hidden;text-align: left;background-color: #f0f8ff;}#sk-container-id-1 div.sk-toggleable__content pre {margin: 0.2em;color: black;border-radius: 0.25em;background-color: #f0f8ff;}#sk-container-id-1 input.sk-toggleable__control:checked~div.sk-toggleable__content {max-height: 200px;max-width: 100%;overflow: auto;}#sk-container-id-1 input.sk-toggleable__control:checked~label.sk-toggleable__label-arrow:before {content: \"▾\";}#sk-container-id-1 div.sk-estimator input.sk-toggleable__control:checked~label.sk-toggleable__label {background-color: #d4ebff;}#sk-container-id-1 div.sk-label input.sk-toggleable__control:checked~label.sk-toggleable__label {background-color: #d4ebff;}#sk-container-id-1 input.sk-hidden--visually {border: 0;clip: rect(1px 1px 1px 1px);clip: rect(1px, 1px, 1px, 1px);height: 1px;margin: -1px;overflow: hidden;padding: 0;position: absolute;width: 1px;}#sk-container-id-1 div.sk-estimator {font-family: monospace;background-color: #f0f8ff;border: 1px dotted black;border-radius: 0.25em;box-sizing: border-box;margin-bottom: 0.5em;}#sk-container-id-1 div.sk-estimator:hover {background-color: #d4ebff;}#sk-container-id-1 div.sk-parallel-item::after {content: \"\";width: 100%;border-bottom: 1px solid gray;flex-grow: 1;}#sk-container-id-1 div.sk-label:hover label.sk-toggleable__label {background-color: #d4ebff;}#sk-container-id-1 div.sk-serial::before {content: \"\";position: absolute;border-left: 1px solid gray;box-sizing: border-box;top: 0;bottom: 0;left: 50%;z-index: 0;}#sk-container-id-1 div.sk-serial {display: flex;flex-direction: column;align-items: center;background-color: white;padding-right: 0.2em;padding-left: 0.2em;position: relative;}#sk-container-id-1 div.sk-item {position: relative;z-index: 1;}#sk-container-id-1 div.sk-parallel {display: flex;align-items: stretch;justify-content: center;background-color: white;position: relative;}#sk-container-id-1 div.sk-item::before, #sk-container-id-1 div.sk-parallel-item::before {content: \"\";position: absolute;border-left: 1px solid gray;box-sizing: border-box;top: 0;bottom: 0;left: 50%;z-index: -1;}#sk-container-id-1 div.sk-parallel-item {display: flex;flex-direction: column;z-index: 1;position: relative;background-color: white;}#sk-container-id-1 div.sk-parallel-item:first-child::after {align-self: flex-end;width: 50%;}#sk-container-id-1 div.sk-parallel-item:last-child::after {align-self: flex-start;width: 50%;}#sk-container-id-1 div.sk-parallel-item:only-child::after {width: 0;}#sk-container-id-1 div.sk-dashed-wrapped {border: 1px dashed gray;margin: 0 0.4em 0.5em 0.4em;box-sizing: border-box;padding-bottom: 0.4em;background-color: white;}#sk-container-id-1 div.sk-label label {font-family: monospace;font-weight: bold;display: inline-block;line-height: 1.2em;}#sk-container-id-1 div.sk-label-container {text-align: center;}#sk-container-id-1 div.sk-container {/* jupyter's `normalize.less` sets `[hidden] { display: none; }` but bootstrap.min.css set `[hidden] { display: none !important; }` so we also need the `!important` here to be able to override the default hidden behavior on the sphinx rendered scikit-learn.org. See: https://github.com/scikit-learn/scikit-learn/issues/21755 */display: inline-block !important;position: relative;}#sk-container-id-1 div.sk-text-repr-fallback {display: none;}</style><div id=\"sk-container-id-1\" class=\"sk-top-container\"><div class=\"sk-text-repr-fallback\"><pre>RandomForestClassifier(max_depth=20, random_state=0)</pre><b>In a Jupyter environment, please rerun this cell to show the HTML representation or trust the notebook. <br />On GitHub, the HTML representation is unable to render, please try loading this page with nbviewer.org.</b></div><div class=\"sk-container\" hidden><div class=\"sk-item\"><div class=\"sk-estimator sk-toggleable\"><input class=\"sk-toggleable__control sk-hidden--visually\" id=\"sk-estimator-id-1\" type=\"checkbox\" checked><label for=\"sk-estimator-id-1\" class=\"sk-toggleable__label sk-toggleable__label-arrow\">RandomForestClassifier</label><div class=\"sk-toggleable__content\"><pre>RandomForestClassifier(max_depth=20, random_state=0)</pre></div></div></div></div></div>"
            ]
          },
          "metadata": {},
          "execution_count": 64
        }
      ]
    },
    {
      "cell_type": "code",
      "source": [
        "cross_val_class = cross_val_score(rf_classifier,x_train,y_train,cv=10).mean()\n",
        "cross_val_class"
      ],
      "metadata": {
        "colab": {
          "base_uri": "https://localhost:8080/"
        },
        "id": "tcuC2NsoWlJy",
        "outputId": "73c29097-8770-4030-ceaa-9b6c20c2c268"
      },
      "execution_count": 65,
      "outputs": [
        {
          "output_type": "execute_result",
          "data": {
            "text/plain": [
              "0.956987663413736"
            ]
          },
          "metadata": {},
          "execution_count": 65
        }
      ]
    },
    {
      "cell_type": "code",
      "source": [
        "# **Extreme Gradient Boosting classifier**\n",
        "import xgboost as xgb\n",
        "\n",
        "cross_val_xgb = []\n",
        "for lr in [0.01,0.05,0.08,0.1,0.2]:\n",
        "  xgb_classifier = xgb.XGBClassifier(learning_rate = lr,n_estimators=100)\n",
        "  xgb_classifier.fit(x_train_scaled,y_train)\n",
        "  xgb_max_mean = cross_val_score(xgb_classifier,x_train_scaled,y_train,cv=10).mean()\n",
        "  print(\"Learning rate : \",lr,\"cross_val_score\", xgb_max_mean)\n",
        "  cross_val_xgb.append(xgb_max_mean)\n"
      ],
      "metadata": {
        "colab": {
          "base_uri": "https://localhost:8080/"
        },
        "id": "e_D2E7g4WuEd",
        "outputId": "343bddb5-9f81-486a-de5e-19b159b1d211"
      },
      "execution_count": 66,
      "outputs": [
        {
          "output_type": "stream",
          "name": "stdout",
          "text": [
            "Learning rate :  0.01 cross_val_score 0.8153470815687719\n",
            "Learning rate :  0.05 cross_val_score 0.861811821027435\n",
            "Learning rate :  0.08 cross_val_score 0.8752531762106426\n",
            "Learning rate :  0.1 cross_val_score 0.8825906831154484\n",
            "Learning rate :  0.2 cross_val_score 0.9091603756214324\n"
          ]
        }
      ]
    },
    {
      "cell_type": "code",
      "source": [
        "max_mean_score = max(cross_val_xgb)\n",
        "best_xgb_index = cross_val_xgb.index(max_mean_score)\n",
        "best_xgb_value = [0.01,0.05,0.08,0.1,0.2][best_xgb_index]\n",
        "\n",
        "print(\"Best k value:\", best_xgb_value)\n",
        "print(\"Maximum mean cross-validation score:\", max_mean_score)"
      ],
      "metadata": {
        "colab": {
          "base_uri": "https://localhost:8080/"
        },
        "id": "14B28SRQXEsN",
        "outputId": "7e1121dd-ad85-4d31-f8ad-54f3b52a82b7"
      },
      "execution_count": 70,
      "outputs": [
        {
          "output_type": "stream",
          "name": "stdout",
          "text": [
            "Best k value: 0.2\n",
            "Maximum mean cross-validation score: 0.9091603756214324\n"
          ]
        }
      ]
    },
    {
      "cell_type": "code",
      "source": [
        "# implementing\n",
        "xgb_classifier = xgb.XGBClassifier(learning_rate =0.2,n_estimators=100)\n",
        "xgb_classifier.fit(x_train_scaled,y_train)"
      ],
      "metadata": {
        "colab": {
          "base_uri": "https://localhost:8080/",
          "height": 248
        },
        "id": "EOyMl1eCXS7t",
        "outputId": "763d51e6-4c25-4ef6-f2fc-122742772304"
      },
      "execution_count": 72,
      "outputs": [
        {
          "output_type": "execute_result",
          "data": {
            "text/plain": [
              "XGBClassifier(base_score=None, booster=None, callbacks=None,\n",
              "              colsample_bylevel=None, colsample_bynode=None,\n",
              "              colsample_bytree=None, device=None, early_stopping_rounds=None,\n",
              "              enable_categorical=False, eval_metric=None, feature_types=None,\n",
              "              gamma=None, grow_policy=None, importance_type=None,\n",
              "              interaction_constraints=None, learning_rate=0.2, max_bin=None,\n",
              "              max_cat_threshold=None, max_cat_to_onehot=None,\n",
              "              max_delta_step=None, max_depth=None, max_leaves=None,\n",
              "              min_child_weight=None, missing=nan, monotone_constraints=None,\n",
              "              multi_strategy=None, n_estimators=100, n_jobs=None,\n",
              "              num_parallel_tree=None, random_state=None, ...)"
            ],
            "text/html": [
              "<style>#sk-container-id-2 {color: black;background-color: white;}#sk-container-id-2 pre{padding: 0;}#sk-container-id-2 div.sk-toggleable {background-color: white;}#sk-container-id-2 label.sk-toggleable__label {cursor: pointer;display: block;width: 100%;margin-bottom: 0;padding: 0.3em;box-sizing: border-box;text-align: center;}#sk-container-id-2 label.sk-toggleable__label-arrow:before {content: \"▸\";float: left;margin-right: 0.25em;color: #696969;}#sk-container-id-2 label.sk-toggleable__label-arrow:hover:before {color: black;}#sk-container-id-2 div.sk-estimator:hover label.sk-toggleable__label-arrow:before {color: black;}#sk-container-id-2 div.sk-toggleable__content {max-height: 0;max-width: 0;overflow: hidden;text-align: left;background-color: #f0f8ff;}#sk-container-id-2 div.sk-toggleable__content pre {margin: 0.2em;color: black;border-radius: 0.25em;background-color: #f0f8ff;}#sk-container-id-2 input.sk-toggleable__control:checked~div.sk-toggleable__content {max-height: 200px;max-width: 100%;overflow: auto;}#sk-container-id-2 input.sk-toggleable__control:checked~label.sk-toggleable__label-arrow:before {content: \"▾\";}#sk-container-id-2 div.sk-estimator input.sk-toggleable__control:checked~label.sk-toggleable__label {background-color: #d4ebff;}#sk-container-id-2 div.sk-label input.sk-toggleable__control:checked~label.sk-toggleable__label {background-color: #d4ebff;}#sk-container-id-2 input.sk-hidden--visually {border: 0;clip: rect(1px 1px 1px 1px);clip: rect(1px, 1px, 1px, 1px);height: 1px;margin: -1px;overflow: hidden;padding: 0;position: absolute;width: 1px;}#sk-container-id-2 div.sk-estimator {font-family: monospace;background-color: #f0f8ff;border: 1px dotted black;border-radius: 0.25em;box-sizing: border-box;margin-bottom: 0.5em;}#sk-container-id-2 div.sk-estimator:hover {background-color: #d4ebff;}#sk-container-id-2 div.sk-parallel-item::after {content: \"\";width: 100%;border-bottom: 1px solid gray;flex-grow: 1;}#sk-container-id-2 div.sk-label:hover label.sk-toggleable__label {background-color: #d4ebff;}#sk-container-id-2 div.sk-serial::before {content: \"\";position: absolute;border-left: 1px solid gray;box-sizing: border-box;top: 0;bottom: 0;left: 50%;z-index: 0;}#sk-container-id-2 div.sk-serial {display: flex;flex-direction: column;align-items: center;background-color: white;padding-right: 0.2em;padding-left: 0.2em;position: relative;}#sk-container-id-2 div.sk-item {position: relative;z-index: 1;}#sk-container-id-2 div.sk-parallel {display: flex;align-items: stretch;justify-content: center;background-color: white;position: relative;}#sk-container-id-2 div.sk-item::before, #sk-container-id-2 div.sk-parallel-item::before {content: \"\";position: absolute;border-left: 1px solid gray;box-sizing: border-box;top: 0;bottom: 0;left: 50%;z-index: -1;}#sk-container-id-2 div.sk-parallel-item {display: flex;flex-direction: column;z-index: 1;position: relative;background-color: white;}#sk-container-id-2 div.sk-parallel-item:first-child::after {align-self: flex-end;width: 50%;}#sk-container-id-2 div.sk-parallel-item:last-child::after {align-self: flex-start;width: 50%;}#sk-container-id-2 div.sk-parallel-item:only-child::after {width: 0;}#sk-container-id-2 div.sk-dashed-wrapped {border: 1px dashed gray;margin: 0 0.4em 0.5em 0.4em;box-sizing: border-box;padding-bottom: 0.4em;background-color: white;}#sk-container-id-2 div.sk-label label {font-family: monospace;font-weight: bold;display: inline-block;line-height: 1.2em;}#sk-container-id-2 div.sk-label-container {text-align: center;}#sk-container-id-2 div.sk-container {/* jupyter's `normalize.less` sets `[hidden] { display: none; }` but bootstrap.min.css set `[hidden] { display: none !important; }` so we also need the `!important` here to be able to override the default hidden behavior on the sphinx rendered scikit-learn.org. See: https://github.com/scikit-learn/scikit-learn/issues/21755 */display: inline-block !important;position: relative;}#sk-container-id-2 div.sk-text-repr-fallback {display: none;}</style><div id=\"sk-container-id-2\" class=\"sk-top-container\"><div class=\"sk-text-repr-fallback\"><pre>XGBClassifier(base_score=None, booster=None, callbacks=None,\n",
              "              colsample_bylevel=None, colsample_bynode=None,\n",
              "              colsample_bytree=None, device=None, early_stopping_rounds=None,\n",
              "              enable_categorical=False, eval_metric=None, feature_types=None,\n",
              "              gamma=None, grow_policy=None, importance_type=None,\n",
              "              interaction_constraints=None, learning_rate=0.2, max_bin=None,\n",
              "              max_cat_threshold=None, max_cat_to_onehot=None,\n",
              "              max_delta_step=None, max_depth=None, max_leaves=None,\n",
              "              min_child_weight=None, missing=nan, monotone_constraints=None,\n",
              "              multi_strategy=None, n_estimators=100, n_jobs=None,\n",
              "              num_parallel_tree=None, random_state=None, ...)</pre><b>In a Jupyter environment, please rerun this cell to show the HTML representation or trust the notebook. <br />On GitHub, the HTML representation is unable to render, please try loading this page with nbviewer.org.</b></div><div class=\"sk-container\" hidden><div class=\"sk-item\"><div class=\"sk-estimator sk-toggleable\"><input class=\"sk-toggleable__control sk-hidden--visually\" id=\"sk-estimator-id-2\" type=\"checkbox\" checked><label for=\"sk-estimator-id-2\" class=\"sk-toggleable__label sk-toggleable__label-arrow\">XGBClassifier</label><div class=\"sk-toggleable__content\"><pre>XGBClassifier(base_score=None, booster=None, callbacks=None,\n",
              "              colsample_bylevel=None, colsample_bynode=None,\n",
              "              colsample_bytree=None, device=None, early_stopping_rounds=None,\n",
              "              enable_categorical=False, eval_metric=None, feature_types=None,\n",
              "              gamma=None, grow_policy=None, importance_type=None,\n",
              "              interaction_constraints=None, learning_rate=0.2, max_bin=None,\n",
              "              max_cat_threshold=None, max_cat_to_onehot=None,\n",
              "              max_delta_step=None, max_depth=None, max_leaves=None,\n",
              "              min_child_weight=None, missing=nan, monotone_constraints=None,\n",
              "              multi_strategy=None, n_estimators=100, n_jobs=None,\n",
              "              num_parallel_tree=None, random_state=None, ...)</pre></div></div></div></div></div>"
            ]
          },
          "metadata": {},
          "execution_count": 72
        }
      ]
    },
    {
      "cell_type": "code",
      "source": [
        "cross_val_xgb_classifier = cross_val_score(xgb_classifier,x_train,y_train,cv=10).mean()\n",
        "cross_val_xgb_classifier"
      ],
      "metadata": {
        "colab": {
          "base_uri": "https://localhost:8080/"
        },
        "id": "N0yOimZ_XZpv",
        "outputId": "2ccda4ac-1689-403e-83b8-ff78d4b1cf3e"
      },
      "execution_count": 73,
      "outputs": [
        {
          "output_type": "execute_result",
          "data": {
            "text/plain": [
              "0.9099889523108085"
            ]
          },
          "metadata": {},
          "execution_count": 73
        }
      ]
    },
    {
      "cell_type": "code",
      "source": [
        "#Descision Tree classification\n",
        "\n",
        "from sklearn.tree import DecisionTreeClassifier\n",
        "\n",
        "depth_values = np.arange(1,30)\n",
        "cross_val_scores = []\n",
        "\n",
        "# Perform cross-validation for each value of max_depth\n",
        "for d in depth_values:\n",
        "    dt_classifier = DecisionTreeClassifier(max_depth=d, random_state=0)\n",
        "\n",
        "    # Fit the model\n",
        "    dt_classifier.fit(x_train_scaled, y_train)\n",
        "\n",
        "    # Calculate cross-validation scores\n",
        "    cv_scores = cross_val_score(dt_classifier, x_train_scaled, y_train, cv=10)\n",
        "    mean_cv_score = cv_scores.mean()\n",
        "\n",
        "    # Print the results\n",
        "    print(\"Depth value:\", d, \"Train score:\", dt_classifier.score(x_train_scaled, y_train), \"Cross-validation score:\", mean_cv_score)\n",
        "\n",
        "    # Store the mean cross-validation score\n",
        "    cross_val_scores.append(mean_cv_score)\n",
        ""
      ],
      "metadata": {
        "colab": {
          "base_uri": "https://localhost:8080/"
        },
        "id": "St8jb89jc1tY",
        "outputId": "8fc01446-575f-4125-9ced-df3800b68173"
      },
      "execution_count": 74,
      "outputs": [
        {
          "output_type": "stream",
          "name": "stdout",
          "text": [
            "Depth value: 1 Train score: 0.7504142883446879 Cross-validation score: 0.7504142883446879\n",
            "Depth value: 2 Train score: 0.752531762106426 Cross-validation score: 0.752531762106426\n",
            "Depth value: 3 Train score: 0.7779138280243049 Cross-validation score: 0.7778585895783465\n",
            "Depth value: 4 Train score: 0.7819922666175658 Cross-validation score: 0.7797919351868899\n",
            "Depth value: 5 Train score: 0.7993739642791383 Cross-validation score: 0.7976891916774076\n",
            "Depth value: 6 Train score: 0.8121708709261646 Cross-validation score: 0.8102191125023017\n",
            "Depth value: 7 Train score: 0.8292027250966673 Cross-validation score: 0.8274258884183391\n",
            "Depth value: 8 Train score: 0.845479653839072 Cross-validation score: 0.8432793224083962\n",
            "Depth value: 9 Train score: 0.8609464187074204 Cross-validation score: 0.8592892653286688\n",
            "Depth value: 10 Train score: 0.8773246179340821 Cross-validation score: 0.8733566562327381\n",
            "Depth value: 11 Train score: 0.8944117105505431 Cross-validation score: 0.8841005339716442\n",
            "Depth value: 12 Train score: 0.9117934082121156 Cross-validation score: 0.8971276008101638\n",
            "Depth value: 13 Train score: 0.9275547781255754 Cross-validation score: 0.9069140121524581\n",
            "Depth value: 14 Train score: 0.940784385932609 Cross-validation score: 0.9156232737985637\n",
            "Depth value: 15 Train score: 0.9546400294605045 Cross-validation score: 0.9242588841833916\n",
            "Depth value: 16 Train score: 0.9660099429202725 Cross-validation score: 0.9312833732277666\n",
            "Depth value: 17 Train score: 0.9746455533051004 Cross-validation score: 0.9352513349291106\n",
            "Depth value: 18 Train score: 0.9821027435094826 Cross-validation score: 0.9391088197385381\n",
            "Depth value: 19 Train score: 0.9873135702448904 Cross-validation score: 0.9417694715522004\n",
            "Depth value: 20 Train score: 0.9914840729147487 Cross-validation score: 0.9423770944577425\n",
            "Depth value: 21 Train score: 0.9943104400662861 Cross-validation score: 0.942671699502854\n",
            "Depth value: 22 Train score: 0.9962069600441907 Cross-validation score: 0.9438040876450009\n",
            "Depth value: 23 Train score: 0.9976247468237893 Cross-validation score: 0.9434358313386116\n",
            "Depth value: 24 Train score: 0.9986374516663598 Cross-validation score: 0.9440342478364941\n",
            "Depth value: 25 Train score: 0.9991806297182839 Cross-validation score: 0.9442091695820289\n",
            "Depth value: 26 Train score: 0.999558092432333 Cross-validation score: 0.9441355183207513\n",
            "Depth value: 27 Train score: 0.9998066654391456 Cross-validation score: 0.943868532498619\n",
            "Depth value: 28 Train score: 0.9999171423310624 Cross-validation score: 0.9440250414288345\n",
            "Depth value: 29 Train score: 0.9999447615540417 Cross-validation score: 0.9440158350211748\n"
          ]
        }
      ]
    },
    {
      "cell_type": "code",
      "execution_count": 78,
      "metadata": {
        "colab": {
          "base_uri": "https://localhost:8080/"
        },
        "id": "QmNgf0Nve7-1",
        "outputId": "1b63ffdd-942c-431e-930c-521244e17a24"
      },
      "outputs": [
        {
          "output_type": "stream",
          "name": "stdout",
          "text": [
            "Best k value: 25\n",
            "Maximum mean cross-validation score: 0.9442091695820289\n"
          ]
        }
      ],
      "source": [
        "\n",
        "# Find the max cross-validation score and the corresponding depth value\n",
        "max_mean_score = max(cross_val_scores)\n",
        "best_depth_index = cross_val_scores.index(max_mean_score)\n",
        "best_depth_value = depth_values[best_depth_index]\n",
        "\n",
        "print(\"Best k value:\", best_depth_value)\n",
        "print(\"Maximum mean cross-validation score:\", max_mean_score)\n"
      ]
    },
    {
      "cell_type": "code",
      "source": [
        "# implementing\n",
        "dt_classifier = DecisionTreeClassifier(max_depth=25, random_state=0)\n",
        "\n",
        "# Fit the model\n",
        "dt_classifier.fit(x_train_scaled, y_train)\n"
      ],
      "metadata": {
        "colab": {
          "base_uri": "https://localhost:8080/",
          "height": 75
        },
        "id": "Y5piaReMgqWr",
        "outputId": "452cd8ac-49a2-4fa7-b667-7df3f2efbcbc"
      },
      "execution_count": 79,
      "outputs": [
        {
          "output_type": "execute_result",
          "data": {
            "text/plain": [
              "DecisionTreeClassifier(max_depth=25, random_state=0)"
            ],
            "text/html": [
              "<style>#sk-container-id-3 {color: black;background-color: white;}#sk-container-id-3 pre{padding: 0;}#sk-container-id-3 div.sk-toggleable {background-color: white;}#sk-container-id-3 label.sk-toggleable__label {cursor: pointer;display: block;width: 100%;margin-bottom: 0;padding: 0.3em;box-sizing: border-box;text-align: center;}#sk-container-id-3 label.sk-toggleable__label-arrow:before {content: \"▸\";float: left;margin-right: 0.25em;color: #696969;}#sk-container-id-3 label.sk-toggleable__label-arrow:hover:before {color: black;}#sk-container-id-3 div.sk-estimator:hover label.sk-toggleable__label-arrow:before {color: black;}#sk-container-id-3 div.sk-toggleable__content {max-height: 0;max-width: 0;overflow: hidden;text-align: left;background-color: #f0f8ff;}#sk-container-id-3 div.sk-toggleable__content pre {margin: 0.2em;color: black;border-radius: 0.25em;background-color: #f0f8ff;}#sk-container-id-3 input.sk-toggleable__control:checked~div.sk-toggleable__content {max-height: 200px;max-width: 100%;overflow: auto;}#sk-container-id-3 input.sk-toggleable__control:checked~label.sk-toggleable__label-arrow:before {content: \"▾\";}#sk-container-id-3 div.sk-estimator input.sk-toggleable__control:checked~label.sk-toggleable__label {background-color: #d4ebff;}#sk-container-id-3 div.sk-label input.sk-toggleable__control:checked~label.sk-toggleable__label {background-color: #d4ebff;}#sk-container-id-3 input.sk-hidden--visually {border: 0;clip: rect(1px 1px 1px 1px);clip: rect(1px, 1px, 1px, 1px);height: 1px;margin: -1px;overflow: hidden;padding: 0;position: absolute;width: 1px;}#sk-container-id-3 div.sk-estimator {font-family: monospace;background-color: #f0f8ff;border: 1px dotted black;border-radius: 0.25em;box-sizing: border-box;margin-bottom: 0.5em;}#sk-container-id-3 div.sk-estimator:hover {background-color: #d4ebff;}#sk-container-id-3 div.sk-parallel-item::after {content: \"\";width: 100%;border-bottom: 1px solid gray;flex-grow: 1;}#sk-container-id-3 div.sk-label:hover label.sk-toggleable__label {background-color: #d4ebff;}#sk-container-id-3 div.sk-serial::before {content: \"\";position: absolute;border-left: 1px solid gray;box-sizing: border-box;top: 0;bottom: 0;left: 50%;z-index: 0;}#sk-container-id-3 div.sk-serial {display: flex;flex-direction: column;align-items: center;background-color: white;padding-right: 0.2em;padding-left: 0.2em;position: relative;}#sk-container-id-3 div.sk-item {position: relative;z-index: 1;}#sk-container-id-3 div.sk-parallel {display: flex;align-items: stretch;justify-content: center;background-color: white;position: relative;}#sk-container-id-3 div.sk-item::before, #sk-container-id-3 div.sk-parallel-item::before {content: \"\";position: absolute;border-left: 1px solid gray;box-sizing: border-box;top: 0;bottom: 0;left: 50%;z-index: -1;}#sk-container-id-3 div.sk-parallel-item {display: flex;flex-direction: column;z-index: 1;position: relative;background-color: white;}#sk-container-id-3 div.sk-parallel-item:first-child::after {align-self: flex-end;width: 50%;}#sk-container-id-3 div.sk-parallel-item:last-child::after {align-self: flex-start;width: 50%;}#sk-container-id-3 div.sk-parallel-item:only-child::after {width: 0;}#sk-container-id-3 div.sk-dashed-wrapped {border: 1px dashed gray;margin: 0 0.4em 0.5em 0.4em;box-sizing: border-box;padding-bottom: 0.4em;background-color: white;}#sk-container-id-3 div.sk-label label {font-family: monospace;font-weight: bold;display: inline-block;line-height: 1.2em;}#sk-container-id-3 div.sk-label-container {text-align: center;}#sk-container-id-3 div.sk-container {/* jupyter's `normalize.less` sets `[hidden] { display: none; }` but bootstrap.min.css set `[hidden] { display: none !important; }` so we also need the `!important` here to be able to override the default hidden behavior on the sphinx rendered scikit-learn.org. See: https://github.com/scikit-learn/scikit-learn/issues/21755 */display: inline-block !important;position: relative;}#sk-container-id-3 div.sk-text-repr-fallback {display: none;}</style><div id=\"sk-container-id-3\" class=\"sk-top-container\"><div class=\"sk-text-repr-fallback\"><pre>DecisionTreeClassifier(max_depth=25, random_state=0)</pre><b>In a Jupyter environment, please rerun this cell to show the HTML representation or trust the notebook. <br />On GitHub, the HTML representation is unable to render, please try loading this page with nbviewer.org.</b></div><div class=\"sk-container\" hidden><div class=\"sk-item\"><div class=\"sk-estimator sk-toggleable\"><input class=\"sk-toggleable__control sk-hidden--visually\" id=\"sk-estimator-id-3\" type=\"checkbox\" checked><label for=\"sk-estimator-id-3\" class=\"sk-toggleable__label sk-toggleable__label-arrow\">DecisionTreeClassifier</label><div class=\"sk-toggleable__content\"><pre>DecisionTreeClassifier(max_depth=25, random_state=0)</pre></div></div></div></div></div>"
            ]
          },
          "metadata": {},
          "execution_count": 79
        }
      ]
    },
    {
      "cell_type": "code",
      "source": [
        "cross_val_dt_classifier = cross_val_score(dt_classifier,x_train_scaled,y_train,cv=10).mean()\n",
        "cross_val_dt_classifier"
      ],
      "metadata": {
        "colab": {
          "base_uri": "https://localhost:8080/"
        },
        "id": "uY6sXhOfg-xM",
        "outputId": "e71d901b-8649-4922-99e7-d48c34d53ae2"
      },
      "execution_count": 81,
      "outputs": [
        {
          "output_type": "execute_result",
          "data": {
            "text/plain": [
              "0.9442091695820289"
            ]
          },
          "metadata": {},
          "execution_count": 81
        }
      ]
    },
    {
      "cell_type": "code",
      "source": [
        "# cross validation score for machine learning models\n",
        "\n",
        "print(\"Cross Validation score for Decision Tree classification model : \",cross_val_dt_classifier)\n",
        "print(\"Cross Validation score for Random Forest classifcation model : \",cross_val_class)\n",
        "print(\"Cross Validation score for XGradient classification model : \",cross_val_xgb_classifier)"
      ],
      "metadata": {
        "colab": {
          "base_uri": "https://localhost:8080/"
        },
        "id": "O7gbgA7Fewog",
        "outputId": "187ec3d3-bc4f-4d7e-ff09-eacb5329176a"
      },
      "execution_count": 83,
      "outputs": [
        {
          "output_type": "stream",
          "name": "stdout",
          "text": [
            "Cross Validation score for Decision Tree classification model :  0.9442091695820289\n",
            "Cross Validation score for Random Forest classifcation model :  0.956987663413736\n",
            "Cross Validation score for XGradient classification model :  0.9099889523108085\n"
          ]
        }
      ]
    },
    {
      "cell_type": "code",
      "source": [
        "# Confusion Matrix, Accuracy, Recall, Precision and F1 score"
      ],
      "metadata": {
        "id": "RrO8T0VfiBhZ"
      },
      "execution_count": null,
      "outputs": []
    },
    {
      "cell_type": "code",
      "source": [
        "# metrices\n",
        "\n",
        "models = []\n",
        "models.append(('Decesion Tree',DecisionTreeClassifier()))\n",
        "models.append(('Random Forest',RandomForestClassifier()))\n",
        "models.append(('XGBoost',xgb.XGBClassifier()))"
      ],
      "metadata": {
        "id": "SlOb8AuZjsFG"
      },
      "execution_count": 87,
      "outputs": []
    },
    {
      "cell_type": "code",
      "source": [
        "from sklearn.metrics import accuracy_score,precision_score,recall_score,f1_score,confusion_matrix\n"
      ],
      "metadata": {
        "id": "L6x3Lz1Ui0ar"
      },
      "execution_count": 88,
      "outputs": []
    },
    {
      "cell_type": "code",
      "source": [
        "for name, model in models:\n",
        "  print(name,model)\n",
        "  print()\n",
        "  model.fit(x_train,y_train)\n",
        "  y_pred = model.predict(x_test)\n",
        "  print(\"confusion_matrix : \",confusion_matrix(y_test,y_pred))\n",
        "  print('\\n')\n",
        "  print(\"accuracy : \",accuracy_score(y_test,y_pred))\n",
        "  print('\\n')\n",
        "  print(\"precision : \",precision_score(y_test,y_pred))\n",
        "  print('\\n')\n",
        "  print(\"recall :\",recall_score(y_test,y_pred))\n",
        "  print('\\n')\n",
        "  print(\"f1 score : \",f1_score(y_test,y_pred))"
      ],
      "metadata": {
        "colab": {
          "base_uri": "https://localhost:8080/"
        },
        "id": "3rH40KljjrH4",
        "outputId": "a0d655ef-5448-4223-e640-5861dfceac78"
      },
      "execution_count": 89,
      "outputs": [
        {
          "output_type": "stream",
          "name": "stdout",
          "text": [
            "Decesion Tree DecisionTreeClassifier()\n",
            "\n",
            "confusion_matrix :  [[ 6075   617]\n",
            " [  771 19692]]\n",
            "\n",
            "\n",
            "accuracy :  0.9488860246731725\n",
            "\n",
            "\n",
            "precision :  0.9696193805701906\n",
            "\n",
            "\n",
            "recall : 0.9623222401407419\n",
            "\n",
            "\n",
            "f1 score :  0.9659570293338565\n",
            "Random Forest RandomForestClassifier()\n",
            "\n",
            "confusion_matrix :  [[ 6194   498]\n",
            " [  456 20007]]\n",
            "\n",
            "\n",
            "accuracy :  0.9648683483704659\n",
            "\n",
            "\n",
            "precision :  0.9757132406730066\n",
            "\n",
            "\n",
            "recall : 0.9777158774373259\n",
            "\n",
            "\n",
            "f1 score :  0.976713532513181\n",
            "XGBoost XGBClassifier(base_score=None, booster=None, callbacks=None,\n",
            "              colsample_bylevel=None, colsample_bynode=None,\n",
            "              colsample_bytree=None, device=None, early_stopping_rounds=None,\n",
            "              enable_categorical=False, eval_metric=None, feature_types=None,\n",
            "              gamma=None, grow_policy=None, importance_type=None,\n",
            "              interaction_constraints=None, learning_rate=None, max_bin=None,\n",
            "              max_cat_threshold=None, max_cat_to_onehot=None,\n",
            "              max_delta_step=None, max_depth=None, max_leaves=None,\n",
            "              min_child_weight=None, missing=nan, monotone_constraints=None,\n",
            "              multi_strategy=None, n_estimators=None, n_jobs=None,\n",
            "              num_parallel_tree=None, random_state=None, ...)\n",
            "\n",
            "confusion_matrix :  [[ 5473  1219]\n",
            " [  750 19713]]\n",
            "\n",
            "\n",
            "accuracy :  0.9274903332719573\n",
            "\n",
            "\n",
            "precision :  0.9417638066118861\n",
            "\n",
            "\n",
            "recall : 0.9633484826271808\n",
            "\n",
            "\n",
            "f1 score :  0.9524338688247372\n"
          ]
        }
      ]
    }
  ],
  "metadata": {
    "colab": {
      "provenance": [],
      "authorship_tag": "ABX9TyMNpqmaspjZYCMP9w4r9jSQ",
      "include_colab_link": true
    },
    "kernelspec": {
      "display_name": "Python 3",
      "name": "python3"
    },
    "language_info": {
      "name": "python"
    }
  },
  "nbformat": 4,
  "nbformat_minor": 0
}